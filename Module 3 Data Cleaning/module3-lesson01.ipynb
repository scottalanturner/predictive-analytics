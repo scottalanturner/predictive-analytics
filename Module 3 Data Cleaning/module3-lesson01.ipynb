{
 "cells": [
  {
   "cell_type": "markdown",
   "metadata": {},
   "source": [
    "# Detecting Data Quality Issues in Real-World Datasets\n",
    "\n",
    "This notebook will guide you through identifying common data quality problems that occur in real datasets. We'll work with a sample customer dataset that contains various intentional issues, and you'll learn how to systematically detect and document these problems."
   ]
  },
  {
   "cell_type": "markdown",
   "metadata": {},
   "source": [
    "## Import necessary libraries\n",
    "\n",
    "We'll use pandas for data manipulation, numpy for numerical operations, and matplotlib/seaborn for visualizations."
   ]
  },
  {
   "cell_type": "code",
   "execution_count": 44,
   "metadata": {},
   "outputs": [],
   "source": [
    "import pandas as pd\n",
    "import numpy as np\n",
    "import matplotlib.pyplot as plt\n",
    "import seaborn as sns\n",
    "\n",
    "# Set display options for better visibility\n",
    "pd.set_option('display.max_columns', None)\n",
    "pd.set_option('display.max_rows', 20)"
   ]
  },
  {
   "cell_type": "markdown",
   "metadata": {},
   "source": [
    "## Create sample dataset\n",
    "\n",
    "Let's create a customer transaction dataset that contains various data quality issues commonly found in real-world data."
   ]
  },
  {
   "cell_type": "code",
   "execution_count": 45,
   "metadata": {},
   "outputs": [
    {
     "name": "stdout",
     "output_type": "stream",
     "text": [
      "Dataset shape: (15, 7)\n"
     ]
    },
    {
     "data": {
      "text/html": [
       "<div>\n",
       "<style scoped>\n",
       "    .dataframe tbody tr th:only-of-type {\n",
       "        vertical-align: middle;\n",
       "    }\n",
       "\n",
       "    .dataframe tbody tr th {\n",
       "        vertical-align: top;\n",
       "    }\n",
       "\n",
       "    .dataframe thead th {\n",
       "        text-align: right;\n",
       "    }\n",
       "</style>\n",
       "<table border=\"1\" class=\"dataframe\">\n",
       "  <thead>\n",
       "    <tr style=\"text-align: right;\">\n",
       "      <th></th>\n",
       "      <th>customer_id</th>\n",
       "      <th>name</th>\n",
       "      <th>age</th>\n",
       "      <th>email</th>\n",
       "      <th>signup_date</th>\n",
       "      <th>purchase_amount</th>\n",
       "      <th>city</th>\n",
       "    </tr>\n",
       "  </thead>\n",
       "  <tbody>\n",
       "    <tr>\n",
       "      <th>0</th>\n",
       "      <td>101</td>\n",
       "      <td>John Smith</td>\n",
       "      <td>25</td>\n",
       "      <td>john@email.com</td>\n",
       "      <td>2023-01-15</td>\n",
       "      <td>150.00</td>\n",
       "      <td>New York</td>\n",
       "    </tr>\n",
       "    <tr>\n",
       "      <th>1</th>\n",
       "      <td>102</td>\n",
       "      <td>Jane Doe</td>\n",
       "      <td>32</td>\n",
       "      <td>jane@email.com</td>\n",
       "      <td>2023-02-20</td>\n",
       "      <td>200.50</td>\n",
       "      <td>Los Angeles</td>\n",
       "    </tr>\n",
       "    <tr>\n",
       "      <th>2</th>\n",
       "      <td>103</td>\n",
       "      <td>Bob Johnson</td>\n",
       "      <td>45</td>\n",
       "      <td>None</td>\n",
       "      <td>2023/03/10</td>\n",
       "      <td>75.25</td>\n",
       "      <td>Chicago</td>\n",
       "    </tr>\n",
       "    <tr>\n",
       "      <th>3</th>\n",
       "      <td>104</td>\n",
       "      <td>Alice Brown</td>\n",
       "      <td>28</td>\n",
       "      <td>alice@email</td>\n",
       "      <td>2023-04-05</td>\n",
       "      <td>NaN</td>\n",
       "      <td>Houston</td>\n",
       "    </tr>\n",
       "    <tr>\n",
       "      <th>4</th>\n",
       "      <td>105</td>\n",
       "      <td>Charlie Wilson</td>\n",
       "      <td>67</td>\n",
       "      <td>charlie@email.com</td>\n",
       "      <td>2023-05-12</td>\n",
       "      <td>500.00</td>\n",
       "      <td>Phoenix</td>\n",
       "    </tr>\n",
       "  </tbody>\n",
       "</table>\n",
       "</div>"
      ],
      "text/plain": [
       "   customer_id            name age              email signup_date  \\\n",
       "0          101      John Smith  25     john@email.com  2023-01-15   \n",
       "1          102        Jane Doe  32     jane@email.com  2023-02-20   \n",
       "2          103     Bob Johnson  45               None  2023/03/10   \n",
       "3          104     Alice Brown  28        alice@email  2023-04-05   \n",
       "4          105  Charlie Wilson  67  charlie@email.com  2023-05-12   \n",
       "\n",
       "   purchase_amount         city  \n",
       "0           150.00     New York  \n",
       "1           200.50  Los Angeles  \n",
       "2            75.25      Chicago  \n",
       "3              NaN      Houston  \n",
       "4           500.00      Phoenix  "
      ]
     },
     "execution_count": 45,
     "metadata": {},
     "output_type": "execute_result"
    }
   ],
   "source": [
    "# Create a messy dataset with various data quality issues\n",
    "np.random.seed(42)  # For reproducibility\n",
    "\n",
    "data = {\n",
    "    'customer_id': [101, 102, 103, 104, 105, 106, 107, 108, 109, 110, 111, 112, 103, 114, 115],\n",
    "    'name': ['John Smith', 'Jane Doe', 'Bob Johnson', 'Alice Brown', 'Charlie Wilson', \n",
    "             'Diana Prince', 'Eve Davis', 'Frank Miller', 'Grace Lee', 'Henry Taylor',\n",
    "             'Iris Chen', 'Jack White', 'Bob Johnson', 'John Smith ', 'Jane doe'],\n",
    "    'age': [25, 32, '45', 28, 67, 31, 5, 39, 42, 150, 35, 29, 45, 25, 32],\n",
    "    'email': ['john@email.com', 'jane@email.com', None, 'alice@email', 'charlie@email.com',\n",
    "              'diana@email.com', 'eve@email.com', 'frank@email.com', None, 'henry@email.com',\n",
    "              'iris@email.com', 'jack@email.com', 'bob2@email.com', 'john@email.com', None],\n",
    "    'signup_date': ['2023-01-15', '2023-02-20', '2023/03/10', '2023-04-05', '2023-05-12',\n",
    "                   '2023-06-18', '2023-07-22', '23-08-30', '2023-09-14', '2023-10-20',\n",
    "                   '2023-11-25', '2023-12-01', '2023-03-10', '2023-01-15', '2023-02-20'],\n",
    "    'purchase_amount': [150.00, 200.50, 75.25, None, 500.00, 125.75, 80.00, 950.00, \n",
    "                       210.30, 45.50, None, 320.00, 75.25, 150.00, 10000.00],\n",
    "    'city': ['New York', 'Los Angeles', 'Chicago', 'Houston', 'Phoenix', \n",
    "             'NY', 'San Antonio', 'San Diego', 'Dallas', 'San Jose',\n",
    "             'Austin', 'N.Y.', 'Chicago', 'New York', 'Los Angeles']\n",
    "}\n",
    "\n",
    "df = pd.DataFrame(data)\n",
    "print(f\"Dataset shape: {df.shape}\")\n",
    "df.head()"
   ]
  },
  {
   "cell_type": "markdown",
   "metadata": {},
   "source": [
    "## Section 1: Missing Data Detection\n",
    "\n",
    "Missing data is one of the most common data quality issues. Let's explore different ways to identify missing values in our dataset."
   ]
  },
  {
   "cell_type": "code",
   "execution_count": 46,
   "metadata": {},
   "outputs": [
    {
     "name": "stdout",
     "output_type": "stream",
     "text": [
      "<class 'pandas.core.frame.DataFrame'>\n",
      "RangeIndex: 15 entries, 0 to 14\n",
      "Data columns (total 7 columns):\n",
      " #   Column           Non-Null Count  Dtype  \n",
      "---  ------           --------------  -----  \n",
      " 0   customer_id      15 non-null     int64  \n",
      " 1   name             15 non-null     object \n",
      " 2   age              15 non-null     object \n",
      " 3   email            12 non-null     object \n",
      " 4   signup_date      15 non-null     object \n",
      " 5   purchase_amount  13 non-null     float64\n",
      " 6   city             15 non-null     object \n",
      "dtypes: float64(1), int64(1), object(5)\n",
      "memory usage: 972.0+ bytes\n"
     ]
    }
   ],
   "source": [
    "# Get basic information about the dataset\n",
    "df.info()"
   ]
  },
  {
   "cell_type": "code",
   "execution_count": 47,
   "metadata": {},
   "outputs": [
    {
     "name": "stdout",
     "output_type": "stream",
     "text": [
      "Missing Data Summary:\n",
      "                 Missing_Count  Percentage\n",
      "email                        3   20.000000\n",
      "purchase_amount              2   13.333333\n"
     ]
    }
   ],
   "source": [
    "# Check for missing values in each column\n",
    "missing_counts = df.isnull().sum()\n",
    "missing_percentage = (missing_counts / len(df)) * 100\n",
    "\n",
    "missing_summary = pd.DataFrame({\n",
    "    'Missing_Count': missing_counts,\n",
    "    'Percentage': missing_percentage\n",
    "})\n",
    "\n",
    "print(\"Missing Data Summary:\")\n",
    "print(missing_summary[missing_summary['Missing_Count'] > 0])"
   ]
  },
  {
   "cell_type": "code",
   "execution_count": 48,
   "metadata": {},
   "outputs": [
    {
     "data": {
      "image/png": "[encoded data removed]",
      "text/plain": [
       "<Figure size 1000x600 with 2 Axes>"
      ]
     },
     "metadata": {},
     "output_type": "display_data"
    }
   ],
   "source": [
    "# Visualize missing data patterns\n",
    "plt.figure(figsize=(10, 6))\n",
    "sns.heatmap(df.isnull(), cbar=True, yticklabels=False, cmap='viridis')\n",
    "plt.title('Missing Data Heatmap')\n",
    "plt.tight_layout()\n",
    "plt.show()"
   ]
  },
  {
   "cell_type": "markdown",
   "metadata": {},
   "source": [
    "### Exercise 1: Missing Data Analysis\n",
    "Based on the analysis above, answer these questions:\n",
    "1. Which columns have missing values?\n",
    "2. What percentage of data is missing in each column?\n",
    "3. Are there any patterns in the missing data?"
   ]
  },
  {
   "cell_type": "code",
   "execution_count": 49,
   "metadata": {},
   "outputs": [
    {
     "name": "stdout",
     "output_type": "stream",
     "text": [
      "Number of rows with at least one missing value: 5\n"
     ]
    },
    {
     "data": {
      "text/html": [
       "<div>\n",
       "<style scoped>\n",
       "    .dataframe tbody tr th:only-of-type {\n",
       "        vertical-align: middle;\n",
       "    }\n",
       "\n",
       "    .dataframe tbody tr th {\n",
       "        vertical-align: top;\n",
       "    }\n",
       "\n",
       "    .dataframe thead th {\n",
       "        text-align: right;\n",
       "    }\n",
       "</style>\n",
       "<table border=\"1\" class=\"dataframe\">\n",
       "  <thead>\n",
       "    <tr style=\"text-align: right;\">\n",
       "      <th></th>\n",
       "      <th>customer_id</th>\n",
       "      <th>name</th>\n",
       "      <th>age</th>\n",
       "      <th>email</th>\n",
       "      <th>signup_date</th>\n",
       "      <th>purchase_amount</th>\n",
       "      <th>city</th>\n",
       "    </tr>\n",
       "  </thead>\n",
       "  <tbody>\n",
       "    <tr>\n",
       "      <th>2</th>\n",
       "      <td>103</td>\n",
       "      <td>Bob Johnson</td>\n",
       "      <td>45</td>\n",
       "      <td>None</td>\n",
       "      <td>2023/03/10</td>\n",
       "      <td>75.25</td>\n",
       "      <td>Chicago</td>\n",
       "    </tr>\n",
       "    <tr>\n",
       "      <th>3</th>\n",
       "      <td>104</td>\n",
       "      <td>Alice Brown</td>\n",
       "      <td>28</td>\n",
       "      <td>alice@email</td>\n",
       "      <td>2023-04-05</td>\n",
       "      <td>NaN</td>\n",
       "      <td>Houston</td>\n",
       "    </tr>\n",
       "    <tr>\n",
       "      <th>8</th>\n",
       "      <td>109</td>\n",
       "      <td>Grace Lee</td>\n",
       "      <td>42</td>\n",
       "      <td>None</td>\n",
       "      <td>2023-09-14</td>\n",
       "      <td>210.30</td>\n",
       "      <td>Dallas</td>\n",
       "    </tr>\n",
       "    <tr>\n",
       "      <th>10</th>\n",
       "      <td>111</td>\n",
       "      <td>Iris Chen</td>\n",
       "      <td>35</td>\n",
       "      <td>iris@email.com</td>\n",
       "      <td>2023-11-25</td>\n",
       "      <td>NaN</td>\n",
       "      <td>Austin</td>\n",
       "    </tr>\n",
       "    <tr>\n",
       "      <th>14</th>\n",
       "      <td>115</td>\n",
       "      <td>Jane doe</td>\n",
       "      <td>32</td>\n",
       "      <td>None</td>\n",
       "      <td>2023-02-20</td>\n",
       "      <td>10000.00</td>\n",
       "      <td>Los Angeles</td>\n",
       "    </tr>\n",
       "  </tbody>\n",
       "</table>\n",
       "</div>"
      ],
      "text/plain": [
       "    customer_id         name age           email signup_date  purchase_amount  \\\n",
       "2           103  Bob Johnson  45            None  2023/03/10            75.25   \n",
       "3           104  Alice Brown  28     alice@email  2023-04-05              NaN   \n",
       "8           109    Grace Lee  42            None  2023-09-14           210.30   \n",
       "10          111    Iris Chen  35  iris@email.com  2023-11-25              NaN   \n",
       "14          115     Jane doe  32            None  2023-02-20         10000.00   \n",
       "\n",
       "           city  \n",
       "2       Chicago  \n",
       "3       Houston  \n",
       "8        Dallas  \n",
       "10       Austin  \n",
       "14  Los Angeles  "
      ]
     },
     "execution_count": 49,
     "metadata": {},
     "output_type": "execute_result"
    }
   ],
   "source": [
    "# Your code here - identify rows with any missing values\n",
    "rows_with_missing = df[df.isnull().any(axis=1)]\n",
    "print(f\"Number of rows with at least one missing value: {len(rows_with_missing)}\")\n",
    "rows_with_missing"
   ]
  },
  {
   "cell_type": "markdown",
   "metadata": {},
   "source": [
    "## Section 2: Identifying Duplicates\n",
    "\n",
    "Duplicate records can skew analysis results and indicate data collection or processing issues."
   ]
  },
  {
   "cell_type": "code",
   "execution_count": 50,
   "metadata": {},
   "outputs": [
    {
     "name": "stdout",
     "output_type": "stream",
     "text": [
      "Number of duplicate rows: 0\n"
     ]
    }
   ],
   "source": [
    "# Check for exact duplicate rows\n",
    "duplicate_rows = df[df.duplicated(keep=False)]\n",
    "print(f\"Number of duplicate rows: {len(duplicate_rows)}\")\n",
    "if len(duplicate_rows) > 0:\n",
    "    print(\"\\nDuplicate rows:\")\n",
    "    display(duplicate_rows.sort_values('customer_id'))"
   ]
  },
  {
   "cell_type": "code",
   "execution_count": 51,
   "metadata": {},
   "outputs": [
    {
     "name": "stdout",
     "output_type": "stream",
     "text": [
      "Records with duplicate customer IDs: 2\n"
     ]
    },
    {
     "data": {
      "text/html": [
       "<div>\n",
       "<style scoped>\n",
       "    .dataframe tbody tr th:only-of-type {\n",
       "        vertical-align: middle;\n",
       "    }\n",
       "\n",
       "    .dataframe tbody tr th {\n",
       "        vertical-align: top;\n",
       "    }\n",
       "\n",
       "    .dataframe thead th {\n",
       "        text-align: right;\n",
       "    }\n",
       "</style>\n",
       "<table border=\"1\" class=\"dataframe\">\n",
       "  <thead>\n",
       "    <tr style=\"text-align: right;\">\n",
       "      <th></th>\n",
       "      <th>customer_id</th>\n",
       "      <th>name</th>\n",
       "      <th>age</th>\n",
       "      <th>email</th>\n",
       "      <th>signup_date</th>\n",
       "      <th>purchase_amount</th>\n",
       "      <th>city</th>\n",
       "    </tr>\n",
       "  </thead>\n",
       "  <tbody>\n",
       "    <tr>\n",
       "      <th>2</th>\n",
       "      <td>103</td>\n",
       "      <td>Bob Johnson</td>\n",
       "      <td>45</td>\n",
       "      <td>None</td>\n",
       "      <td>2023/03/10</td>\n",
       "      <td>75.25</td>\n",
       "      <td>Chicago</td>\n",
       "    </tr>\n",
       "    <tr>\n",
       "      <th>12</th>\n",
       "      <td>103</td>\n",
       "      <td>Bob Johnson</td>\n",
       "      <td>45</td>\n",
       "      <td>bob2@email.com</td>\n",
       "      <td>2023-03-10</td>\n",
       "      <td>75.25</td>\n",
       "      <td>Chicago</td>\n",
       "    </tr>\n",
       "  </tbody>\n",
       "</table>\n",
       "</div>"
      ],
      "text/plain": [
       "    customer_id         name age           email signup_date  purchase_amount  \\\n",
       "2           103  Bob Johnson  45            None  2023/03/10            75.25   \n",
       "12          103  Bob Johnson  45  bob2@email.com  2023-03-10            75.25   \n",
       "\n",
       "       city  \n",
       "2   Chicago  \n",
       "12  Chicago  "
      ]
     },
     "metadata": {},
     "output_type": "display_data"
    }
   ],
   "source": [
    "# Check for duplicate customer IDs\n",
    "duplicate_ids = df[df.duplicated(subset=['customer_id'], keep=False)]\n",
    "print(f\"Records with duplicate customer IDs: {len(duplicate_ids)}\")\n",
    "if len(duplicate_ids) > 0:\n",
    "    display(duplicate_ids.sort_values('customer_id'))"
   ]
  },
  {
   "cell_type": "code",
   "execution_count": 52,
   "metadata": {},
   "outputs": [
    {
     "name": "stdout",
     "output_type": "stream",
     "text": [
      "Records with potentially duplicate names: 6\n"
     ]
    },
    {
     "data": {
      "text/html": [
       "<div>\n",
       "<style scoped>\n",
       "    .dataframe tbody tr th:only-of-type {\n",
       "        vertical-align: middle;\n",
       "    }\n",
       "\n",
       "    .dataframe tbody tr th {\n",
       "        vertical-align: top;\n",
       "    }\n",
       "\n",
       "    .dataframe thead th {\n",
       "        text-align: right;\n",
       "    }\n",
       "</style>\n",
       "<table border=\"1\" class=\"dataframe\">\n",
       "  <thead>\n",
       "    <tr style=\"text-align: right;\">\n",
       "      <th></th>\n",
       "      <th>customer_id</th>\n",
       "      <th>name</th>\n",
       "      <th>email</th>\n",
       "    </tr>\n",
       "  </thead>\n",
       "  <tbody>\n",
       "    <tr>\n",
       "      <th>2</th>\n",
       "      <td>103</td>\n",
       "      <td>Bob Johnson</td>\n",
       "      <td>None</td>\n",
       "    </tr>\n",
       "    <tr>\n",
       "      <th>12</th>\n",
       "      <td>103</td>\n",
       "      <td>Bob Johnson</td>\n",
       "      <td>bob2@email.com</td>\n",
       "    </tr>\n",
       "    <tr>\n",
       "      <th>1</th>\n",
       "      <td>102</td>\n",
       "      <td>Jane Doe</td>\n",
       "      <td>jane@email.com</td>\n",
       "    </tr>\n",
       "    <tr>\n",
       "      <th>14</th>\n",
       "      <td>115</td>\n",
       "      <td>Jane doe</td>\n",
       "      <td>None</td>\n",
       "    </tr>\n",
       "    <tr>\n",
       "      <th>0</th>\n",
       "      <td>101</td>\n",
       "      <td>John Smith</td>\n",
       "      <td>john@email.com</td>\n",
       "    </tr>\n",
       "    <tr>\n",
       "      <th>13</th>\n",
       "      <td>114</td>\n",
       "      <td>John Smith</td>\n",
       "      <td>john@email.com</td>\n",
       "    </tr>\n",
       "  </tbody>\n",
       "</table>\n",
       "</div>"
      ],
      "text/plain": [
       "    customer_id         name           email\n",
       "2           103  Bob Johnson            None\n",
       "12          103  Bob Johnson  bob2@email.com\n",
       "1           102     Jane Doe  jane@email.com\n",
       "14          115     Jane doe            None\n",
       "0           101   John Smith  john@email.com\n",
       "13          114  John Smith   john@email.com"
      ]
     },
     "metadata": {},
     "output_type": "display_data"
    }
   ],
   "source": [
    "# Check for potential duplicate names (case-insensitive)\n",
    "df['name_lower'] = df['name'].str.lower().str.strip()\n",
    "name_duplicates = df[df.duplicated(subset=['name_lower'], keep=False)]\n",
    "print(f\"Records with potentially duplicate names: {len(name_duplicates)}\")\n",
    "if len(name_duplicates) > 0:\n",
    "    display(name_duplicates[['customer_id', 'name', 'email']].sort_values('name'))\n",
    "\n",
    "# Clean up temporary column\n",
    "df.drop('name_lower', axis=1, inplace=True)"
   ]
  },
  {
   "cell_type": "markdown",
   "metadata": {},
   "source": [
    "### Exercise 2: Duplicate Detection\n",
    "Write code to find duplicate email addresses in the dataset."
   ]
  },
  {
   "cell_type": "code",
   "execution_count": 53,
   "metadata": {},
   "outputs": [],
   "source": [
    "# Your code here - find duplicate email addresses\n",
    "# Hint: Remember to handle None values\n"
   ]
  },
  {
   "cell_type": "markdown",
   "metadata": {},
   "source": [
    "## Section 3: Spotting Inconsistencies\n",
    "\n",
    "Data inconsistencies can occur in formatting, naming conventions, and categorical values."
   ]
  },
  {
   "cell_type": "code",
   "execution_count": 54,
   "metadata": {},
   "outputs": [
    {
     "name": "stdout",
     "output_type": "stream",
     "text": [
      "Unique date formats in signup_date:\n",
      "['2023-01-15' '2023-02-20' '2023/03/10' '2023-04-05' '2023-05-12'\n",
      " '2023-06-18' '2023-07-22' '23-08-30' '2023-09-14' '2023-10-20'\n",
      " '2023-11-25' '2023-12-01' '2023-03-10']\n",
      "\n",
      "Notice the different separators and formats used.\n"
     ]
    }
   ],
   "source": [
    "# Check for inconsistent date formats\n",
    "print(\"Unique date formats in signup_date:\")\n",
    "print(df['signup_date'].unique())\n",
    "print(\"\\nNotice the different separators and formats used.\")"
   ]
  },
  {
   "cell_type": "code",
   "execution_count": 55,
   "metadata": {},
   "outputs": [
    {
     "name": "stdout",
     "output_type": "stream",
     "text": [
      "City value counts:\n",
      "city\n",
      "New York       2\n",
      "Los Angeles    2\n",
      "Chicago        2\n",
      "Houston        1\n",
      "Phoenix        1\n",
      "NY             1\n",
      "San Antonio    1\n",
      "San Diego      1\n",
      "Dallas         1\n",
      "San Jose       1\n",
      "Austin         1\n",
      "N.Y.           1\n",
      "Name: count, dtype: int64\n",
      "\n",
      "Potential inconsistencies:\n",
      "- 'New York', 'NY', and 'N.Y.' likely refer to the same city\n"
     ]
    }
   ],
   "source": [
    "# Check for inconsistent city names\n",
    "city_values = df['city'].value_counts()\n",
    "print(\"City value counts:\")\n",
    "print(city_values)\n",
    "print(\"\\nPotential inconsistencies:\")\n",
    "print(\"- 'New York', 'NY', and 'N.Y.' likely refer to the same city\")"
   ]
  },
  {
   "cell_type": "code",
   "execution_count": 56,
   "metadata": {},
   "outputs": [
    {
     "name": "stdout",
     "output_type": "stream",
     "text": [
      "Email validation results:\n",
      "email_validity\n",
      "Valid                     11\n",
      "Missing                    3\n",
      "Invalid - Wrong domain     1\n",
      "Name: count, dtype: int64\n",
      "\n",
      "Invalid emails:\n"
     ]
    },
    {
     "data": {
      "text/html": [
       "<div>\n",
       "<style scoped>\n",
       "    .dataframe tbody tr th:only-of-type {\n",
       "        vertical-align: middle;\n",
       "    }\n",
       "\n",
       "    .dataframe tbody tr th {\n",
       "        vertical-align: top;\n",
       "    }\n",
       "\n",
       "    .dataframe thead th {\n",
       "        text-align: right;\n",
       "    }\n",
       "</style>\n",
       "<table border=\"1\" class=\"dataframe\">\n",
       "  <thead>\n",
       "    <tr style=\"text-align: right;\">\n",
       "      <th></th>\n",
       "      <th>customer_id</th>\n",
       "      <th>name</th>\n",
       "      <th>email</th>\n",
       "      <th>email_validity</th>\n",
       "    </tr>\n",
       "  </thead>\n",
       "  <tbody>\n",
       "    <tr>\n",
       "      <th>3</th>\n",
       "      <td>104</td>\n",
       "      <td>Alice Brown</td>\n",
       "      <td>alice@email</td>\n",
       "      <td>Invalid - Wrong domain</td>\n",
       "    </tr>\n",
       "  </tbody>\n",
       "</table>\n",
       "</div>"
      ],
      "text/plain": [
       "   customer_id         name        email          email_validity\n",
       "3          104  Alice Brown  alice@email  Invalid - Wrong domain"
      ]
     },
     "metadata": {},
     "output_type": "display_data"
    }
   ],
   "source": [
    "# Check email format validity\n",
    "def validate_email(email):\n",
    "    if pd.isna(email):\n",
    "        return 'Missing'\n",
    "    elif '@' not in email:\n",
    "        return 'Invalid - No @'\n",
    "    elif not email.endswith('.com'):\n",
    "        return 'Invalid - Wrong domain'\n",
    "    else:\n",
    "        return 'Valid'\n",
    "\n",
    "df['email_validity'] = df['email'].apply(validate_email)\n",
    "print(\"Email validation results:\")\n",
    "print(df['email_validity'].value_counts())\n",
    "print(\"\\nInvalid emails:\")\n",
    "display(df[df['email_validity'].str.startswith('Invalid')][['customer_id', 'name', 'email', 'email_validity']])\n",
    "\n",
    "# Clean up temporary column\n",
    "df.drop('email_validity', axis=1, inplace=True)"
   ]
  },
  {
   "cell_type": "markdown",
   "metadata": {},
   "source": [
    "### Exercise 3: Finding Inconsistencies\n",
    "Check if there are any inconsistencies in the capitalization of names (e.g., \"Jane Doe\" vs \"Jane doe\")."
   ]
  },
  {
   "cell_type": "code",
   "execution_count": 57,
   "metadata": {},
   "outputs": [],
   "source": [
    "# Your code here - find names with inconsistent capitalization\n"
   ]
  },
  {
   "cell_type": "markdown",
   "metadata": {},
   "source": [
    "## Section 4: Detecting Outliers\n",
    "\n",
    "Outliers can be legitimate extreme values or data entry errors. Let's identify potential outliers in numerical columns."
   ]
  },
  {
   "cell_type": "code",
   "execution_count": 58,
   "metadata": {},
   "outputs": [
    {
     "name": "stdout",
     "output_type": "stream",
     "text": [
      "Data type of age column: object\n",
      "\n",
      "Unique age values:\n",
      "[25 32 '45' 28 67 31 5 39 42 150 35 29 45]\n",
      "\n",
      "Unique age values (sorted by converting to numeric first):\n",
      "[np.int64(5), np.int64(25), np.int64(28), np.int64(29), np.int64(31), np.int64(32), np.int64(35), np.int64(39), np.int64(42), np.int64(45), np.int64(67), np.int64(150)]\n"
     ]
    }
   ],
   "source": [
    "# First, let's check the data type of the age column\n",
    "print(\"Data type of age column:\", df['age'].dtype)\n",
    "print(\"\\nUnique age values:\")\n",
    "print(df['age'].unique())\n",
    "print(\"\\nUnique age values (sorted by converting to numeric first):\")\n",
    "# Convert to numeric, handling non-numeric values, then sort\n",
    "age_numeric = pd.to_numeric(df['age'], errors='coerce')\n",
    "print(sorted(age_numeric.dropna().unique()))"
   ]
  },
  {
   "cell_type": "code",
   "execution_count": 59,
   "metadata": {},
   "outputs": [
    {
     "name": "stdout",
     "output_type": "stream",
     "text": [
      "Age statistics:\n",
      "count     15.000000\n",
      "mean      42.000000\n",
      "std       32.730501\n",
      "min        5.000000\n",
      "25%       28.500000\n",
      "50%       32.000000\n",
      "75%       43.500000\n",
      "max      150.000000\n",
      "Name: age_numeric, dtype: float64\n",
      "\n",
      "Potential age issues:\n",
      "Negative ages: []\n",
      "Ages over 120: [150]\n"
     ]
    }
   ],
   "source": [
    "# Convert age to numeric for analysis (this will introduce NaN for non-numeric values)\n",
    "df['age_numeric'] = pd.to_numeric(df['age'], errors='coerce')\n",
    "\n",
    "# Check for impossible or unlikely age values\n",
    "print(\"Age statistics:\")\n",
    "print(df['age_numeric'].describe())\n",
    "print(\"\\nPotential age issues:\")\n",
    "print(f\"Negative ages: {df[df['age_numeric'] < 0]['age_numeric'].values}\")\n",
    "print(f\"Ages over 120: {df[df['age_numeric'] > 120]['age_numeric'].values}\")\n",
    "\n",
    "# Clean up temporary column\n",
    "df.drop('age_numeric', axis=1, inplace=True)"
   ]
  },
  {
   "cell_type": "code",
   "execution_count": 60,
   "metadata": {},
   "outputs": [
    {
     "name": "stdout",
     "output_type": "stream",
     "text": [
      "IQR method boundaries: [-280.00, 680.00]\n",
      "\n",
      "Number of outliers detected: 2\n",
      "\n",
      "Outlier records:\n"
     ]
    },
    {
     "data": {
      "text/html": [
       "<div>\n",
       "<style scoped>\n",
       "    .dataframe tbody tr th:only-of-type {\n",
       "        vertical-align: middle;\n",
       "    }\n",
       "\n",
       "    .dataframe tbody tr th {\n",
       "        vertical-align: top;\n",
       "    }\n",
       "\n",
       "    .dataframe thead th {\n",
       "        text-align: right;\n",
       "    }\n",
       "</style>\n",
       "<table border=\"1\" class=\"dataframe\">\n",
       "  <thead>\n",
       "    <tr style=\"text-align: right;\">\n",
       "      <th></th>\n",
       "      <th>customer_id</th>\n",
       "      <th>name</th>\n",
       "      <th>purchase_amount</th>\n",
       "    </tr>\n",
       "  </thead>\n",
       "  <tbody>\n",
       "    <tr>\n",
       "      <th>7</th>\n",
       "      <td>108</td>\n",
       "      <td>Frank Miller</td>\n",
       "      <td>950.0</td>\n",
       "    </tr>\n",
       "    <tr>\n",
       "      <th>14</th>\n",
       "      <td>115</td>\n",
       "      <td>Jane doe</td>\n",
       "      <td>10000.0</td>\n",
       "    </tr>\n",
       "  </tbody>\n",
       "</table>\n",
       "</div>"
      ],
      "text/plain": [
       "    customer_id          name  purchase_amount\n",
       "7           108  Frank Miller            950.0\n",
       "14          115      Jane doe          10000.0"
      ]
     },
     "metadata": {},
     "output_type": "display_data"
    }
   ],
   "source": [
    "# Detect outliers in purchase_amount using IQR method\n",
    "Q1 = df['purchase_amount'].quantile(0.25)\n",
    "Q3 = df['purchase_amount'].quantile(0.75)\n",
    "IQR = Q3 - Q1\n",
    "lower_bound = Q1 - 1.5 * IQR\n",
    "upper_bound = Q3 + 1.5 * IQR\n",
    "\n",
    "outliers = df[(df['purchase_amount'] < lower_bound) | (df['purchase_amount'] > upper_bound)]\n",
    "print(f\"IQR method boundaries: [{lower_bound:.2f}, {upper_bound:.2f}]\")\n",
    "print(f\"\\nNumber of outliers detected: {len(outliers)}\")\n",
    "if len(outliers) > 0:\n",
    "    print(\"\\nOutlier records:\")\n",
    "    display(outliers[['customer_id', 'name', 'purchase_amount']])"
   ]
  },
  {
   "cell_type": "code",
   "execution_count": 61,
   "metadata": {},
   "outputs": [
    {
     "data": {
      "image/png": "[encoded data removed]",
      "text/plain": [
       "<Figure size 1200x500 with 2 Axes>"
      ]
     },
     "metadata": {},
     "output_type": "display_data"
    }
   ],
   "source": [
    "# Visualize purchase amounts with outliers\n",
    "fig, (ax1, ax2) = plt.subplots(1, 2, figsize=(12, 5))\n",
    "\n",
    "# Box plot\n",
    "ax1.boxplot(df['purchase_amount'].dropna())\n",
    "ax1.set_ylabel('Purchase Amount ($)')\n",
    "ax1.set_title('Box Plot of Purchase Amounts')\n",
    "\n",
    "# Histogram\n",
    "ax2.hist(df['purchase_amount'].dropna(), bins=10, edgecolor='black')\n",
    "ax2.set_xlabel('Purchase Amount ($)')\n",
    "ax2.set_ylabel('Frequency')\n",
    "ax2.set_title('Distribution of Purchase Amounts')\n",
    "\n",
    "plt.tight_layout()\n",
    "plt.show()"
   ]
  },
  {
   "cell_type": "markdown",
   "metadata": {},
   "source": [
    "## Section 5: Data Type Issues\n",
    "\n",
    "Incorrect data types can cause problems during analysis. Let's identify columns with potential data type issues."
   ]
  },
  {
   "cell_type": "code",
   "execution_count": 63,
   "metadata": {},
   "outputs": [
    {
     "name": "stdout",
     "output_type": "stream",
     "text": [
      "Current data types:\n",
      "customer_id          int64\n",
      "name                object\n",
      "age                 object\n",
      "email               object\n",
      "signup_date         object\n",
      "purchase_amount    float64\n",
      "city                object\n",
      "dtype: object\n",
      "\n",
      "Notice that 'age' is stored as object (mixed types) instead of integer.\n"
     ]
    }
   ],
   "source": [
    "# Check current data types\n",
    "print(\"Current data types:\")\n",
    "print(df.dtypes)\n",
    "print(\"\\nNotice that 'age' is stored as object (mixed types) instead of integer.\")"
   ]
  },
  {
   "cell_type": "code",
   "execution_count": 64,
   "metadata": {},
   "outputs": [
    {
     "name": "stdout",
     "output_type": "stream",
     "text": [
      "Data types in age column:\n",
      "age\n",
      "int    14\n",
      "str     1\n",
      "Name: count, dtype: int64\n",
      "\n",
      "Rows with non-integer age values:\n"
     ]
    },
    {
     "data": {
      "text/html": [
       "<div>\n",
       "<style scoped>\n",
       "    .dataframe tbody tr th:only-of-type {\n",
       "        vertical-align: middle;\n",
       "    }\n",
       "\n",
       "    .dataframe tbody tr th {\n",
       "        vertical-align: top;\n",
       "    }\n",
       "\n",
       "    .dataframe thead th {\n",
       "        text-align: right;\n",
       "    }\n",
       "</style>\n",
       "<table border=\"1\" class=\"dataframe\">\n",
       "  <thead>\n",
       "    <tr style=\"text-align: right;\">\n",
       "      <th></th>\n",
       "      <th>customer_id</th>\n",
       "      <th>name</th>\n",
       "      <th>age</th>\n",
       "    </tr>\n",
       "  </thead>\n",
       "  <tbody>\n",
       "    <tr>\n",
       "      <th>2</th>\n",
       "      <td>103</td>\n",
       "      <td>Bob Johnson</td>\n",
       "      <td>45</td>\n",
       "    </tr>\n",
       "  </tbody>\n",
       "</table>\n",
       "</div>"
      ],
      "text/plain": [
       "   customer_id         name age\n",
       "2          103  Bob Johnson  45"
      ]
     },
     "metadata": {},
     "output_type": "display_data"
    }
   ],
   "source": [
    "# Identify mixed data types in the age column\n",
    "age_types = df['age'].apply(lambda x: type(x).__name__).value_counts()\n",
    "print(\"Data types in age column:\")\n",
    "print(age_types)\n",
    "print(\"\\nRows with non-integer age values:\")\n",
    "non_int_ages = df[df['age'].apply(lambda x: not isinstance(x, int))]\n",
    "display(non_int_ages[['customer_id', 'name', 'age']])"
   ]
  },
  {
   "cell_type": "code",
   "execution_count": 65,
   "metadata": {},
   "outputs": [
    {
     "name": "stdout",
     "output_type": "stream",
     "text": [
      "Date parsing results:\n",
      "date_parse_status\n",
      "Valid    15\n",
      "Name: count, dtype: int64\n"
     ]
    }
   ],
   "source": [
    "# Check if dates can be properly parsed\n",
    "def check_date_parsing(date_str):\n",
    "    try:\n",
    "        pd.to_datetime(date_str)\n",
    "        return 'Valid'\n",
    "    except:\n",
    "        return 'Invalid'\n",
    "\n",
    "df['date_parse_status'] = df['signup_date'].apply(check_date_parsing)\n",
    "print(\"Date parsing results:\")\n",
    "print(df['date_parse_status'].value_counts())\n",
    "\n",
    "if (df['date_parse_status'] == 'Invalid').any():\n",
    "    print(\"\\nRows with unparseable dates:\")\n",
    "    display(df[df['date_parse_status'] == 'Invalid'][['customer_id', 'signup_date']])\n",
    "\n",
    "# Clean up temporary column\n",
    "df.drop('date_parse_status', axis=1, inplace=True)"
   ]
  },
  {
   "cell_type": "markdown",
   "metadata": {},
   "source": [
    "### Exercise 5: Create a Data Quality Report\n",
    "Create a function that generates a comprehensive data quality report for any dataframe."
   ]
  },
  {
   "cell_type": "code",
   "execution_count": 66,
   "metadata": {},
   "outputs": [
    {
     "name": "stdout",
     "output_type": "stream",
     "text": [
      "None\n"
     ]
    }
   ],
   "source": [
    "def generate_quality_report(dataframe):\n",
    "    \"\"\"\n",
    "    Generate a data quality report for the given dataframe.\n",
    "    \n",
    "    Your function should return a dictionary containing:\n",
    "    - Total number of rows\n",
    "    - Total number of columns\n",
    "    - Number of columns with missing values\n",
    "    - Total number of duplicate rows\n",
    "    - Columns with potential data type issues\n",
    "    \"\"\"\n",
    "    # Your code here\n",
    "    pass\n",
    "\n",
    "# Test your function\n",
    "report = generate_quality_report(df)\n",
    "print(report)"
   ]
  },
  {
   "cell_type": "markdown",
   "metadata": {},
   "source": [
    "## Summary\n",
    "\n",
    "In this notebook, we've learned how to detect various data quality issues:\n",
    "\n",
    "1. **Missing Data**: Used `.isnull()` and visualization to identify missing values\n",
    "2. **Duplicates**: Found exact and near-duplicate records\n",
    "3. **Inconsistencies**: Detected formatting and naming inconsistencies\n",
    "4. **Outliers**: Used statistical methods to identify potential outliers\n",
    "5. **Data Type Issues**: Found mixed types and incorrect data types\n",
    "\n",
    "These techniques form the foundation for data cleaning, which we'll explore in the next lesson."
   ]
  }
 ],
 "metadata": {
  "kernelspec": {
   "display_name": "Python (venv)",
   "language": "python",
   "name": "venv"
  },
  "language_info": {
   "codemirror_mode": {
    "name": "ipython",
    "version": 3
   },
   "file_extension": ".py",
   "mimetype": "text/x-python",
   "name": "python",
   "nbconvert_exporter": "python",
   "pygments_lexer": "ipython3",
   "version": "3.12.7"
  }
 },
 "nbformat": 4,
 "nbformat_minor": 4
}
