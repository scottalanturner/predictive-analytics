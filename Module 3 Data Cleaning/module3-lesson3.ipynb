{
 "cells": [
  {
   "cell_type": "markdown",
   "metadata": {},
   "source": [
    "# Data Cleaning Techniques: Fixing Common Data Issues\n",
    "\n",
    "This notebook covers practical techniques for cleaning messy data, including handling formatting issues, special characters, and data entry errors."
   ]
  },
  {
   "cell_type": "code",
   "execution_count": 1,
   "metadata": {},
   "outputs": [],
   "source": [
    "import pandas as pd\n",
    "import numpy as np\n",
    "import re\n",
    "from datetime import datetime\n",
    "\n",
    "pd.set_option('display.max_columns', None)\n",
    "pd.set_option('display.max_colwidth', None)"
   ]
  },
  {
   "cell_type": "markdown",
   "metadata": {},
   "source": [
    "## Create a Messy Dataset"
   ]
  },
  {
   "cell_type": "code",
   "execution_count": 2,
   "metadata": {},
   "outputs": [
    {
     "name": "stdout",
     "output_type": "stream",
     "text": [
      "Original messy data:\n"
     ]
    },
    {
     "data": {
      "text/html": [
       "<div>\n",
       "<style scoped>\n",
       "    .dataframe tbody tr th:only-of-type {\n",
       "        vertical-align: middle;\n",
       "    }\n",
       "\n",
       "    .dataframe tbody tr th {\n",
       "        vertical-align: top;\n",
       "    }\n",
       "\n",
       "    .dataframe thead th {\n",
       "        text-align: right;\n",
       "    }\n",
       "</style>\n",
       "<table border=\"1\" class=\"dataframe\">\n",
       "  <thead>\n",
       "    <tr style=\"text-align: right;\">\n",
       "      <th></th>\n",
       "      <th>name</th>\n",
       "      <th>phone</th>\n",
       "      <th>email</th>\n",
       "      <th>date_joined</th>\n",
       "      <th>salary</th>\n",
       "      <th>department</th>\n",
       "      <th>product_code</th>\n",
       "    </tr>\n",
       "  </thead>\n",
       "  <tbody>\n",
       "    <tr>\n",
       "      <th>0</th>\n",
       "      <td>John Smith</td>\n",
       "      <td>(555) 123-4567</td>\n",
       "      <td>john@email.com</td>\n",
       "      <td>2023-01-15</td>\n",
       "      <td>$75,000</td>\n",
       "      <td>Sales</td>\n",
       "      <td>ABC-123</td>\n",
       "    </tr>\n",
       "    <tr>\n",
       "      <th>1</th>\n",
       "      <td>jane doe</td>\n",
       "      <td>555.987.6543</td>\n",
       "      <td>JANE@GMAIL.COM</td>\n",
       "      <td>01/20/2023</td>\n",
       "      <td>82000</td>\n",
       "      <td>sales</td>\n",
       "      <td>DEF456</td>\n",
       "    </tr>\n",
       "    <tr>\n",
       "      <th>2</th>\n",
       "      <td>BOB JOHNSON</td>\n",
       "      <td>555-246-8135</td>\n",
       "      <td>bob@company..com</td>\n",
       "      <td>2023.02.28</td>\n",
       "      <td>$90,500.00</td>\n",
       "      <td>MARKETING</td>\n",
       "      <td>GHI 789</td>\n",
       "    </tr>\n",
       "    <tr>\n",
       "      <th>3</th>\n",
       "      <td>Alice  Brown</td>\n",
       "      <td>15551234567</td>\n",
       "      <td>alice@@email.com</td>\n",
       "      <td>03-15-23</td>\n",
       "      <td>65000.0</td>\n",
       "      <td>IT</td>\n",
       "      <td>jkl-012</td>\n",
       "    </tr>\n",
       "    <tr>\n",
       "      <th>4</th>\n",
       "      <td>charlie wilson</td>\n",
       "      <td>555 369 2580</td>\n",
       "      <td>charlie@email</td>\n",
       "      <td>2023/4/1</td>\n",
       "      <td>$120k</td>\n",
       "      <td>It</td>\n",
       "      <td>MNO_345</td>\n",
       "    </tr>\n",
       "    <tr>\n",
       "      <th>5</th>\n",
       "      <td>David Lee!!!</td>\n",
       "      <td>(555)4567890</td>\n",
       "      <td>david@email.com</td>\n",
       "      <td>20230510</td>\n",
       "      <td>95,000</td>\n",
       "      <td>Human Resources</td>\n",
       "      <td>PQR#678</td>\n",
       "    </tr>\n",
       "    <tr>\n",
       "      <th>6</th>\n",
       "      <td>Emily@Davis</td>\n",
       "      <td>+1-555-111-2222</td>\n",
       "      <td>emily@email.com</td>\n",
       "      <td>June 15, 2023</td>\n",
       "      <td>USD 88000</td>\n",
       "      <td>HR</td>\n",
       "      <td>STU901</td>\n",
       "    </tr>\n",
       "    <tr>\n",
       "      <th>7</th>\n",
       "      <td>MICHAEL O'BRIEN</td>\n",
       "      <td>555.333.4444 ext 123</td>\n",
       "      <td>michael@email.COM</td>\n",
       "      <td>2023-07-01 00:00:00</td>\n",
       "      <td>77500 dollars</td>\n",
       "      <td>Financ</td>\n",
       "      <td>VWX-234-A</td>\n",
       "    </tr>\n",
       "    <tr>\n",
       "      <th>8</th>\n",
       "      <td>Sarah-Jane  Williams</td>\n",
       "      <td>CALL: 555-9876</td>\n",
       "      <td>sarah jane@email.com</td>\n",
       "      <td>08/15/23</td>\n",
       "      <td>$105.000</td>\n",
       "      <td>Engineering</td>\n",
       "      <td>YZ-567</td>\n",
       "    </tr>\n",
       "    <tr>\n",
       "      <th>9</th>\n",
       "      <td>Tom_Anderson</td>\n",
       "      <td>5559998888</td>\n",
       "      <td>tom@.com</td>\n",
       "      <td>2023-09-30</td>\n",
       "      <td>92000.50</td>\n",
       "      <td>sales</td>\n",
       "      <td>ABC123</td>\n",
       "    </tr>\n",
       "  </tbody>\n",
       "</table>\n",
       "</div>"
      ],
      "text/plain": [
       "                   name                 phone                 email  \\\n",
       "0            John Smith        (555) 123-4567        john@email.com   \n",
       "1              jane doe          555.987.6543        JANE@GMAIL.COM   \n",
       "2           BOB JOHNSON          555-246-8135      bob@company..com   \n",
       "3         Alice  Brown            15551234567      alice@@email.com   \n",
       "4        charlie wilson          555 369 2580         charlie@email   \n",
       "5          David Lee!!!          (555)4567890      david@email.com    \n",
       "6           Emily@Davis       +1-555-111-2222       emily@email.com   \n",
       "7       MICHAEL O'BRIEN  555.333.4444 ext 123     michael@email.COM   \n",
       "8  Sarah-Jane  Williams        CALL: 555-9876  sarah jane@email.com   \n",
       "9          Tom_Anderson            5559998888              tom@.com   \n",
       "\n",
       "           date_joined         salary       department product_code  \n",
       "0           2023-01-15        $75,000            Sales      ABC-123  \n",
       "1           01/20/2023          82000            sales       DEF456  \n",
       "2           2023.02.28     $90,500.00        MARKETING      GHI 789  \n",
       "3             03-15-23        65000.0              IT       jkl-012  \n",
       "4             2023/4/1          $120k               It      MNO_345  \n",
       "5             20230510         95,000  Human Resources      PQR#678  \n",
       "6        June 15, 2023      USD 88000               HR       STU901  \n",
       "7  2023-07-01 00:00:00  77500 dollars           Financ    VWX-234-A  \n",
       "8             08/15/23       $105.000      Engineering       YZ-567  \n",
       "9           2023-09-30       92000.50           sales        ABC123  "
      ]
     },
     "execution_count": 2,
     "metadata": {},
     "output_type": "execute_result"
    }
   ],
   "source": [
    "# Create a dataset with various formatting and data entry issues\n",
    "messy_data = {\n",
    "    'name': ['John Smith', ' jane doe', 'BOB JOHNSON', 'Alice  Brown ', 'charlie wilson',\n",
    "             'David Lee!!!', 'Emily@Davis', 'MICHAEL O\\'BRIEN', 'Sarah-Jane  Williams', 'Tom_Anderson'],\n",
    "    'phone': ['(555) 123-4567', '555.987.6543', '555-246-8135', '15551234567', '555 369 2580',\n",
    "              '(555)4567890', '+1-555-111-2222', '555.333.4444 ext 123', 'CALL: 555-9876', '5559998888'],\n",
    "    'email': ['john@email.com', 'JANE@GMAIL.COM', 'bob@company..com', 'alice@@email.com', 'charlie@email',\n",
    "              'david@email.com ', ' emily@email.com', 'michael@email.COM', 'sarah jane@email.com', 'tom@.com'],\n",
    "    'date_joined': ['2023-01-15', '01/20/2023', '2023.02.28', '03-15-23', '2023/4/1',\n",
    "                   '20230510', 'June 15, 2023', '2023-07-01 00:00:00', '08/15/23', '2023-09-30'],\n",
    "    'salary': ['$75,000', '82000', '$90,500.00', '65000.0', '$120k',\n",
    "              '95,000', 'USD 88000', '77500 dollars', '$105.000', '92000.50'],\n",
    "    'department': ['Sales', 'sales', 'MARKETING', 'IT ', ' It',\n",
    "                  'Human Resources', 'HR', 'Financ', 'Engineering', 'sales '],\n",
    "    'product_code': ['ABC-123', 'DEF456', 'GHI 789', 'jkl-012', 'MNO_345',\n",
    "                    'PQR#678', 'STU901', 'VWX-234-A', 'YZ-567', 'ABC123']\n",
    "}\n",
    "\n",
    "df = pd.DataFrame(messy_data)\n",
    "print(\"Original messy data:\")\n",
    "df"
   ]
  },
  {
   "cell_type": "markdown",
   "metadata": {},
   "source": [
    "## Section 1: Cleaning Text Data"
   ]
  },
  {
   "cell_type": "code",
   "execution_count": 3,
   "metadata": {},
   "outputs": [
    {
     "name": "stdout",
     "output_type": "stream",
     "text": [
      "Cleaned text fields:\n",
      "                  name       department\n",
      "0           John Smith            Sales\n",
      "1             Jane Doe            Sales\n",
      "2          Bob Johnson        Marketing\n",
      "3          Alice Brown               IT\n",
      "4       Charlie Wilson               IT\n",
      "5            David Lee  Human Resources\n",
      "6           Emilydavis  Human Resources\n",
      "7      Michael O'Brien          Finance\n",
      "8  Sarah-Jane Williams      Engineering\n",
      "9          Tomanderson            Sales\n"
     ]
    }
   ],
   "source": [
    "df_clean = df.copy()\n",
    "\n",
    "# Clean names: remove special characters, fix capitalization, trim whitespace\n",
    "def clean_name(name):\n",
    "    # Remove special characters except spaces, hyphens, and apostrophes\n",
    "    name = re.sub(r'[^a-zA-Z\\s\\-\\']', '', name)\n",
    "    # Remove extra spaces\n",
    "    name = ' '.join(name.split())\n",
    "    # Proper case\n",
    "    name = name.title()\n",
    "    return name.strip()\n",
    "\n",
    "df_clean['name'] = df['name'].apply(clean_name)\n",
    "\n",
    "# Clean and standardize department names\n",
    "def standardize_department(dept):\n",
    "    dept = dept.strip().lower()\n",
    "    # Fix common variations\n",
    "    dept_mapping = {\n",
    "        'it': 'IT',\n",
    "        'hr': 'Human Resources',\n",
    "        'human resources': 'Human Resources',\n",
    "        'sales': 'Sales',\n",
    "        'marketing': 'Marketing',\n",
    "        'financ': 'Finance',\n",
    "        'engineering': 'Engineering'\n",
    "    }\n",
    "    return dept_mapping.get(dept, dept.title())\n",
    "\n",
    "df_clean['department'] = df['department'].apply(standardize_department)\n",
    "\n",
    "print(\"Cleaned text fields:\")\n",
    "print(df_clean[['name', 'department']])"
   ]
  },
  {
   "cell_type": "markdown",
   "metadata": {},
   "source": [
    "## Section 2: Standardizing Phone Numbers and Email"
   ]
  },
  {
   "cell_type": "code",
   "execution_count": 4,
   "metadata": {},
   "outputs": [
    {
     "name": "stdout",
     "output_type": "stream",
     "text": [
      "Cleaned contact information:\n",
      "            phone                email\n",
      "0  (555) 123-4567       john@email.com\n",
      "1  (555) 987-6543       jane@gmail.com\n",
      "2  (555) 246-8135      bob@company.com\n",
      "3  (155) 512-3456      alice@email.com\n",
      "4  (555) 369-2580        Invalid Email\n",
      "5  (555) 456-7890      david@email.com\n",
      "6  (155) 511-1222      emily@email.com\n",
      "7  (555) 333-4444    michael@email.com\n",
      "8         Invalid  sarahjane@email.com\n",
      "9  (555) 999-8888        Invalid Email\n"
     ]
    }
   ],
   "source": [
    "# Standardize phone numbers to format: (555) 555-5555\n",
    "def clean_phone(phone):\n",
    "    # Extract only digits\n",
    "    digits = re.sub(r'\\D', '', str(phone))\n",
    "    \n",
    "    # Handle extensions by taking first 10 digits\n",
    "    if len(digits) >= 10:\n",
    "        digits = digits[:10]\n",
    "    \n",
    "    # Format if we have exactly 10 digits\n",
    "    if len(digits) == 10:\n",
    "        return f\"({digits[:3]}) {digits[3:6]}-{digits[6:]}\"\n",
    "    else:\n",
    "        return 'Invalid'\n",
    "\n",
    "df_clean['phone'] = df['phone'].apply(clean_phone)\n",
    "\n",
    "# Clean email addresses\n",
    "def clean_email(email):\n",
    "    # Convert to lowercase and strip whitespace\n",
    "    email = str(email).lower().strip()\n",
    "    \n",
    "    # Fix common issues\n",
    "    email = re.sub(r'\\.{2,}', '.', email)  # Replace multiple dots with single dot\n",
    "    email = re.sub(r'@{2,}', '@', email)   # Replace multiple @ with single @\n",
    "    email = re.sub(r'\\s+', '', email)      # Remove spaces\n",
    "    \n",
    "    # Basic validation\n",
    "    if re.match(r'^[a-zA-Z0-9._%+-]+@[a-zA-Z0-9.-]+\\.[a-zA-Z]{2,}$', email):\n",
    "        return email\n",
    "    else:\n",
    "        return 'Invalid Email'\n",
    "\n",
    "df_clean['email'] = df['email'].apply(clean_email)\n",
    "\n",
    "print(\"Cleaned contact information:\")\n",
    "print(df_clean[['phone', 'email']])"
   ]
  },
  {
   "cell_type": "markdown",
   "metadata": {},
   "source": [
    "## Section 3: Fixing Date Formats"
   ]
  },
  {
   "cell_type": "code",
   "execution_count": 5,
   "metadata": {},
   "outputs": [
    {
     "name": "stdout",
     "output_type": "stream",
     "text": [
      "Original vs Cleaned dates:\n",
      "              original     cleaned\n",
      "0           2023-01-15  2023-01-15\n",
      "1           01/20/2023  2023-01-20\n",
      "2           2023.02.28  2023-02-28\n",
      "3             03-15-23  2023-03-15\n",
      "4             2023/4/1  2023-04-01\n",
      "5             20230510  2023-05-10\n",
      "6        June 15, 2023  2023-06-15\n",
      "7  2023-07-01 00:00:00  2023-07-01\n",
      "8             08/15/23  2023-08-15\n",
      "9           2023-09-30  2023-09-30\n"
     ]
    }
   ],
   "source": [
    "# Standardize all dates to YYYY-MM-DD format\n",
    "def parse_date(date_str):\n",
    "    date_str = str(date_str).strip()\n",
    "    \n",
    "    # Try different date formats\n",
    "    formats = [\n",
    "        '%Y-%m-%d',           # 2023-01-15\n",
    "        '%m/%d/%Y',           # 01/20/2023\n",
    "        '%Y.%m.%d',           # 2023.02.28\n",
    "        '%m-%d-%y',           # 03-15-23\n",
    "        '%Y/%m/%d',           # 2023/4/1\n",
    "        '%Y%m%d',             # 20230510\n",
    "        '%B %d, %Y',          # June 15, 2023\n",
    "        '%Y-%m-%d %H:%M:%S',  # 2023-07-01 00:00:00\n",
    "        '%m/%d/%y',           # 08/15/23\n",
    "    ]\n",
    "    \n",
    "    for fmt in formats:\n",
    "        try:\n",
    "            return datetime.strptime(date_str, fmt).strftime('%Y-%m-%d')\n",
    "        except ValueError:\n",
    "            continue\n",
    "    \n",
    "    return 'Invalid Date'\n",
    "\n",
    "df_clean['date_joined'] = df['date_joined'].apply(parse_date)\n",
    "\n",
    "print(\"Original vs Cleaned dates:\")\n",
    "comparison = pd.DataFrame({\n",
    "    'original': df['date_joined'],\n",
    "    'cleaned': df_clean['date_joined']\n",
    "})\n",
    "print(comparison)"
   ]
  },
  {
   "cell_type": "markdown",
   "metadata": {},
   "source": [
    "## Section 4: Cleaning Numeric Data with Text"
   ]
  },
  {
   "cell_type": "code",
   "execution_count": 6,
   "metadata": {},
   "outputs": [
    {
     "name": "stdout",
     "output_type": "stream",
     "text": [
      "Cleaned salary data:\n",
      "        original   cleaned\n",
      "0        $75,000   75000.0\n",
      "1          82000   82000.0\n",
      "2     $90,500.00   90500.0\n",
      "3        65000.0   65000.0\n",
      "4          $120k  120000.0\n",
      "5         95,000   95000.0\n",
      "6      USD 88000   88000.0\n",
      "7  77500 dollars   77500.0\n",
      "8       $105.000     105.0\n",
      "9       92000.50   92000.5\n"
     ]
    }
   ],
   "source": [
    "# Clean salary data - convert to numeric\n",
    "def clean_salary(salary):\n",
    "    salary = str(salary).upper()\n",
    "    \n",
    "    # Remove currency symbols and text\n",
    "    salary = re.sub(r'[^0-9.,K]', '', salary)\n",
    "    \n",
    "    # Handle 'K' notation\n",
    "    if 'K' in salary:\n",
    "        salary = salary.replace('K', '000')\n",
    "    \n",
    "    # Fix European decimal notation (if present)\n",
    "    if '.' in salary and ',' in salary:\n",
    "        if salary.index('.') > salary.index(','):\n",
    "            salary = salary.replace(',', '')\n",
    "        else:\n",
    "            salary = salary.replace('.', '').replace(',', '.')\n",
    "    else:\n",
    "        salary = salary.replace(',', '')\n",
    "    \n",
    "    try:\n",
    "        return float(salary)\n",
    "    except:\n",
    "        return np.nan\n",
    "\n",
    "df_clean['salary'] = df['salary'].apply(clean_salary)\n",
    "\n",
    "print(\"Cleaned salary data:\")\n",
    "salary_comparison = pd.DataFrame({\n",
    "    'original': df['salary'],\n",
    "    'cleaned': df_clean['salary']\n",
    "})\n",
    "print(salary_comparison)"
   ]
  },
  {
   "cell_type": "markdown",
   "metadata": {},
   "source": [
    "## Section 5: Standardizing Product Codes"
   ]
  },
  {
   "cell_type": "code",
   "execution_count": 7,
   "metadata": {},
   "outputs": [
    {
     "name": "stdout",
     "output_type": "stream",
     "text": [
      "Standardized product codes:\n",
      "    original  cleaned\n",
      "0    ABC-123  ABC-123\n",
      "1     DEF456  DEF-456\n",
      "2    GHI 789  GHI-789\n",
      "3    jkl-012  JKL-012\n",
      "4    MNO_345  MNO-345\n",
      "5    PQR#678  PQR-678\n",
      "6     STU901  STU-901\n",
      "7  VWX-234-A  VWX-234\n",
      "8     YZ-567  YZX-567\n",
      "9     ABC123  ABC-123\n"
     ]
    }
   ],
   "source": [
    "# Standardize product codes to format: XXX-###\n",
    "def standardize_product_code(code):\n",
    "    # Convert to uppercase and remove spaces\n",
    "    code = str(code).upper().replace(' ', '')\n",
    "    \n",
    "    # Extract letters and numbers\n",
    "    letters = re.findall(r'[A-Z]+', code)\n",
    "    numbers = re.findall(r'\\d+', code)\n",
    "    \n",
    "    if letters and numbers:\n",
    "        # Take first 3 letters and first 3 digits\n",
    "        letter_part = (letters[0][:3]).ljust(3, 'X')\n",
    "        number_part = (numbers[0][:3]).zfill(3)\n",
    "        return f\"{letter_part}-{number_part}\"\n",
    "    else:\n",
    "        return 'Invalid Code'\n",
    "\n",
    "df_clean['product_code'] = df['product_code'].apply(standardize_product_code)\n",
    "\n",
    "print(\"Standardized product codes:\")\n",
    "code_comparison = pd.DataFrame({\n",
    "    'original': df['product_code'],\n",
    "    'cleaned': df_clean['product_code']\n",
    "})\n",
    "print(code_comparison)"
   ]
  },
  {
   "cell_type": "markdown",
   "metadata": {},
   "source": [
    "### Exercise 1: Create a Phone Number Validator\n",
    "Write a function that validates and formats international phone numbers."
   ]
  },
  {
   "cell_type": "code",
   "execution_count": 8,
   "metadata": {},
   "outputs": [],
   "source": [
    "def validate_international_phone(phone, country_code='US'):\n",
    "    \"\"\"\n",
    "    Validate and format phone numbers for different countries\n",
    "    US: (555) 555-5555\n",
    "    UK: +44 20 5555 5555\n",
    "    Return formatted number or 'Invalid'\n",
    "    \"\"\"\n",
    "    # Your code here\n",
    "    pass\n",
    "\n",
    "# Test your function\n",
    "# test_phones = ['555-123-4567', '+44 20 1234 5678', '1234567890']\n",
    "# for phone in test_phones:\n",
    "#     print(f\"{phone} -> {validate_international_phone(phone)}\")"
   ]
  },
  {
   "cell_type": "markdown",
   "metadata": {},
   "source": [
    "## Final Comparison"
   ]
  },
  {
   "cell_type": "code",
   "execution_count": 9,
   "metadata": {},
   "outputs": [
    {
     "name": "stdout",
     "output_type": "stream",
     "text": [
      "BEFORE CLEANING:\n",
      "          name           phone             email date_joined      salary  \\\n",
      "0   John Smith  (555) 123-4567    john@email.com  2023-01-15     $75,000   \n",
      "1     jane doe    555.987.6543    JANE@GMAIL.COM  01/20/2023       82000   \n",
      "2  BOB JOHNSON    555-246-8135  bob@company..com  2023.02.28  $90,500.00   \n",
      "\n",
      "  department product_code  \n",
      "0      Sales      ABC-123  \n",
      "1      sales       DEF456  \n",
      "2  MARKETING      GHI 789  \n",
      "\n",
      "================================================================================\n",
      "\n",
      "AFTER CLEANING:\n",
      "          name           phone            email date_joined   salary  \\\n",
      "0   John Smith  (555) 123-4567   john@email.com  2023-01-15  75000.0   \n",
      "1     Jane Doe  (555) 987-6543   jane@gmail.com  2023-01-20  82000.0   \n",
      "2  Bob Johnson  (555) 246-8135  bob@company.com  2023-02-28  90500.0   \n",
      "\n",
      "  department product_code  \n",
      "0      Sales      ABC-123  \n",
      "1      Sales      DEF-456  \n",
      "2  Marketing      GHI-789  \n"
     ]
    }
   ],
   "source": [
    "# Show before and after\n",
    "print(\"BEFORE CLEANING:\")\n",
    "print(df.head(3))\n",
    "print(\"\\n\" + \"=\"*80 + \"\\n\")\n",
    "print(\"AFTER CLEANING:\")\n",
    "print(df_clean.head(3))"
   ]
  },
  {
   "cell_type": "code",
   "execution_count": 10,
   "metadata": {},
   "outputs": [
    {
     "name": "stdout",
     "output_type": "stream",
     "text": [
      "Data Quality Report:\n",
      "========================================\n",
      "name: ✓ All clean\n",
      "phone: 1 issues found\n",
      "email: ✓ All clean\n",
      "date_joined: ✓ All clean\n",
      "salary: ✓ All clean\n",
      "department: ✓ All clean\n",
      "product_code: ✓ All clean\n"
     ]
    }
   ],
   "source": [
    "# Data quality report\n",
    "print(\"Data Quality Report:\")\n",
    "print(\"=\"*40)\n",
    "for col in df_clean.columns:\n",
    "    if 'Invalid' in df_clean[col].astype(str).values or df_clean[col].isnull().any():\n",
    "        invalid_count = ((df_clean[col] == 'Invalid') | \n",
    "                        (df_clean[col].astype(str).str.contains('Invalid')) | \n",
    "                        df_clean[col].isnull()).sum()\n",
    "        print(f\"{col}: {invalid_count} issues found\")\n",
    "    else:\n",
    "        print(f\"{col}: ✓ All clean\")"
   ]
  },
  {
   "cell_type": "markdown",
   "metadata": {},
   "source": [
    "### Exercise 2: Create a Comprehensive Data Cleaner\n",
    "Combine all cleaning functions into a single pipeline."
   ]
  },
  {
   "cell_type": "code",
   "execution_count": 11,
   "metadata": {},
   "outputs": [],
   "source": [
    "def clean_dataset(df):\n",
    "    \"\"\"\n",
    "    Apply all cleaning operations to a dataset\n",
    "    Return cleaned dataframe and a cleaning report\n",
    "    \"\"\"\n",
    "    # Your code here\n",
    "    pass\n",
    "\n",
    "# Test your function\n",
    "# df_final, report = clean_dataset(df.copy())\n",
    "# print(report)"
   ]
  },
  {
   "cell_type": "markdown",
   "metadata": {},
   "source": [
    "## Summary\n",
    "\n",
    "### Key Data Cleaning Techniques:\n",
    "\n",
    "1. **Text Cleaning**:\n",
    "   - Remove special characters\n",
    "   - Standardize capitalization\n",
    "   - Trim whitespace\n",
    "   - Fix encoding issues\n",
    "\n",
    "2. **Format Standardization**:\n",
    "   - Phone numbers: Consistent formatting\n",
    "   - Emails: Lowercase, validate structure\n",
    "   - Dates: Convert to standard format\n",
    "   - Codes: Apply consistent patterns\n",
    "\n",
    "3. **Numeric Data with Text**:\n",
    "   - Remove currency symbols\n",
    "   - Handle abbreviations (K, M)\n",
    "   - Fix decimal separators\n",
    "   - Convert to appropriate type\n",
    "\n",
    "4. **Common Issues to Watch For**:\n",
    "   - Leading/trailing spaces\n",
    "   - Inconsistent capitalization\n",
    "   - Special characters in wrong places\n",
    "   - Mixed formats in same column\n",
    "   - Data entry variations\n",
    "\n",
    "Remember: Always preserve the original data and document your cleaning steps!"
   ]
  }
 ],
 "metadata": {
  "kernelspec": {
   "display_name": "Python (venv)",
   "language": "python",
   "name": "venv"
  },
  "language_info": {
   "codemirror_mode": {
    "name": "ipython",
    "version": 3
   },
   "file_extension": ".py",
   "mimetype": "text/x-python",
   "name": "python",
   "nbconvert_exporter": "python",
   "pygments_lexer": "ipython3",
   "version": "3.12.7"
  }
 },
 "nbformat": 4,
 "nbformat_minor": 4
}
