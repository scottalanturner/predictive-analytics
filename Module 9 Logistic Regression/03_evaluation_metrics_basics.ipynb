{
  "cells": [
    {
      "cell_type": "markdown",
      "metadata": {},
      "source": [
        "# Evaluation Metrics Part 1 - Basics\n",
        "\n",
        "## Learning Objectives\n",
        "By the end of this notebook, you will be able to:\n",
        "1. Build and interpret confusion matrices\n",
        "2. Calculate accuracy, precision, recall, and F1 score\n",
        "3. Understand the \"accuracy trap\" with imbalanced data\n",
        "4. Know when to use which metric\n",
        "5. Evaluate models comprehensively (not just accuracy)\n",
        "\n"
      ]
    },
    {
      "cell_type": "markdown",
      "metadata": {},
      "source": [
        "## Introduction: Why Evaluation Metrics Matter\n",
        "\n",
        "Building a classification model is only half the battle. The other half is **evaluating** how well it performs.\n",
        "\n",
        "**Why evaluation matters:**\n",
        "- **Compare models** to choose the best one\n",
        "- **Identify problems** before deploying to production\n",
        "- **Set business expectations** about model performance\n",
        "- **Debug issues** when models don't work as expected\n",
        "- **Communicate results** to stakeholders\n",
        "\n",
        "**The Accuracy Trap:**\n",
        "Many people think accuracy is the only metric that matters. But accuracy can be **misleading**, especially with imbalanced data!\n",
        "\n",
        "**Think About It:** If 95% of customers don't churn, what accuracy would a \"dumb\" model that always predicts \"no churn\" achieve? Is this a good model?\n",
        "\n",
        "In this notebook, we'll explore the essential evaluation metrics and learn when to use each one.\n"
      ]
    },
    {
      "cell_type": "code",
      "execution_count": 25,
      "metadata": {},
      "outputs": [
        {
          "name": "stdout",
          "output_type": "stream",
          "text": [
            "Libraries imported successfully!\n",
            "Ready to explore evaluation metrics!\n"
          ]
        }
      ],
      "source": [
        "# Import necessary libraries\n",
        "import pandas as pd\n",
        "import numpy as np\n",
        "import matplotlib.pyplot as plt\n",
        "import seaborn as sns\n",
        "from sklearn.model_selection import train_test_split\n",
        "from sklearn.linear_model import LogisticRegression\n",
        "from sklearn.metrics import (accuracy_score, precision_score, recall_score, \n",
        "                           f1_score, confusion_matrix, classification_report)\n",
        "import warnings\n",
        "warnings.filterwarnings('ignore')\n",
        "\n",
        "# Set random seed for reproducibility\n",
        "np.random.seed(42)\n",
        "\n",
        "# Set plotting style\n",
        "plt.style.use('default')\n",
        "sns.set_palette(\"husl\")\n",
        "\n",
        "print(\"Libraries imported successfully!\")\n",
        "print(\"Ready to explore evaluation metrics!\")\n"
      ]
    },
    {
      "cell_type": "code",
      "execution_count": 26,
      "metadata": {},
      "outputs": [
        {
          "name": "stdout",
          "output_type": "stream",
          "text": [
            "✅ Dataset loaded successfully!\n",
            "Dataset shape: (7043, 21)\n",
            "Features: ['tenure', 'MonthlyCharges', 'TotalCharges']\n",
            "Training set: 5,634 customers\n",
            "Testing set: 1,409 customers\n",
            "Churn rate: 26.5%\n"
          ]
        }
      ],
      "source": [
        "# Load and prepare the Telco Customer Churn dataset\n",
        "url = \"https://raw.githubusercontent.com/IBM/telco-customer-churn-on-icp4d/master/data/Telco-Customer-Churn.csv\"\n",
        "\n",
        "try:\n",
        "    df = pd.read_csv(url)\n",
        "    print(\"✅ Dataset loaded successfully!\")\n",
        "except:\n",
        "    print(\"❌ Could not load from URL. Please check your internet connection.\")\n",
        "\n",
        "# Clean the data\n",
        "df['TotalCharges'] = pd.to_numeric(df['TotalCharges'], errors='coerce')\n",
        "df['TotalCharges'] = df['TotalCharges'].fillna(0)\n",
        "\n",
        "# Prepare data for modeling\n",
        "features = ['tenure', 'MonthlyCharges', 'TotalCharges']\n",
        "X = df[features]\n",
        "y = (df['Churn'] == 'Yes').astype(int)\n",
        "\n",
        "# Split the data\n",
        "X_train, X_test, y_train, y_test = train_test_split(\n",
        "    X, y, test_size=0.2, random_state=42, stratify=y\n",
        ")\n",
        "\n",
        "# Train a logistic regression model\n",
        "model = LogisticRegression(random_state=42)\n",
        "model.fit(X_train, y_train)\n",
        "\n",
        "# Make predictions\n",
        "y_pred = model.predict(X_test)\n",
        "y_pred_proba = model.predict_proba(X_test)[:, 1]\n",
        "\n",
        "print(f\"Dataset shape: {df.shape}\")\n",
        "print(f\"Features: {features}\")\n",
        "print(f\"Training set: {X_train.shape[0]:,} customers\")\n",
        "print(f\"Testing set: {X_test.shape[0]:,} customers\")\n",
        "print(f\"Churn rate: {y.mean():.1%}\")\n"
      ]
    },
    {
      "cell_type": "markdown",
      "metadata": {},
      "source": [
        "## Section 1: The Confusion Matrix - Foundation of All Metrics\n",
        "\n",
        "The confusion matrix is the foundation for all classification metrics. It shows exactly what our model got right and wrong.\n"
      ]
    },
    {
      "cell_type": "code",
      "execution_count": 27,
      "metadata": {},
      "outputs": [
        {
          "name": "stdout",
          "output_type": "stream",
          "text": [
            "Confusion Matrix:\n",
            "[[932 103]\n",
            " [217 157]]\n",
            "\n",
            "Confusion Matrix with Labels:\n",
            "                  Predicted: No Churn  Predicted: Churn\n",
            "Actual: No Churn                  932               103\n",
            "Actual: Churn                     217               157\n",
            "\n",
            "Breaking Down the Confusion Matrix:\n",
            "True Negatives (TN):  932 - Correctly predicted 'No Churn'\n",
            "False Positives (FP): 103 - Incorrectly predicted 'Churn' (Type I Error)\n",
            "False Negatives (FN): 217 - Incorrectly predicted 'No Churn' (Type II Error)\n",
            "True Positives (TP):  157 - Correctly predicted 'Churn'\n"
          ]
        }
      ],
      "source": [
        "# Create and display the confusion matrix\n",
        "cm = confusion_matrix(y_test, y_pred)\n",
        "\n",
        "print(\"Confusion Matrix:\")\n",
        "print(cm)\n",
        "\n",
        "# Create a more detailed confusion matrix with labels\n",
        "cm_df = pd.DataFrame(cm, \n",
        "                     index=['Actual: No Churn', 'Actual: Churn'],\n",
        "                     columns=['Predicted: No Churn', 'Predicted: Churn'])\n",
        "\n",
        "print(\"\\nConfusion Matrix with Labels:\")\n",
        "print(cm_df)\n",
        "\n",
        "# Extract the four components\n",
        "tn, fp, fn, tp = cm.ravel()\n",
        "\n",
        "print(f\"\\nBreaking Down the Confusion Matrix:\")\n",
        "print(f\"True Negatives (TN):  {tn:,} - Correctly predicted 'No Churn'\")\n",
        "print(f\"False Positives (FP): {fp:,} - Incorrectly predicted 'Churn' (Type I Error)\")\n",
        "print(f\"False Negatives (FN): {fn:,} - Incorrectly predicted 'No Churn' (Type II Error)\")\n",
        "print(f\"True Positives (TP):  {tp:,} - Correctly predicted 'Churn'\")\n"
      ]
    },
    {
      "cell_type": "markdown",
      "metadata": {},
      "source": [
        "### Business Interpretation\n",
        "\n",
        "**Understanding the Confusion Matrix Components:**\n",
        "\n",
        "- **True Negatives (TN):** Customers correctly identified as staying\n",
        "- **False Positives (FP):** Customers incorrectly flagged for churn (false alarms)\n",
        "- **False Negatives (FN):** Customers who churned but we missed (missed opportunities)\n",
        "- **True Positives (TP):** Customers correctly identified as churning\n",
        "\n",
        "**Key Insights:**\n",
        "- The diagonal shows correct predictions (TN and TP)\n",
        "- Off-diagonal shows errors (FP and FN)\n",
        "- False Positives waste resources on customers who won't churn\n",
        "- False Negatives miss opportunities to retain customers who will churn\n"
      ]
    },
    {
      "cell_type": "code",
      "execution_count": 28,
      "metadata": {},
      "outputs": [
        {
          "data": {
            "image/png": "[encoded data removed]",
            "text/plain": [
              "<Figure size 1000x400 with 4 Axes>"
            ]
          },
          "metadata": {},
          "output_type": "display_data"
        }
      ],
      "source": [
        "# Visualize the confusion matrix\n",
        "plt.figure(figsize=(10, 4))\n",
        "\n",
        "# Plot 1: Basic confusion matrix\n",
        "plt.subplot(1, 2, 1)\n",
        "sns.heatmap(cm, annot=True, fmt='d', cmap='Blues', \n",
        "            xticklabels=['No Churn', 'Churn'],\n",
        "            yticklabels=['No Churn', 'Churn'])\n",
        "plt.title('Confusion Matrix')\n",
        "plt.xlabel('Predicted')\n",
        "plt.ylabel('Actual')\n",
        "\n",
        "# Plot 2: Confusion matrix with percentages\n",
        "plt.subplot(1, 2, 2)\n",
        "cm_percent = cm.astype('float') / cm.sum(axis=1)[:, np.newaxis] * 100\n",
        "sns.heatmap(cm_percent, annot=True, fmt='.1f', cmap='Blues',\n",
        "            xticklabels=['No Churn', 'Churn'],\n",
        "            yticklabels=['No Churn', 'Churn'])\n",
        "plt.title('Confusion Matrix (Percentages)')\n",
        "plt.xlabel('Predicted')\n",
        "plt.ylabel('Actual')\n",
        "\n",
        "plt.tight_layout()\n",
        "plt.show()\n"
      ]
    },
    {
      "cell_type": "markdown",
      "metadata": {},
      "source": [
        "### Visual Insights\n",
        "\n",
        "**Understanding the Heatmaps:**\n",
        "\n",
        "- **Darker colors** indicate higher counts\n",
        "- **The diagonal** shows correct predictions (TN and TP)\n",
        "- **Off-diagonal** shows errors (FP and FN)\n",
        "- **Percentages** show the proportion of each actual class\n",
        "- **Left plot** shows raw counts, **right plot** shows percentages\n"
      ]
    },
    {
      "cell_type": "markdown",
      "metadata": {},
      "source": [
        "## Section 2: The Accuracy Trap - Why 95% Accuracy Can Be Useless\n",
        "\n",
        "Let's see why accuracy alone can be misleading, especially with imbalanced data.\n"
      ]
    },
    {
      "cell_type": "code",
      "execution_count": 29,
      "metadata": {},
      "outputs": [
        {
          "name": "stdout",
          "output_type": "stream",
          "text": [
            "Our Model Accuracy: 77.3%\n",
            "Dumb Model Accuracy: 73.5% (Always predicts 'No Churn')\n",
            "\n",
            "Dumb Model Confusion Matrix:\n",
            "True Negatives: 1,035\n",
            "False Positives: 0\n",
            "False Negatives: 374\n",
            "True Positives: 0\n"
          ]
        }
      ],
      "source": [
        "# Calculate accuracy for our model\n",
        "accuracy = accuracy_score(y_test, y_pred)\n",
        "\n",
        "# Create a \"dumb\" model that always predicts \"No Churn\"\n",
        "dumb_predictions = np.zeros(len(y_test))  # All predictions are 0 (No Churn)\n",
        "dumb_accuracy = accuracy_score(y_test, dumb_predictions)\n",
        "\n",
        "# Show the confusion matrix for the dumb model\n",
        "dumb_cm = confusion_matrix(y_test, dumb_predictions)\n",
        "dumb_tn, dumb_fp, dumb_fn, dumb_tp = dumb_cm.ravel()\n",
        "\n",
        "print(f\"Our Model Accuracy: {accuracy:.1%}\")\n",
        "print(f\"Dumb Model Accuracy: {dumb_accuracy:.1%} (Always predicts 'No Churn')\")\n",
        "print(f\"\\nDumb Model Confusion Matrix:\")\n",
        "print(f\"True Negatives: {dumb_tn:,}\")\n",
        "print(f\"False Positives: {dumb_fp:,}\")\n",
        "print(f\"False Negatives: {dumb_fn:,}\")\n",
        "print(f\"True Positives: {dumb_tp:,}\")\n"
      ]
    },
    {
      "cell_type": "markdown",
      "metadata": {},
      "source": [
        "### The Accuracy Trap\n",
        "\n",
        "**The Problem:**\n",
        "- The dumb model achieves high accuracy by always predicting \"No Churn\"\n",
        "- But it never predicts churn (TP = 0)\n",
        "- It misses ALL customers who actually churn!\n",
        "- This model is completely useless for business purposes!\n",
        "\n",
        "**Key Insight:**\n",
        "- High accuracy doesn't mean a good model\n",
        "- We need metrics that focus on the minority class (churn)\n",
        "- This is why we need precision, recall, and F1 score\n"
      ]
    },
    {
      "cell_type": "code",
      "execution_count": 30,
      "metadata": {},
      "outputs": [
        {
          "data": {
            "image/png": "[encoded data removed]",
            "text/plain": [
              "<Figure size 1200x500 with 4 Axes>"
            ]
          },
          "metadata": {},
          "output_type": "display_data"
        }
      ],
      "source": [
        "# Visualize the accuracy trap\n",
        "plt.figure(figsize=(12, 5))\n",
        "\n",
        "# Plot 1: Our model confusion matrix\n",
        "plt.subplot(1, 2, 1)\n",
        "sns.heatmap(cm, annot=True, fmt='d', cmap='Blues',\n",
        "            xticklabels=['No Churn', 'Churn'],\n",
        "            yticklabels=['No Churn', 'Churn'])\n",
        "plt.title(f'Our Model (Accuracy: {accuracy:.1%})')\n",
        "plt.xlabel('Predicted')\n",
        "plt.ylabel('Actual')\n",
        "\n",
        "# Plot 2: Dumb model confusion matrix\n",
        "plt.subplot(1, 2, 2)\n",
        "sns.heatmap(dumb_cm, annot=True, fmt='d', cmap='Reds',\n",
        "            xticklabels=['No Churn', 'Churn'],\n",
        "            yticklabels=['No Churn', 'Churn'])\n",
        "plt.title(f'Dumb Model (Accuracy: {dumb_accuracy:.1%})')\n",
        "plt.xlabel('Predicted')\n",
        "plt.ylabel('Actual')\n",
        "\n",
        "plt.tight_layout()\n",
        "plt.show()\n"
      ]
    },
    {
      "cell_type": "markdown",
      "metadata": {},
      "source": [
        "### Visual Comparison\n",
        "\n",
        "**Key Observations:**\n",
        "- Both models have similar accuracy\n",
        "- But our model actually predicts churn (bottom-right cell)\n",
        "- Dumb model never predicts churn (bottom-right = 0)\n",
        "- This shows why accuracy alone is insufficient!\n"
      ]
    },
    {
      "cell_type": "markdown",
      "metadata": {},
      "source": [
        "## Section 3: Precision and Recall - The Essential Metrics\n",
        "\n",
        "Precision and recall focus on the minority class (churn) and give us much better insights than accuracy alone.\n"
      ]
    },
    {
      "cell_type": "code",
      "execution_count": 31,
      "metadata": {},
      "outputs": [
        {
          "name": "stdout",
          "output_type": "stream",
          "text": [
            "Precision = TP / (TP + FP) = 157 / (157 + 103) = 0.604\n",
            "Recall = TP / (TP + FN) = 157 / (157 + 217) = 0.420\n",
            "\n",
            "Verification with sklearn:\n",
            "Precision: 0.604\n",
            "Recall: 0.420\n"
          ]
        }
      ],
      "source": [
        "# Calculate precision and recall manually\n",
        "precision = tp / (tp + fp) if (tp + fp) > 0 else 0\n",
        "recall = tp / (tp + fn) if (tp + fn) > 0 else 0\n",
        "\n",
        "print(f\"Precision = TP / (TP + FP) = {tp} / ({tp} + {fp}) = {precision:.3f}\")\n",
        "print(f\"Recall = TP / (TP + FN) = {tp} / ({tp} + {fn}) = {recall:.3f}\")\n",
        "\n",
        "# Verify with sklearn\n",
        "sklearn_precision = precision_score(y_test, y_pred)\n",
        "sklearn_recall = recall_score(y_test, y_pred)\n",
        "\n",
        "print(f\"\\nVerification with sklearn:\")\n",
        "print(f\"Precision: {sklearn_precision:.3f}\")\n",
        "print(f\"Recall: {sklearn_recall:.3f}\")\n"
      ]
    },
    {
      "cell_type": "markdown",
      "metadata": {},
      "source": [
        "### Business Interpretation\n",
        "\n",
        "**Precision:** Of all customers we predicted would churn, what percentage actually did churn? This measures \"accuracy of positive predictions.\"\n",
        "\n",
        "**Recall:** Of all customers who actually churned, what percentage were correctly identified? This measures \"coverage of actual churners.\"\n",
        "\n",
        "**Key Questions:**\n",
        "- **Precision:** \"When I say churn, how often am I right?\"\n",
        "- **Recall:** \"When someone churns, how often do I catch them?\"\n"
      ]
    },
    {
      "cell_type": "code",
      "execution_count": 32,
      "metadata": {},
      "outputs": [
        {
          "name": "stdout",
          "output_type": "stream",
          "text": [
            "Actual Results:\n",
            "Precision: 60.4% - Of all customers predicted to churn, 60.4% actually churned\n",
            "Recall: 42.0% - Of all customers who churned, 42.0% were correctly identified\n"
          ]
        }
      ],
      "source": [
        "# Show the actual calculated values\n",
        "print(f\"Actual Results:\")\n",
        "print(f\"Precision: {precision:.1%} - Of all customers predicted to churn, {precision:.1%} actually churned\")\n",
        "print(f\"Recall: {recall:.1%} - Of all customers who churned, {recall:.1%} were correctly identified\")\n"
      ]
    },
    {
      "cell_type": "code",
      "execution_count": 33,
      "metadata": {},
      "outputs": [
        {
          "name": "stdout",
          "output_type": "stream",
          "text": [
            "Model Comparison:\n",
            "Metric       Our Model    Dumb Model  \n",
            "----------------------------------------\n",
            "Accuracy     77.3%        73.5%       \n",
            "Precision    60.4%        0.0%        \n",
            "Recall       42.0%        0.0%        \n"
          ]
        }
      ],
      "source": [
        "# Compare our model vs dumb model on precision and recall\n",
        "dumb_precision = dumb_tp / (dumb_tp + dumb_fp) if (dumb_tp + dumb_fp) > 0 else 0\n",
        "dumb_recall = dumb_tp / (dumb_tp + dumb_fn) if (dumb_tp + dumb_fn) > 0 else 0\n",
        "\n",
        "print(\"Model Comparison:\")\n",
        "print(f\"{'Metric':<12} {'Our Model':<12} {'Dumb Model':<12}\")\n",
        "print(\"-\" * 40)\n",
        "print(f\"{'Accuracy':<12} {accuracy:<12.1%} {dumb_accuracy:<12.1%}\")\n",
        "print(f\"{'Precision':<12} {precision:<12.1%} {dumb_precision:<12.1%}\")\n",
        "print(f\"{'Recall':<12} {recall:<12.1%} {dumb_recall:<12.1%}\")\n"
      ]
    },
    {
      "cell_type": "markdown",
      "metadata": {},
      "source": [
        "### Key Insights\n",
        "\n",
        "**Why Precision and Recall Matter:**\n",
        "- Accuracy is similar for both models\n",
        "- But precision and recall reveal the truth!\n",
        "- Dumb model has 0% precision and 0% recall\n",
        "- Our model actually identifies churners!\n",
        "\n",
        "**Visual Representation:**\n",
        "- **Precision:** \"When I say churn, how often am I right?\"\n",
        "- **Recall:** \"When someone churns, how often do I catch them?\"\n",
        "- Both metrics focus on the minority class (churn)\n",
        "- This makes them much more useful than accuracy!\n"
      ]
    },
    {
      "cell_type": "markdown",
      "metadata": {},
      "source": []
    }
  ],
  "metadata": {
    "kernelspec": {
      "display_name": "Python (venv)",
      "language": "python",
      "name": "venv"
    },
    "language_info": {
      "codemirror_mode": {
        "name": "ipython",
        "version": 3
      },
      "file_extension": ".py",
      "mimetype": "text/x-python",
      "name": "python",
      "nbconvert_exporter": "python",
      "pygments_lexer": "ipython3",
      "version": "3.12.7"
    }
  },
  "nbformat": 4,
  "nbformat_minor": 2
}
