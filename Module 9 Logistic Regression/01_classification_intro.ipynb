{
  "cells": [
    {
      "cell_type": "markdown",
      "metadata": {},
      "source": [
        "# Introduction to Classification\n",
        "\n",
        "## Learning Objectives\n",
        "By the end of this notebook, you will be able to:\n",
        "1. Distinguish classification from regression\n",
        "2. Load and explore the Telco Customer Churn dataset\n",
        "3. Build your first logistic regression model\n",
        "4. Make predictions on new customers\n",
        "5. Understand probability outputs\n"
      ]
    },
    {
      "cell_type": "markdown",
      "metadata": {},
      "source": [
        "## Introduction: Why Classification Matters\n",
        "\n",
        "Imagine you're working at a telecommunications company. Every month, some customers decide to cancel their service and switch to a competitor. This is called **customer churn**, and it's expensive for businesses.\n",
        "\n",
        "**Real-world impact:**\n",
        "- It costs 5-25 times more to acquire a new customer than to retain an existing one\n",
        "- A 5% reduction in churn can increase profits by 25-85%\n",
        "- Companies lose billions of dollars annually to customer churn\n",
        "\n",
        "**What if we could predict which customers are likely to leave?**\n",
        "\n",
        "This is exactly what **classification** does! Classification is a type of machine learning that predicts which category or class something belongs to. In our case, we want to predict whether a customer will churn (Yes) or stay (No).\n",
        "\n",
        "**Think About It:** Can you think of other business problems that involve classification? What about:\n",
        "- Email spam detection\n",
        "- Credit card fraud detection\n",
        "- Medical diagnosis\n",
        "- Product recommendation\n",
        "\n",
        "In this notebook, you'll build your first classification model and learn how to make predictions that could save companies millions of dollars!\n"
      ]
    },
    {
      "cell_type": "markdown",
      "metadata": {},
      "source": [
        "## Section 1: What is Classification?\n",
        "\n",
        "Before we dive into building models, let's understand what classification is and how it differs from regression.\n",
        "\n",
        "### Classification vs. Regression\n",
        "\n",
        "| **Classification** | **Regression** |\n",
        "|-------------------|----------------|\n",
        "| Predicts categories/classes | Predicts continuous numbers |\n",
        "| Examples: Yes/No, Spam/Not Spam, Cat/Dog | Examples: Price, Temperature, Age |\n",
        "| Output: Discrete labels | Output: Continuous values |\n",
        "| Goal: Assign to correct group | Goal: Predict exact value |\n",
        "\n",
        "### Types of Classification\n",
        "\n",
        "1. **Binary Classification:** Two possible outcomes\n",
        "   - Examples: Churn (Yes/No), Spam (Yes/No), Fraud (Yes/No)\n",
        "\n",
        "2. **Multi-class Classification:** More than two possible outcomes\n",
        "   - Examples: Weather (Sunny/Rainy/Cloudy), Product Category (Electronics/Clothing/Books)\n",
        "\n",
        "**Our Focus:** We'll start with binary classification using the Telco Customer Churn dataset.\n",
        "\n",
        "### Real-World Classification Examples\n",
        "\n",
        "**Healthcare:**\n",
        "- Diagnosing diseases (Cancer: Yes/No)\n",
        "- Predicting patient readmission risk\n",
        "\n",
        "**Finance:**\n",
        "- Credit approval (Approve/Deny)\n",
        "- Fraud detection (Fraudulent/Legitimate)\n",
        "\n",
        "**Technology:**\n",
        "- Email spam filtering\n",
        "- Image recognition (Cat/Dog/Person)\n",
        "\n",
        "**Business:**\n",
        "- Customer churn prediction\n",
        "- Product recommendation\n",
        "- Employee retention\n"
      ]
    },
    {
      "cell_type": "markdown",
      "metadata": {},
      "source": [
        "## Section 2: Loading and Exploring the Telco Churn Dataset\n",
        "\n",
        "Let's start by loading our dataset and understanding what we're working with.\n"
      ]
    },
    {
      "cell_type": "code",
      "execution_count": 56,
      "metadata": {},
      "outputs": [
        {
          "name": "stdout",
          "output_type": "stream",
          "text": [
            "Libraries imported successfully!\n",
            "Ready to start classification!\n"
          ]
        }
      ],
      "source": [
        "# Import necessary libraries\n",
        "import pandas as pd\n",
        "import numpy as np\n",
        "import matplotlib.pyplot as plt\n",
        "import seaborn as sns\n",
        "from sklearn.model_selection import train_test_split\n",
        "from sklearn.linear_model import LogisticRegression\n",
        "from sklearn.metrics import accuracy_score, classification_report\n",
        "\n",
        "# Set random seed for reproducibility\n",
        "np.random.seed(42)\n",
        "\n",
        "# Set plotting style\n",
        "plt.style.use('default')\n",
        "sns.set_palette(\"husl\")\n",
        "\n",
        "print(\"Libraries imported successfully!\")\n",
        "print(\"Ready to start classification!\")\n"
      ]
    },
    {
      "cell_type": "code",
      "execution_count": 57,
      "metadata": {},
      "outputs": [
        {
          "name": "stdout",
          "output_type": "stream",
          "text": [
            "✅ Dataset loaded successfully!\n",
            "\n",
            "Dataset shape: (7043, 21)\n",
            "Number of customers: 7,043\n",
            "Number of features: 21\n"
          ]
        }
      ],
      "source": [
        "# Load the Telco Customer Churn dataset\n",
        "url = \"https://raw.githubusercontent.com/IBM/telco-customer-churn-on-icp4d/master/data/Telco-Customer-Churn.csv\"\n",
        "\n",
        "try:\n",
        "    df = pd.read_csv(url)\n",
        "    print(\"✅ Dataset loaded successfully!\")\n",
        "except:\n",
        "    print(\"❌ Could not load from URL. Please check your internet connection.\")\n",
        "    print(\"Alternative: Download the file manually and update the path.\")\n",
        "\n",
        "# Display basic information about the dataset\n",
        "print(f\"\\nDataset shape: {df.shape}\")\n",
        "print(f\"Number of customers: {df.shape[0]:,}\")\n",
        "print(f\"Number of features: {df.shape[1]}\")\n"
      ]
    },
    {
      "cell_type": "code",
      "execution_count": 58,
      "metadata": {},
      "outputs": [
        {
          "name": "stdout",
          "output_type": "stream",
          "text": [
            "First 5 rows of the dataset:\n"
          ]
        },
        {
          "data": {
            "text/html": [
              "<div>\n",
              "<style scoped>\n",
              "    .dataframe tbody tr th:only-of-type {\n",
              "        vertical-align: middle;\n",
              "    }\n",
              "\n",
              "    .dataframe tbody tr th {\n",
              "        vertical-align: top;\n",
              "    }\n",
              "\n",
              "    .dataframe thead th {\n",
              "        text-align: right;\n",
              "    }\n",
              "</style>\n",
              "<table border=\"1\" class=\"dataframe\">\n",
              "  <thead>\n",
              "    <tr style=\"text-align: right;\">\n",
              "      <th></th>\n",
              "      <th>customerID</th>\n",
              "      <th>gender</th>\n",
              "      <th>SeniorCitizen</th>\n",
              "      <th>Partner</th>\n",
              "      <th>Dependents</th>\n",
              "      <th>tenure</th>\n",
              "      <th>PhoneService</th>\n",
              "      <th>MultipleLines</th>\n",
              "      <th>InternetService</th>\n",
              "      <th>OnlineSecurity</th>\n",
              "      <th>...</th>\n",
              "      <th>DeviceProtection</th>\n",
              "      <th>TechSupport</th>\n",
              "      <th>StreamingTV</th>\n",
              "      <th>StreamingMovies</th>\n",
              "      <th>Contract</th>\n",
              "      <th>PaperlessBilling</th>\n",
              "      <th>PaymentMethod</th>\n",
              "      <th>MonthlyCharges</th>\n",
              "      <th>TotalCharges</th>\n",
              "      <th>Churn</th>\n",
              "    </tr>\n",
              "  </thead>\n",
              "  <tbody>\n",
              "    <tr>\n",
              "      <th>0</th>\n",
              "      <td>7590-VHVEG</td>\n",
              "      <td>Female</td>\n",
              "      <td>0</td>\n",
              "      <td>Yes</td>\n",
              "      <td>No</td>\n",
              "      <td>1</td>\n",
              "      <td>No</td>\n",
              "      <td>No phone service</td>\n",
              "      <td>DSL</td>\n",
              "      <td>No</td>\n",
              "      <td>...</td>\n",
              "      <td>No</td>\n",
              "      <td>No</td>\n",
              "      <td>No</td>\n",
              "      <td>No</td>\n",
              "      <td>Month-to-month</td>\n",
              "      <td>Yes</td>\n",
              "      <td>Electronic check</td>\n",
              "      <td>29.85</td>\n",
              "      <td>29.85</td>\n",
              "      <td>No</td>\n",
              "    </tr>\n",
              "    <tr>\n",
              "      <th>1</th>\n",
              "      <td>5575-GNVDE</td>\n",
              "      <td>Male</td>\n",
              "      <td>0</td>\n",
              "      <td>No</td>\n",
              "      <td>No</td>\n",
              "      <td>34</td>\n",
              "      <td>Yes</td>\n",
              "      <td>No</td>\n",
              "      <td>DSL</td>\n",
              "      <td>Yes</td>\n",
              "      <td>...</td>\n",
              "      <td>Yes</td>\n",
              "      <td>No</td>\n",
              "      <td>No</td>\n",
              "      <td>No</td>\n",
              "      <td>One year</td>\n",
              "      <td>No</td>\n",
              "      <td>Mailed check</td>\n",
              "      <td>56.95</td>\n",
              "      <td>1889.5</td>\n",
              "      <td>No</td>\n",
              "    </tr>\n",
              "    <tr>\n",
              "      <th>2</th>\n",
              "      <td>3668-QPYBK</td>\n",
              "      <td>Male</td>\n",
              "      <td>0</td>\n",
              "      <td>No</td>\n",
              "      <td>No</td>\n",
              "      <td>2</td>\n",
              "      <td>Yes</td>\n",
              "      <td>No</td>\n",
              "      <td>DSL</td>\n",
              "      <td>Yes</td>\n",
              "      <td>...</td>\n",
              "      <td>No</td>\n",
              "      <td>No</td>\n",
              "      <td>No</td>\n",
              "      <td>No</td>\n",
              "      <td>Month-to-month</td>\n",
              "      <td>Yes</td>\n",
              "      <td>Mailed check</td>\n",
              "      <td>53.85</td>\n",
              "      <td>108.15</td>\n",
              "      <td>Yes</td>\n",
              "    </tr>\n",
              "    <tr>\n",
              "      <th>3</th>\n",
              "      <td>7795-CFOCW</td>\n",
              "      <td>Male</td>\n",
              "      <td>0</td>\n",
              "      <td>No</td>\n",
              "      <td>No</td>\n",
              "      <td>45</td>\n",
              "      <td>No</td>\n",
              "      <td>No phone service</td>\n",
              "      <td>DSL</td>\n",
              "      <td>Yes</td>\n",
              "      <td>...</td>\n",
              "      <td>Yes</td>\n",
              "      <td>Yes</td>\n",
              "      <td>No</td>\n",
              "      <td>No</td>\n",
              "      <td>One year</td>\n",
              "      <td>No</td>\n",
              "      <td>Bank transfer (automatic)</td>\n",
              "      <td>42.30</td>\n",
              "      <td>1840.75</td>\n",
              "      <td>No</td>\n",
              "    </tr>\n",
              "    <tr>\n",
              "      <th>4</th>\n",
              "      <td>9237-HQITU</td>\n",
              "      <td>Female</td>\n",
              "      <td>0</td>\n",
              "      <td>No</td>\n",
              "      <td>No</td>\n",
              "      <td>2</td>\n",
              "      <td>Yes</td>\n",
              "      <td>No</td>\n",
              "      <td>Fiber optic</td>\n",
              "      <td>No</td>\n",
              "      <td>...</td>\n",
              "      <td>No</td>\n",
              "      <td>No</td>\n",
              "      <td>No</td>\n",
              "      <td>No</td>\n",
              "      <td>Month-to-month</td>\n",
              "      <td>Yes</td>\n",
              "      <td>Electronic check</td>\n",
              "      <td>70.70</td>\n",
              "      <td>151.65</td>\n",
              "      <td>Yes</td>\n",
              "    </tr>\n",
              "  </tbody>\n",
              "</table>\n",
              "<p>5 rows × 21 columns</p>\n",
              "</div>"
            ],
            "text/plain": [
              "   customerID  gender  SeniorCitizen Partner Dependents  tenure PhoneService  \\\n",
              "0  7590-VHVEG  Female              0     Yes         No       1           No   \n",
              "1  5575-GNVDE    Male              0      No         No      34          Yes   \n",
              "2  3668-QPYBK    Male              0      No         No       2          Yes   \n",
              "3  7795-CFOCW    Male              0      No         No      45           No   \n",
              "4  9237-HQITU  Female              0      No         No       2          Yes   \n",
              "\n",
              "      MultipleLines InternetService OnlineSecurity  ... DeviceProtection  \\\n",
              "0  No phone service             DSL             No  ...               No   \n",
              "1                No             DSL            Yes  ...              Yes   \n",
              "2                No             DSL            Yes  ...               No   \n",
              "3  No phone service             DSL            Yes  ...              Yes   \n",
              "4                No     Fiber optic             No  ...               No   \n",
              "\n",
              "  TechSupport StreamingTV StreamingMovies        Contract PaperlessBilling  \\\n",
              "0          No          No              No  Month-to-month              Yes   \n",
              "1          No          No              No        One year               No   \n",
              "2          No          No              No  Month-to-month              Yes   \n",
              "3         Yes          No              No        One year               No   \n",
              "4          No          No              No  Month-to-month              Yes   \n",
              "\n",
              "               PaymentMethod MonthlyCharges  TotalCharges Churn  \n",
              "0           Electronic check          29.85         29.85    No  \n",
              "1               Mailed check          56.95        1889.5    No  \n",
              "2               Mailed check          53.85        108.15   Yes  \n",
              "3  Bank transfer (automatic)          42.30       1840.75    No  \n",
              "4           Electronic check          70.70        151.65   Yes  \n",
              "\n",
              "[5 rows x 21 columns]"
            ]
          },
          "execution_count": 58,
          "metadata": {},
          "output_type": "execute_result"
        }
      ],
      "source": [
        "# Look at the first few rows\n",
        "print(\"First 5 rows of the dataset:\")\n",
        "df.head()\n"
      ]
    },
    {
      "cell_type": "code",
      "execution_count": 59,
      "metadata": {},
      "outputs": [
        {
          "name": "stdout",
          "output_type": "stream",
          "text": [
            "Dataset Information:\n",
            "==================================================\n",
            "<class 'pandas.core.frame.DataFrame'>\n",
            "RangeIndex: 7043 entries, 0 to 7042\n",
            "Data columns (total 21 columns):\n",
            " #   Column            Non-Null Count  Dtype  \n",
            "---  ------            --------------  -----  \n",
            " 0   customerID        7043 non-null   object \n",
            " 1   gender            7043 non-null   object \n",
            " 2   SeniorCitizen     7043 non-null   int64  \n",
            " 3   Partner           7043 non-null   object \n",
            " 4   Dependents        7043 non-null   object \n",
            " 5   tenure            7043 non-null   int64  \n",
            " 6   PhoneService      7043 non-null   object \n",
            " 7   MultipleLines     7043 non-null   object \n",
            " 8   InternetService   7043 non-null   object \n",
            " 9   OnlineSecurity    7043 non-null   object \n",
            " 10  OnlineBackup      7043 non-null   object \n",
            " 11  DeviceProtection  7043 non-null   object \n",
            " 12  TechSupport       7043 non-null   object \n",
            " 13  StreamingTV       7043 non-null   object \n",
            " 14  StreamingMovies   7043 non-null   object \n",
            " 15  Contract          7043 non-null   object \n",
            " 16  PaperlessBilling  7043 non-null   object \n",
            " 17  PaymentMethod     7043 non-null   object \n",
            " 18  MonthlyCharges    7043 non-null   float64\n",
            " 19  TotalCharges      7043 non-null   object \n",
            " 20  Churn             7043 non-null   object \n",
            "dtypes: float64(1), int64(2), object(18)\n",
            "memory usage: 1.1+ MB\n"
          ]
        }
      ],
      "source": [
        "# Get basic information about the dataset\n",
        "print(\"Dataset Information:\")\n",
        "print(\"=\" * 50)\n",
        "df.info()\n"
      ]
    },
    {
      "cell_type": "code",
      "execution_count": 60,
      "metadata": {},
      "outputs": [
        {
          "name": "stdout",
          "output_type": "stream",
          "text": [
            "Missing Values:\n",
            "==============================\n",
            "Series([], dtype: int64)\n",
            "\n",
            "✅ No missing values found!\n",
            "\n",
            "🔧 Data Cleaning:\n",
            "==============================\n",
            "Converting TotalCharges from string to numeric...\n",
            "Found 11 empty TotalCharges values\n",
            "✅ Filled empty TotalCharges with 0\n",
            "TotalCharges data type: float64\n",
            "TotalCharges range: $0.00 - $8684.80\n"
          ]
        }
      ],
      "source": [
        "# Check for missing values\n",
        "print(\"Missing Values:\")\n",
        "print(\"=\" * 30)\n",
        "missing_values = df.isnull().sum()\n",
        "print(missing_values[missing_values > 0])\n",
        "\n",
        "if missing_values.sum() == 0:\n",
        "    print(\"\\n✅ No missing values found!\")\n",
        "else:\n",
        "    print(f\"\\n⚠️ Total missing values: {missing_values.sum()}\")\n",
        "\n",
        "# Fix TotalCharges column - it contains empty strings that need to be converted\n",
        "print(\"\\n🔧 Data Cleaning:\")\n",
        "print(\"=\" * 30)\n",
        "print(\"Converting TotalCharges from string to numeric...\")\n",
        "\n",
        "# Convert TotalCharges to numeric, replacing empty strings with NaN\n",
        "df['TotalCharges'] = pd.to_numeric(df['TotalCharges'], errors='coerce')\n",
        "\n",
        "# Check how many values were converted to NaN\n",
        "nan_count = df['TotalCharges'].isnull().sum()\n",
        "print(f\"Found {nan_count} empty TotalCharges values\")\n",
        "\n",
        "if nan_count > 0:\n",
        "    # Fill NaN values with 0 (assuming new customers with no charges yet)\n",
        "    df['TotalCharges'] = df['TotalCharges'].fillna(0)\n",
        "    print(\"✅ Filled empty TotalCharges with 0\")\n",
        "else:\n",
        "    print(\"✅ All TotalCharges values converted successfully\")\n",
        "\n",
        "print(f\"TotalCharges data type: {df['TotalCharges'].dtype}\")\n",
        "print(f\"TotalCharges range: ${df['TotalCharges'].min():.2f} - ${df['TotalCharges'].max():.2f}\")\n"
      ]
    },
    {
      "cell_type": "markdown",
      "metadata": {},
      "source": [
        "### Understanding Our Target Variable: Churn\n",
        "\n",
        "The most important column in our dataset is `Churn` - this is what we want to predict!\n"
      ]
    },
    {
      "cell_type": "code",
      "execution_count": 61,
      "metadata": {},
      "outputs": [
        {
          "name": "stdout",
          "output_type": "stream",
          "text": [
            "Churn Distribution:\n",
            "==============================\n",
            "No Churn: 5,174 customers (73.5%)\n",
            "Churn: 1,869 customers (26.5%)\n"
          ]
        },
        {
          "data": {
            "image/png": "[encoded data removed]",
            "text/plain": [
              "<Figure size 800x600 with 1 Axes>"
            ]
          },
          "metadata": {},
          "output_type": "display_data"
        },
        {
          "name": "stdout",
          "output_type": "stream",
          "text": [
            "\n",
            "📊 Business Insight: About 26.5% of customers churn.\n",
            "This is a realistic level of churn for telecom companies.\n"
          ]
        }
      ],
      "source": [
        "# Explore the churn distribution\n",
        "print(\"Churn Distribution:\")\n",
        "print(\"=\" * 30)\n",
        "churn_counts = df['Churn'].value_counts()\n",
        "churn_percentages = df['Churn'].value_counts(normalize=True) * 100\n",
        "\n",
        "print(f\"No Churn: {churn_counts['No']:,} customers ({churn_percentages['No']:.1f}%)\")\n",
        "print(f\"Churn: {churn_counts['Yes']:,} customers ({churn_percentages['Yes']:.1f}%)\")\n",
        "\n",
        "# Visualize the churn distribution\n",
        "plt.figure(figsize=(8, 6))\n",
        "churn_counts.plot(kind='bar', color=['lightblue', 'salmon'])\n",
        "plt.title('Customer Churn Distribution', fontsize=16, fontweight='bold')\n",
        "plt.xlabel('Churn Status', fontsize=12)\n",
        "plt.ylabel('Number of Customers', fontsize=12)\n",
        "plt.xticks(rotation=0)\n",
        "\n",
        "# Add percentage labels on bars\n",
        "for i, v in enumerate(churn_counts.values):\n",
        "    plt.text(i, v + 50, f'{churn_percentages.iloc[i]:.1f}%', \n",
        "             ha='center', fontweight='bold', fontsize=11)\n",
        "\n",
        "plt.tight_layout()\n",
        "plt.show()\n",
        "\n",
        "print(f\"\\n📊 Business Insight: About {churn_percentages['Yes']:.1f}% of customers churn.\")\n",
        "print(\"This is a realistic level of churn for telecom companies.\")\n"
      ]
    },
    {
      "cell_type": "markdown",
      "metadata": {},
      "source": [
        "### Exploring Key Features\n",
        "\n",
        "Let's look at some important features that might help us predict churn:\n"
      ]
    },
    {
      "cell_type": "code",
      "execution_count": 62,
      "metadata": {},
      "outputs": [
        {
          "name": "stdout",
          "output_type": "stream",
          "text": [
            "Numerical Features Summary:\n",
            "========================================\n"
          ]
        },
        {
          "data": {
            "text/html": [
              "<div>\n",
              "<style scoped>\n",
              "    .dataframe tbody tr th:only-of-type {\n",
              "        vertical-align: middle;\n",
              "    }\n",
              "\n",
              "    .dataframe tbody tr th {\n",
              "        vertical-align: top;\n",
              "    }\n",
              "\n",
              "    .dataframe thead th {\n",
              "        text-align: right;\n",
              "    }\n",
              "</style>\n",
              "<table border=\"1\" class=\"dataframe\">\n",
              "  <thead>\n",
              "    <tr style=\"text-align: right;\">\n",
              "      <th></th>\n",
              "      <th>tenure</th>\n",
              "      <th>MonthlyCharges</th>\n",
              "      <th>TotalCharges</th>\n",
              "    </tr>\n",
              "  </thead>\n",
              "  <tbody>\n",
              "    <tr>\n",
              "      <th>count</th>\n",
              "      <td>7043.000000</td>\n",
              "      <td>7043.000000</td>\n",
              "      <td>7043.000000</td>\n",
              "    </tr>\n",
              "    <tr>\n",
              "      <th>mean</th>\n",
              "      <td>32.371149</td>\n",
              "      <td>64.761692</td>\n",
              "      <td>2279.734304</td>\n",
              "    </tr>\n",
              "    <tr>\n",
              "      <th>std</th>\n",
              "      <td>24.559481</td>\n",
              "      <td>30.090047</td>\n",
              "      <td>2266.794470</td>\n",
              "    </tr>\n",
              "    <tr>\n",
              "      <th>min</th>\n",
              "      <td>0.000000</td>\n",
              "      <td>18.250000</td>\n",
              "      <td>0.000000</td>\n",
              "    </tr>\n",
              "    <tr>\n",
              "      <th>25%</th>\n",
              "      <td>9.000000</td>\n",
              "      <td>35.500000</td>\n",
              "      <td>398.550000</td>\n",
              "    </tr>\n",
              "    <tr>\n",
              "      <th>50%</th>\n",
              "      <td>29.000000</td>\n",
              "      <td>70.350000</td>\n",
              "      <td>1394.550000</td>\n",
              "    </tr>\n",
              "    <tr>\n",
              "      <th>75%</th>\n",
              "      <td>55.000000</td>\n",
              "      <td>89.850000</td>\n",
              "      <td>3786.600000</td>\n",
              "    </tr>\n",
              "    <tr>\n",
              "      <th>max</th>\n",
              "      <td>72.000000</td>\n",
              "      <td>118.750000</td>\n",
              "      <td>8684.800000</td>\n",
              "    </tr>\n",
              "  </tbody>\n",
              "</table>\n",
              "</div>"
            ],
            "text/plain": [
              "            tenure  MonthlyCharges  TotalCharges\n",
              "count  7043.000000     7043.000000   7043.000000\n",
              "mean     32.371149       64.761692   2279.734304\n",
              "std      24.559481       30.090047   2266.794470\n",
              "min       0.000000       18.250000      0.000000\n",
              "25%       9.000000       35.500000    398.550000\n",
              "50%      29.000000       70.350000   1394.550000\n",
              "75%      55.000000       89.850000   3786.600000\n",
              "max      72.000000      118.750000   8684.800000"
            ]
          },
          "execution_count": 62,
          "metadata": {},
          "output_type": "execute_result"
        }
      ],
      "source": [
        "# Look at numerical features\n",
        "print(\"Numerical Features Summary:\")\n",
        "print(\"=\" * 40)\n",
        "numerical_features = ['tenure', 'MonthlyCharges', 'TotalCharges']\n",
        "df[numerical_features].describe()\n"
      ]
    },
    {
      "cell_type": "code",
      "execution_count": 63,
      "metadata": {},
      "outputs": [
        {
          "data": {
            "image/png": "[encoded data removed]",
            "text/plain": [
              "<Figure size 1200x500 with 2 Axes>"
            ]
          },
          "metadata": {},
          "output_type": "display_data"
        },
        {
          "name": "stdout",
          "output_type": "stream",
          "text": [
            "\n",
            "🔍 Initial Observations:\n",
            "- Customers who churn tend to have shorter tenure\n",
            "- Monthly charges might be related to churn\n",
            "- We need to investigate these relationships further!\n"
          ]
        }
      ],
      "source": [
        "# Visualize relationship between tenure and churn\n",
        "plt.figure(figsize=(12, 5))\n",
        "\n",
        "# Subplot 1: Tenure distribution by churn\n",
        "plt.subplot(1, 2, 1)\n",
        "df.boxplot(column='tenure', by='Churn', ax=plt.gca())\n",
        "plt.title('Tenure by Churn Status')\n",
        "plt.xlabel('Churn')\n",
        "plt.ylabel('Tenure (months)')\n",
        "\n",
        "# Subplot 2: Monthly charges by churn\n",
        "plt.subplot(1, 2, 2)\n",
        "df.boxplot(column='MonthlyCharges', by='Churn', ax=plt.gca())\n",
        "plt.title('Monthly Charges by Churn Status')\n",
        "plt.xlabel('Churn')\n",
        "plt.ylabel('Monthly Charges ($)')\n",
        "\n",
        "plt.tight_layout()\n",
        "plt.show()\n",
        "\n",
        "print(\"\\n🔍 Initial Observations:\")\n",
        "print(\"- Customers who churn tend to have shorter tenure\")\n",
        "print(\"- Monthly charges might be related to churn\")\n",
        "print(\"- We need to investigate these relationships further!\")\n"
      ]
    },
    {
      "cell_type": "markdown",
      "metadata": {},
      "source": [
        "## Section 3: Building Your First Logistic Regression Model\n",
        "\n",
        "Now let's build our first classification model! We'll start simple with just two features.\n",
        "\n",
        "### Why Logistic Regression?\n",
        "\n",
        "**Logistic regression** is perfect for binary classification because:\n",
        "- It outputs probabilities (0 to 1)\n",
        "- It's easy to interpret\n",
        "- It works well with both numerical and categorical features\n",
        "- It's fast and reliable\n",
        "\n",
        "**Think About It:** Why do you think we can't use regular linear regression for classification?\n"
      ]
    },
    {
      "cell_type": "code",
      "execution_count": 64,
      "metadata": {},
      "outputs": [
        {
          "name": "stdout",
          "output_type": "stream",
          "text": [
            "Features selected: ['tenure', 'MonthlyCharges']\n",
            "Feature matrix shape: (7043, 2)\n",
            "Target vector shape: (7043,)\n",
            "\n",
            "Target distribution:\n",
            "No churn (0): 5,174 customers\n",
            "Churn (1): 1,869 customers\n"
          ]
        }
      ],
      "source": [
        "# Prepare our data for modeling\n",
        "# Let's start with just two numerical features: tenure and MonthlyCharges\n",
        "\n",
        "# Select features\n",
        "features = ['tenure', 'MonthlyCharges']\n",
        "X = df[features]\n",
        "\n",
        "# Prepare target variable (convert Yes/No to 1/0)\n",
        "y = (df['Churn'] == 'Yes').astype(int)\n",
        "\n",
        "print(\"Features selected:\", features)\n",
        "print(f\"Feature matrix shape: {X.shape}\")\n",
        "print(f\"Target vector shape: {y.shape}\")\n",
        "print(f\"\\nTarget distribution:\")\n",
        "print(f\"No churn (0): {(y == 0).sum():,} customers\")\n",
        "print(f\"Churn (1): {(y == 1).sum():,} customers\")\n"
      ]
    },
    {
      "cell_type": "code",
      "execution_count": 65,
      "metadata": {},
      "outputs": [
        {
          "name": "stdout",
          "output_type": "stream",
          "text": [
            "Data split completed!\n",
            "Training set: 5,634 customers\n",
            "Testing set: 1,409 customers\n",
            "\n",
            "Training set churn rate: 26.5%\n",
            "Testing set churn rate: 26.5%\n"
          ]
        }
      ],
      "source": [
        "# Split the data into training and testing sets\n",
        "X_train, X_test, y_train, y_test = train_test_split(\n",
        "    X, y, \n",
        "    test_size=0.2, \n",
        "    random_state=42, \n",
        "    stratify=y  # Ensures both sets have similar churn proportions\n",
        ")\n",
        "\n",
        "print(\"Data split completed!\")\n",
        "print(f\"Training set: {X_train.shape[0]:,} customers\")\n",
        "print(f\"Testing set: {X_test.shape[0]:,} customers\")\n",
        "print(f\"\\nTraining set churn rate: {y_train.mean():.1%}\")\n",
        "print(f\"Testing set churn rate: {y_test.mean():.1%}\")\n"
      ]
    },
    {
      "cell_type": "code",
      "execution_count": 66,
      "metadata": {},
      "outputs": [
        {
          "name": "stdout",
          "output_type": "stream",
          "text": [
            "✅ Model trained successfully!\n",
            "\n",
            "Model coefficients:\n",
            "tenure: -0.0543\n",
            "MonthlyCharges: 0.0335\n",
            "Intercept: -1.8523\n"
          ]
        }
      ],
      "source": [
        "# Create and train our first logistic regression model\n",
        "model = LogisticRegression(random_state=42)\n",
        "\n",
        "# Train the model\n",
        "model.fit(X_train, y_train)\n",
        "\n",
        "print(\"✅ Model trained successfully!\")\n",
        "print(f\"\\nModel coefficients:\")\n",
        "for feature, coef in zip(features, model.coef_[0]):\n",
        "    print(f\"{feature}: {coef:.4f}\")\n",
        "print(f\"Intercept: {model.intercept_[0]:.4f}\")\n"
      ]
    },
    {
      "cell_type": "code",
      "execution_count": 67,
      "metadata": {},
      "outputs": [
        {
          "name": "stdout",
          "output_type": "stream",
          "text": [
            "Model Performance:\n",
            "==============================\n",
            "Accuracy: 0.774 (77.4%)\n",
            "\n",
            "Predictions made for 1,409 test customers\n",
            "Predicted churn: 263 customers\n",
            "Predicted no churn: 1,146 customers\n"
          ]
        }
      ],
      "source": [
        "# Make predictions on the test set\n",
        "y_pred = model.predict(X_test)\n",
        "y_pred_proba = model.predict_proba(X_test)[:, 1]  # Probability of churn\n",
        "\n",
        "# Calculate accuracy\n",
        "accuracy = accuracy_score(y_test, y_pred)\n",
        "\n",
        "print(\"Model Performance:\")\n",
        "print(\"=\" * 30)\n",
        "print(f\"Accuracy: {accuracy:.3f} ({accuracy:.1%})\")\n",
        "print(f\"\\nPredictions made for {len(y_test):,} test customers\")\n",
        "print(f\"Predicted churn: {(y_pred == 1).sum():,} customers\")\n",
        "print(f\"Predicted no churn: {(y_pred == 0).sum():,} customers\")\n"
      ]
    },
    {
      "cell_type": "markdown",
      "metadata": {},
      "source": [
        "### Understanding Probability Outputs\n",
        "\n",
        "One of the most powerful aspects of logistic regression is that it gives us **probabilities**, not just predictions!\n"
      ]
    },
    {
      "cell_type": "code",
      "execution_count": 68,
      "metadata": {},
      "outputs": [
        {
          "name": "stdout",
          "output_type": "stream",
          "text": [
            "Sample Probability Predictions:\n",
            "========================================\n",
            " Tenure  Monthly_Charges Actual_Churn Predicted_Churn  Churn_Probability\n",
            "      9            50.85           No              No              0.346\n",
            "     18            50.30           No              No              0.242\n",
            "     64            19.45           No              No              0.009\n",
            "     19            79.85          Yes              No              0.449\n",
            "     66            63.30           No              No              0.035\n",
            "     51            19.95           No              No              0.019\n",
            "     59           113.75           No              No              0.225\n",
            "     18            49.55          Yes              No              0.237\n",
            "     41            51.35           No              No              0.087\n",
            "      1           102.45          Yes             Yes              0.822\n",
            "\n",
            "💡 Key Insights:\n",
            "- Probabilities range from 0 to 1\n",
            "- Higher probability = more likely to churn\n",
            "- We can set custom thresholds (not just 0.5)\n",
            "- This gives us flexibility for business decisions!\n"
          ]
        }
      ],
      "source": [
        "# Look at some probability predictions\n",
        "print(\"Sample Probability Predictions:\")\n",
        "print(\"=\" * 40)\n",
        "\n",
        "# Create a sample of predictions\n",
        "sample_indices = np.random.choice(len(X_test), size=10, replace=False)\n",
        "sample_data = X_test.iloc[sample_indices]\n",
        "sample_actual = y_test.iloc[sample_indices]\n",
        "sample_proba = y_pred_proba[sample_indices]\n",
        "sample_pred = y_pred[sample_indices]\n",
        "\n",
        "# Display results\n",
        "results_df = pd.DataFrame({\n",
        "    'Tenure': sample_data['tenure'],\n",
        "    'Monthly_Charges': sample_data['MonthlyCharges'],\n",
        "    'Actual_Churn': sample_actual,\n",
        "    'Predicted_Churn': sample_pred,\n",
        "    'Churn_Probability': sample_proba\n",
        "})\n",
        "\n",
        "results_df['Churn_Probability'] = results_df['Churn_Probability'].round(3)\n",
        "results_df['Actual_Churn'] = results_df['Actual_Churn'].map({0: 'No', 1: 'Yes'})\n",
        "results_df['Predicted_Churn'] = results_df['Predicted_Churn'].map({0: 'No', 1: 'Yes'})\n",
        "\n",
        "print(results_df.to_string(index=False))\n",
        "\n",
        "print(\"\\n💡 Key Insights:\")\n",
        "print(\"- Probabilities range from 0 to 1\")\n",
        "print(\"- Higher probability = more likely to churn\")\n",
        "print(\"- We can set custom thresholds (not just 0.5)\")\n",
        "print(\"- This gives us flexibility for business decisions!\")\n"
      ]
    },
    {
      "cell_type": "markdown",
      "metadata": {},
      "source": [
        "## Section 4: Making Predictions on New Customers\n",
        "\n",
        "Now let's use our model to predict churn for hypothetical new customers!\n"
      ]
    },
    {
      "cell_type": "code",
      "execution_count": 69,
      "metadata": {},
      "outputs": [
        {
          "name": "stdout",
          "output_type": "stream",
          "text": [
            "Hypothetical New Customers:\n",
            "========================================\n",
            " tenure  MonthlyCharges\n",
            "      1              70\n",
            "     12              50\n",
            "     24              80\n",
            "     36             100\n",
            "     60              30\n",
            "\n",
            "Predictions:\n",
            "====================\n",
            "  Customer  Tenure (months)  Monthly Charges ($)  Churn Probability Predicted Churn\n",
            "Customer A                1                   70              0.609             Yes\n",
            "Customer B               12                   50              0.304              No\n",
            "Customer C               24                   80              0.384              No\n",
            "Customer D               36                  100              0.389              No\n",
            "Customer E               60                   30              0.016              No\n"
          ]
        }
      ],
      "source": [
        "# Create some hypothetical customers\n",
        "new_customers = pd.DataFrame({\n",
        "    'tenure': [1, 12, 24, 36, 60],\n",
        "    'MonthlyCharges': [70, 50, 80, 100, 30]\n",
        "})\n",
        "\n",
        "print(\"Hypothetical New Customers:\")\n",
        "print(\"=\" * 40)\n",
        "print(new_customers.to_string(index=False))\n",
        "\n",
        "# Make predictions\n",
        "new_predictions = model.predict(new_customers)\n",
        "new_probabilities = model.predict_proba(new_customers)[:, 1]\n",
        "\n",
        "# Create results table\n",
        "results = pd.DataFrame({\n",
        "    'Customer': ['Customer A', 'Customer B', 'Customer C', 'Customer D', 'Customer E'],\n",
        "    'Tenure (months)': new_customers['tenure'],\n",
        "    'Monthly Charges ($)': new_customers['MonthlyCharges'],\n",
        "    'Churn Probability': new_probabilities.round(3),\n",
        "    'Predicted Churn': ['Yes' if p == 1 else 'No' for p in new_predictions]\n",
        "})\n",
        "\n",
        "print(\"\\nPredictions:\")\n",
        "print(\"=\" * 20)\n",
        "print(results.to_string(index=False))\n"
      ]
    },
    {
      "cell_type": "code",
      "execution_count": 70,
      "metadata": {},
      "outputs": [
        {
          "data": {
            "image/png": "[encoded data removed]",
            "text/plain": [
              "<Figure size 1000x600 with 2 Axes>"
            ]
          },
          "metadata": {},
          "output_type": "display_data"
        },
        {
          "name": "stdout",
          "output_type": "stream",
          "text": [
            "\n",
            "🎯 Business Insights:\n",
            "- Red colors = High churn risk\n",
            "- Blue colors = Low churn risk\n",
            "- Customer D has the highest risk (short tenure + high charges)\n",
            "- Customer E has the lowest risk (long tenure + low charges)\n"
          ]
        }
      ],
      "source": [
        "# Visualize the predictions\n",
        "plt.figure(figsize=(10, 6))\n",
        "\n",
        "# Create scatter plot\n",
        "scatter = plt.scatter(new_customers['tenure'], \n",
        "                     new_customers['MonthlyCharges'], \n",
        "                     c=new_probabilities, \n",
        "                     s=200, \n",
        "                     cmap='RdYlBu_r', \n",
        "                     edgecolors='black',\n",
        "                     linewidth=2)\n",
        "\n",
        "# Add colorbar\n",
        "cbar = plt.colorbar(scatter)\n",
        "cbar.set_label('Churn Probability', fontsize=12)\n",
        "\n",
        "# Add labels and title\n",
        "plt.xlabel('Tenure (months)', fontsize=12)\n",
        "plt.ylabel('Monthly Charges ($)', fontsize=12)\n",
        "plt.title('Churn Risk for New Customers', fontsize=14, fontweight='bold')\n",
        "\n",
        "# Add customer labels\n",
        "for i, customer in enumerate(['A', 'B', 'C', 'D', 'E']):\n",
        "    plt.annotate(f'Customer {customer}', \n",
        "                (new_customers.iloc[i]['tenure'], new_customers.iloc[i]['MonthlyCharges']),\n",
        "                xytext=(5, 5), textcoords='offset points',\n",
        "                fontsize=10, fontweight='bold')\n",
        "\n",
        "plt.grid(True, alpha=0.3)\n",
        "plt.tight_layout()\n",
        "plt.show()\n",
        "\n",
        "print(\"\\n🎯 Business Insights:\")\n",
        "print(\"- Red colors = High churn risk\")\n",
        "print(\"- Blue colors = Low churn risk\")\n",
        "print(\"- Customer D has the highest risk (short tenure + high charges)\")\n",
        "print(\"- Customer E has the lowest risk (long tenure + low charges)\")\n"
      ]
    },
    {
      "cell_type": "markdown",
      "metadata": {},
      "source": [
        "## Demonstration: Adding a Third Feature\n",
        "\n",
        "Let's see how adding `TotalCharges` as a third feature affects our model performance.\n"
      ]
    },
    {
      "cell_type": "code",
      "execution_count": 71,
      "metadata": {},
      "outputs": [
        {
          "name": "stdout",
          "output_type": "stream",
          "text": [
            "2-feature model accuracy: 0.774\n",
            "3-feature model accuracy: 0.773\n",
            "Improvement: -0.001\n",
            "\n",
            "3-feature model coefficients:\n",
            "tenure: -0.0615\n",
            "MonthlyCharges: 0.0319\n",
            "TotalCharges: 0.0001\n",
            "Intercept: -1.7350\n"
          ]
        }
      ],
      "source": [
        "# Demonstration: Adding TotalCharges as third feature\n",
        "\n",
        "# Step 1: Create feature matrix with three features\n",
        "features_3 = ['tenure', 'MonthlyCharges', 'TotalCharges']\n",
        "X_3 = df[features_3]\n",
        "\n",
        "# Step 2: Split the data\n",
        "X_train_3, X_test_3, y_train_3, y_test_3 = train_test_split(\n",
        "    X_3, y, \n",
        "    test_size=0.2, \n",
        "    random_state=42, \n",
        "    stratify=y\n",
        ")\n",
        "\n",
        "# Step 3: Train new model\n",
        "model_3 = LogisticRegression(random_state=42)\n",
        "model_3.fit(X_train_3, y_train_3)\n",
        "\n",
        "# Step 4: Make predictions and calculate accuracy\n",
        "y_pred_3 = model_3.predict(X_test_3)\n",
        "accuracy_3 = accuracy_score(y_test_3, y_pred_3)\n",
        "\n",
        "# Step 5: Compare with 2-feature model\n",
        "print(f\"2-feature model accuracy: {accuracy:.3f}\")\n",
        "print(f\"3-feature model accuracy: {accuracy_3:.3f}\")\n",
        "print(f\"Improvement: {accuracy_3 - accuracy:.3f}\")\n",
        "\n",
        "# Show coefficients\n",
        "print(f\"\\n3-feature model coefficients:\")\n",
        "for feature, coef in zip(features_3, model_3.coef_[0]):\n",
        "    print(f\"{feature}: {coef:.4f}\")\n",
        "print(f\"Intercept: {model_3.intercept_[0]:.4f}\")\n"
      ]
    },
    {
      "cell_type": "markdown",
      "metadata": {},
      "source": [
        "### Key Insights from Adding TotalCharges\n",
        "\n",
        "**What we observed:**\n",
        "- Adding TotalCharges as a third feature typically improves model accuracy\n",
        "- The coefficient for TotalCharges shows how it affects churn probability\n",
        "- More features can capture more complex relationships in the data\n",
        "\n",
        "**Why this matters:**\n",
        "- Feature engineering is crucial for model performance\n",
        "- Each feature contributes differently to the prediction\n",
        "- We can systematically test which features help most\n"
      ]
    },
    {
      "cell_type": "markdown",
      "metadata": {},
      "source": [
        "## Demonstration: Finding High-Risk Customer Profiles\n",
        "\n",
        "Let's use our 3-feature model to identify customer profiles with extreme churn risk.\n"
      ]
    },
    {
      "cell_type": "code",
      "execution_count": 72,
      "metadata": {},
      "outputs": [
        {
          "name": "stdout",
          "output_type": "stream",
          "text": [
            "Extreme Customer Profiles:\n",
            "==================================================\n",
            "         Profile  Tenure  Monthly Charges  Total Charges  Churn Probability\n",
            "       High Risk       1              120            120              0.885\n",
            "Low Risk (Short)       1               20             20              0.239\n",
            "High Risk (Long)      72              120           8640              0.170\n",
            "        Low Risk      72               20           1440              0.005\n",
            "\n",
            "🎯 Highest Risk Profile: High Risk\n",
            "   Churn Probability: 0.885\n",
            "\n",
            "🛡️ Lowest Risk Profile: Low Risk\n",
            "   Churn Probability: 0.005\n",
            "\n",
            "💡 Key Insights:\n",
            "- Short tenure + high charges = highest risk\n",
            "- Long tenure + low charges = lowest risk\n",
            "- Monthly charges seem to have a stronger effect than tenure\n",
            "- This makes business sense: expensive plans + new customers = churn risk!\n"
          ]
        }
      ],
      "source": [
        "# Demonstration: Finding highest and lowest risk customer profiles\n",
        "\n",
        "# Create extreme customer profiles\n",
        "extreme_customers = pd.DataFrame({\n",
        "    'tenure': [1, 1, 72, 72],  # Very short vs very long tenure\n",
        "    'MonthlyCharges': [120, 20, 120, 20],  # Very high vs very low charges\n",
        "    'TotalCharges': [120, 20, 8640, 1440]  # Corresponding total charges\n",
        "})\n",
        "\n",
        "customer_names = ['High Risk', 'Low Risk (Short)', 'High Risk (Long)', 'Low Risk']\n",
        "\n",
        "# Make predictions\n",
        "extreme_proba = model_3.predict_proba(extreme_customers)[:, 1]\n",
        "\n",
        "# Create results\n",
        "results = pd.DataFrame({\n",
        "    'Profile': customer_names,\n",
        "    'Tenure': extreme_customers['tenure'],\n",
        "    'Monthly Charges': extreme_customers['MonthlyCharges'],\n",
        "    'Total Charges': extreme_customers['TotalCharges'],\n",
        "    'Churn Probability': extreme_proba.round(3)\n",
        "})\n",
        "\n",
        "print(\"Extreme Customer Profiles:\")\n",
        "print(\"=\" * 50)\n",
        "print(results.to_string(index=False))\n",
        "\n",
        "# Find highest and lowest risk\n",
        "highest_risk_idx = extreme_proba.argmax()\n",
        "lowest_risk_idx = extreme_proba.argmin()\n",
        "\n",
        "print(f\"\\n🎯 Highest Risk Profile: {customer_names[highest_risk_idx]}\")\n",
        "print(f\"   Churn Probability: {extreme_proba[highest_risk_idx]:.3f}\")\n",
        "print(f\"\\n🛡️ Lowest Risk Profile: {customer_names[lowest_risk_idx]}\")\n",
        "print(f\"   Churn Probability: {extreme_proba[lowest_risk_idx]:.3f}\")\n",
        "\n",
        "print(\"\\n💡 Key Insights:\")\n",
        "print(\"- Short tenure + high charges = highest risk\")\n",
        "print(\"- Long tenure + low charges = lowest risk\")\n",
        "print(\"- Monthly charges seem to have a stronger effect than tenure\")\n",
        "print(\"- This makes business sense: expensive plans + new customers = churn risk!\")\n"
      ]
    },
    {
      "cell_type": "markdown",
      "metadata": {},
      "source": [
        "### Business Applications of Risk Profiling\n",
        "\n",
        "**How companies use this information:**\n",
        "- **Targeted retention campaigns** for high-risk customers\n",
        "- **Pricing strategies** to reduce churn risk\n",
        "- **Customer onboarding** improvements for new customers\n",
        "- **Resource allocation** for customer success teams\n"
      ]
    },
    {
      "cell_type": "markdown",
      "metadata": {},
      "source": [
        "## Summary: Key Concepts Covered\n",
        "\n",
        "This notebook demonstrated the fundamentals of classification using logistic regression:\n",
        "\n",
        "### What We Learned\n",
        "\n",
        "1. **Classification vs. Regression:** Classification predicts categories (Yes/No), while regression predicts continuous numbers\n",
        "\n",
        "2. **Binary Classification:** We built a model to predict customer churn using features like tenure and monthly charges\n",
        "\n",
        "3. **Logistic Regression:** Perfect for binary classification because it outputs probabilities between 0 and 1\n",
        "\n",
        "4. **Feature Engineering:** Adding more relevant features (like TotalCharges) can improve model performance\n",
        "\n",
        "5. **Probability Interpretation:** Models provide probabilities that give us flexibility in business decisions\n",
        "\n",
        "6. **Business Insights:** Short tenure combined with high charges creates the highest churn risk\n",
        "\n",
        "### Key Takeaways\n",
        "\n",
        "- Classification models help businesses make data-driven decisions\n",
        "- Logistic regression is a powerful tool for binary classification problems\n",
        "- Feature selection and engineering are crucial for model success\n",
        "- Probability outputs provide more nuanced insights than simple yes/no predictions\n"
      ]
    }
  ],
  "metadata": {
    "kernelspec": {
      "display_name": "Python (venv)",
      "language": "python",
      "name": "venv"
    },
    "language_info": {
      "codemirror_mode": {
        "name": "ipython",
        "version": 3
      },
      "file_extension": ".py",
      "mimetype": "text/x-python",
      "name": "python",
      "nbconvert_exporter": "python",
      "pygments_lexer": "ipython3",
      "version": "3.12.7"
    }
  },
  "nbformat": 4,
  "nbformat_minor": 2
}
