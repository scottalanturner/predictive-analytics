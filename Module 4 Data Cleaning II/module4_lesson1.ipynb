{
 "cells": [
  {
   "cell_type": "markdown",
   "metadata": {},
   "source": [
    "# Module 4 - Lesson 1: Feature Engineering Fundamentals\n",
    "\n",
    "## Building Predictive Power Through Feature Creation\n",
    "\n",
    "Welcome! This notebook will help you practice feature engineering - the art and science of creating new variables from your existing data to improve machine learning models. Feature engineering is often the difference between a mediocre model and a great one.\n",
    "\n",
    "### What You'll Learn:\n",
    "- How to transform variables mathematically to make them more useful\n",
    "- Creating meaningful ratios and combinations from existing features\n",
    "- Building binary flags that capture important conditions\n",
    "- Converting continuous data into categories (binning)\n",
    "- Extracting valuable information from dates and times\n",
    "- Creating interaction features that capture relationships\n",
    "- Working with text data to extract numeric features"
   ]
  },
  {
   "cell_type": "markdown",
   "metadata": {},
   "source": [
    "## Setup: Import Required Libraries\n",
    "\n",
    "First, let's import all the libraries we'll need for this lesson. Don't worry if you don't recognize all of them yet - we'll explain each one as we use it."
   ]
  },
  {
   "cell_type": "code",
   "execution_count": 2,
   "metadata": {},
   "outputs": [
    {
     "name": "stdout",
     "output_type": "stream",
     "text": [
      "Libraries imported successfully!\n"
     ]
    }
   ],
   "source": [
    "# Core libraries\n",
    "import pandas as pd\n",
    "import numpy as np\n",
    "from datetime import datetime, timedelta\n",
    "\n",
    "# For text processing\n",
    "import re\n",
    "from textblob import TextBlob\n",
    "\n",
    "# Machine learning libraries\n",
    "from sklearn.preprocessing import PolynomialFeatures\n",
    "from sklearn.feature_extraction.text import TfidfVectorizer\n",
    "from sklearn.decomposition import LatentDirichletAllocation\n",
    "\n",
    "# Visualization (optional, for exploring features)\n",
    "import matplotlib.pyplot as plt\n",
    "import seaborn as sns\n",
    "\n",
    "# Set display options\n",
    "pd.set_option('display.max_columns', None)\n",
    "pd.set_option('display.max_rows', 50)\n",
    "\n",
    "print(\"Libraries imported successfully!\")"
   ]
  },
  {
   "cell_type": "markdown",
   "metadata": {},
   "source": [
    "## 1. Mathematical Transformations\n",
    "\n",
    "### Why Mathematical Transformations?\n",
    "\n",
    "Many real-world variables have skewed distributions (like income, where most people earn moderate amounts but a few earn extremely high amounts). Machine learning algorithms often work better with normally distributed data. Mathematical transformations can help:\n",
    "- **Normalize skewed distributions** making them more bell-curve shaped\n",
    "- **Reduce the impact of outliers** by compressing large values\n",
    "- **Capture non-linear relationships** that simple linear models might miss\n",
    "\n",
    "Let's start by creating some sample data that mimics real-world distributions:"
   ]
  },
  {
   "cell_type": "code",
   "execution_count": 3,
   "metadata": {},
   "outputs": [
    {
     "name": "stdout",
     "output_type": "stream",
     "text": [
      "Original data shape: (1000, 3)\n",
      "\n",
      "First few rows:\n"
     ]
    },
    {
     "data": {
      "text/html": [
       "<div>\n",
       "<style scoped>\n",
       "    .dataframe tbody tr th:only-of-type {\n",
       "        vertical-align: middle;\n",
       "    }\n",
       "\n",
       "    .dataframe tbody tr th {\n",
       "        vertical-align: top;\n",
       "    }\n",
       "\n",
       "    .dataframe thead th {\n",
       "        text-align: right;\n",
       "    }\n",
       "</style>\n",
       "<table border=\"1\" class=\"dataframe\">\n",
       "  <thead>\n",
       "    <tr style=\"text-align: right;\">\n",
       "      <th></th>\n",
       "      <th>income</th>\n",
       "      <th>age</th>\n",
       "      <th>transaction_amount</th>\n",
       "    </tr>\n",
       "  </thead>\n",
       "  <tbody>\n",
       "    <tr>\n",
       "      <th>0</th>\n",
       "      <td>59481.957248</td>\n",
       "      <td>28.383920</td>\n",
       "      <td>24.726824</td>\n",
       "    </tr>\n",
       "    <tr>\n",
       "      <th>1</th>\n",
       "      <td>16705.134357</td>\n",
       "      <td>24.483206</td>\n",
       "      <td>3.741257</td>\n",
       "    </tr>\n",
       "    <tr>\n",
       "      <th>2</th>\n",
       "      <td>80448.867576</td>\n",
       "      <td>57.458675</td>\n",
       "      <td>11.431802</td>\n",
       "    </tr>\n",
       "    <tr>\n",
       "      <th>3</th>\n",
       "      <td>463267.404013</td>\n",
       "      <td>61.801495</td>\n",
       "      <td>41.379064</td>\n",
       "    </tr>\n",
       "    <tr>\n",
       "      <th>4</th>\n",
       "      <td>13789.921118</td>\n",
       "      <td>19.958341</td>\n",
       "      <td>162.245061</td>\n",
       "    </tr>\n",
       "  </tbody>\n",
       "</table>\n",
       "</div>"
      ],
      "text/plain": [
       "          income        age  transaction_amount\n",
       "0   59481.957248  28.383920           24.726824\n",
       "1   16705.134357  24.483206            3.741257\n",
       "2   80448.867576  57.458675           11.431802\n",
       "3  463267.404013  61.801495           41.379064\n",
       "4   13789.921118  19.958341          162.245061"
      ]
     },
     "execution_count": 3,
     "metadata": {},
     "output_type": "execute_result"
    }
   ],
   "source": [
    "# Create sample data\n",
    "np.random.seed(42)\n",
    "df = pd.DataFrame({\n",
    "    'income': np.random.lognormal(10, 2, 1000),  # Lognormal simulates income distribution\n",
    "    'age': np.random.uniform(18, 80, 1000),      # Uniform distribution for age\n",
    "    'transaction_amount': np.random.exponential(100, 1000)  # Exponential for transaction amounts\n",
    "})\n",
    "\n",
    "print(\"Original data shape:\", df.shape)\n",
    "print(\"\\nFirst few rows:\")\n",
    "df.head()"
   ]
  },
  {
   "cell_type": "markdown",
   "metadata": {},
   "source": [
    "### Applying Transformations\n",
    "\n",
    "Now let's apply several common transformations. Each has its purpose:\n",
    "- **Log transformation**: Best for highly skewed data (reduces extreme values)\n",
    "- **Square root**: For moderately skewed data (gentler than log)\n",
    "- **Square/Power**: Can capture polynomial relationships"
   ]
  },
  {
   "cell_type": "code",
   "execution_count": 4,
   "metadata": {},
   "outputs": [
    {
     "name": "stdout",
     "output_type": "stream",
     "text": [
      "After mathematical transformations:\n",
      "          income  log_income  transaction_amount  sqrt_amount\n",
      "0   59481.957248   10.993445           24.726824     4.972607\n",
      "1   16705.134357    9.723531            3.741257     1.934233\n",
      "2   80448.867576   11.295390           11.431802     3.381095\n",
      "3  463267.404013   13.046062           41.379064     6.432656\n",
      "4   13789.921118    9.531766          162.245061    12.737545\n"
     ]
    }
   ],
   "source": [
    "# Log transformations for skewed distributions\n",
    "df['log_income'] = np.log1p(df['income'])  # log1p = log(1+x), handles zeros safely\n",
    "df['log_amount'] = np.log1p(df['transaction_amount'])\n",
    "\n",
    "# Square root for moderate skew\n",
    "df['sqrt_amount'] = np.sqrt(df['transaction_amount'])\n",
    "\n",
    "# Power transformations\n",
    "df['income_squared'] = df['income'] ** 2\n",
    "df['age_squared'] = df['age'] ** 2\n",
    "\n",
    "print(\"After mathematical transformations:\")\n",
    "print(df[['income', 'log_income', 'transaction_amount', 'sqrt_amount']].head())"
   ]
  },
  {
   "cell_type": "markdown",
   "metadata": {},
   "source": [
    "### Visualizing the Impact\n",
    "\n",
    "Let's see how log transformation actually changes the distribution. Notice how the highly skewed income distribution becomes more normal (bell-shaped) after transformation:"
   ]
  },
  {
   "cell_type": "code",
   "execution_count": 5,
   "metadata": {},
   "outputs": [
    {
     "data": {
      "image/png": "[encoded data removed]",
      "text/plain": [
       "<Figure size 1200x400 with 2 Axes>"
      ]
     },
     "metadata": {},
     "output_type": "display_data"
    }
   ],
   "source": [
    "# Visualize the effect of log transformation\n",
    "fig, axes = plt.subplots(1, 2, figsize=(12, 4))\n",
    "\n",
    "# Original distribution\n",
    "axes[0].hist(df['income'], bins=50, edgecolor='black')\n",
    "axes[0].set_title('Original Income Distribution (Skewed)')\n",
    "axes[0].set_xlabel('Income')\n",
    "\n",
    "# Log-transformed distribution\n",
    "axes[1].hist(df['log_income'], bins=50, edgecolor='black')\n",
    "axes[1].set_title('Log-Transformed Income (More Normal)')\n",
    "axes[1].set_xlabel('Log(Income)')\n",
    "\n",
    "plt.tight_layout()\n",
    "plt.show()"
   ]
  },
  {
   "cell_type": "markdown",
   "metadata": {},
   "source": [
    "**Key Insight**: The log transformation has made the income distribution much more symmetric. This can significantly improve model performance, especially for linear models and neural networks."
   ]
  },
  {
   "cell_type": "markdown",
   "metadata": {},
   "source": [
    "## 2. Creating Ratios and Combinations\n",
    "\n",
    "### The Power of Ratios\n",
    "\n",
    "Individual features tell part of the story, but ratios often reveal deeper insights. For example:\n",
    "- **Pages per minute** is more meaningful than just page views\n",
    "- **Debt-to-income ratio** is what lenders actually care about, not just debt\n",
    "- **Conversion rate** matters more than raw purchase counts\n",
    "\n",
    "Let's create an e-commerce dataset to demonstrate:"
   ]
  },
  {
   "cell_type": "code",
   "execution_count": 6,
   "metadata": {},
   "outputs": [
    {
     "name": "stdout",
     "output_type": "stream",
     "text": [
      "E-commerce data created: (500, 14)\n"
     ]
    }
   ],
   "source": [
    "# Create sample e-commerce data\n",
    "df_ecommerce = pd.DataFrame({\n",
    "    'page_views': np.random.poisson(20, 500),\n",
    "    'time_on_site': np.random.exponential(300, 500),  # seconds\n",
    "    'items_viewed': np.random.poisson(5, 500),\n",
    "    'cart_additions': np.random.poisson(2, 500),\n",
    "    'purchases': np.random.binomial(3, 0.3, 500),\n",
    "    'revenue': np.random.exponential(50, 500),\n",
    "    'length': np.random.uniform(10, 100, 500),\n",
    "    'width': np.random.uniform(5, 50, 500),\n",
    "    'height': np.random.uniform(2, 20, 500),\n",
    "    'debt': np.random.exponential(5000, 500),\n",
    "    'income': np.random.lognormal(10, 1, 500),\n",
    "    'visits': np.random.poisson(10, 500),\n",
    "    'output': np.random.uniform(100, 1000, 500),\n",
    "    'input': np.random.uniform(50, 500, 500)\n",
    "})\n",
    "\n",
    "print(\"E-commerce data created:\", df_ecommerce.shape)"
   ]
  },
  {
   "cell_type": "markdown",
   "metadata": {},
   "source": [
    "### Engineering Meaningful Ratios\n",
    "\n",
    "Now let's create ratios that actually mean something for business decisions. Notice how we always add 1 to denominators to avoid division by zero errors:"
   ]
  },
  {
   "cell_type": "code",
   "execution_count": 7,
   "metadata": {},
   "outputs": [
    {
     "name": "stdout",
     "output_type": "stream",
     "text": [
      "Created ratio features:\n",
      "   pages_per_minute  view_to_cart_ratio  debt_to_income  efficiency\n",
      "0         45.893315            0.400000        0.523433    3.518470\n",
      "1          3.663565            0.100000        0.396575    1.493319\n",
      "2          5.252036            1.333333        0.274327    2.338908\n",
      "3          6.116471            0.333333        0.023832    2.607153\n",
      "4          4.885714            0.363636        0.134611   14.275197\n"
     ]
    }
   ],
   "source": [
    "# Engagement ratios - How engaged are users?\n",
    "df_ecommerce['pages_per_minute'] = df_ecommerce['page_views'] / (df_ecommerce['time_on_site'] / 60)\n",
    "df_ecommerce['view_to_cart_ratio'] = df_ecommerce['cart_additions'] / (df_ecommerce['items_viewed'] + 1)  \n",
    "df_ecommerce['cart_conversion'] = df_ecommerce['purchases'] / (df_ecommerce['cart_additions'] + 1)\n",
    "\n",
    "# Financial health ratios - Can customers afford to buy?\n",
    "df_ecommerce['debt_to_income'] = df_ecommerce['debt'] / df_ecommerce['income']\n",
    "df_ecommerce['revenue_per_purchase'] = df_ecommerce['revenue'] / (df_ecommerce['purchases'] + 1)\n",
    "\n",
    "# Physical dimensions - Useful for shipping/storage\n",
    "df_ecommerce['volume'] = df_ecommerce['length'] * df_ecommerce['width'] * df_ecommerce['height']\n",
    "df_ecommerce['surface_area'] = 2 * (df_ecommerce['length'] * df_ecommerce['width'] + \n",
    "                                     df_ecommerce['length'] * df_ecommerce['height'] + \n",
    "                                     df_ecommerce['width'] * df_ecommerce['height'])\n",
    "\n",
    "# Efficiency metrics - How well does the business operate?\n",
    "df_ecommerce['conversion_rate'] = df_ecommerce['purchases'] / (df_ecommerce['visits'] + 1)\n",
    "df_ecommerce['efficiency'] = df_ecommerce['output'] / df_ecommerce['input']\n",
    "\n",
    "print(\"Created ratio features:\")\n",
    "print(df_ecommerce[['pages_per_minute', 'view_to_cart_ratio', 'debt_to_income', 'efficiency']].head())"
   ]
  },
  {
   "cell_type": "markdown",
   "metadata": {},
   "source": [
    "**Key Insight**: These ratios are often more predictive than the raw values. A model trying to predict customer lifetime value would likely find 'conversion_rate' more useful than separate 'purchases' and 'visits' features."
   ]
  },
  {
   "cell_type": "markdown",
   "metadata": {},
   "source": [
    "## 3. Creating Indicator Variables (Binary Flags)\n",
    "\n",
    "### Why Binary Flags Matter\n",
    "\n",
    "Binary flags (0 or 1 values) capture important yes/no conditions in your data. They're powerful because:\n",
    "- They clearly separate groups (weekend vs. weekday)\n",
    "- They capture threshold effects (is this customer high-value?)\n",
    "- They can encode domain knowledge (is this risky behavior?)\n",
    "\n",
    "First, let's add some more data to work with:"
   ]
  },
  {
   "cell_type": "code",
   "execution_count": 8,
   "metadata": {},
   "outputs": [],
   "source": [
    "# Add some categorical and temporal data to our DataFrame\n",
    "df_ecommerce['day_of_week'] = np.random.randint(0, 7, 500)  # 0=Monday, 6=Sunday\n",
    "df_ecommerce['hour'] = np.random.randint(0, 24, 500)        # Hour of day\n",
    "df_ecommerce['last_login_days'] = np.random.exponential(10, 500)  # Days since last login\n",
    "df_ecommerce['satisfaction'] = np.random.uniform(1, 5, 500)       # 1-5 rating\n",
    "df_ecommerce['total_spent'] = np.random.exponential(500, 500)     # Total historical spend\n",
    "df_ecommerce['account_age_days'] = np.random.uniform(1, 1000, 500)  # How long they've been a customer\n",
    "df_ecommerce['email'] = np.random.choice([None, 'user@email.com'], 500, p=[0.1, 0.9])\n",
    "df_ecommerce['phone'] = np.random.choice([None, '555-1234'], 500, p=[0.15, 0.85])\n",
    "df_ecommerce['discount'] = np.random.choice([0, 5, 10, 15, 20], 500, p=[0.5, 0.2, 0.15, 0.1, 0.05])\n",
    "df_ecommerce['price'] = np.random.exponential(75, 500)"
   ]
  },
  {
   "cell_type": "markdown",
   "metadata": {},
   "source": [
    "### Creating Meaningful Flags\n",
    "\n",
    "Now let's create flags that capture important business conditions. Each flag answers a specific question about the customer or transaction:"
   ]
  },
  {
   "cell_type": "code",
   "execution_count": 9,
   "metadata": {},
   "outputs": [
    {
     "name": "stdout",
     "output_type": "stream",
     "text": [
      "Binary flags created:\n",
      "   is_weekend  is_active  at_risk  high_value_new\n",
      "0           1          0        0               0\n",
      "1           1          1        0               0\n",
      "2           0          1        0               0\n",
      "3           1          1        1               0\n",
      "4           0          1        1               0\n",
      "5           0          1        1               0\n",
      "6           0          0        1               0\n",
      "7           0          1        1               0\n",
      "8           0          1        1               0\n",
      "9           0          1        1               0\n",
      "\n",
      "Flag distributions (proportion = 1):\n",
      "is_weekend      0.272\n",
      "is_active       0.936\n",
      "at_risk         0.450\n",
      "has_discount    0.494\n",
      "dtype: float64\n"
     ]
    }
   ],
   "source": [
    "# Time-based flags - When are customers shopping?\n",
    "df_ecommerce['is_weekend'] = df_ecommerce['day_of_week'].isin([5, 6]).astype(int)\n",
    "df_ecommerce['is_business_hours'] = df_ecommerce['hour'].between(9, 17).astype(int)\n",
    "\n",
    "# Value-based flags - Is this a valuable transaction/customer?\n",
    "df_ecommerce['high_value'] = (df_ecommerce['price'] > df_ecommerce['price'].quantile(0.9)).astype(int)\n",
    "df_ecommerce['has_discount'] = (df_ecommerce['discount'] > 0).astype(int)\n",
    "df_ecommerce['is_premium'] = (df_ecommerce['price'] > 100).astype(int)\n",
    "\n",
    "# Activity-based flags - How engaged is the customer?\n",
    "df_ecommerce['is_active'] = (df_ecommerce['last_login_days'] < 30).astype(int)\n",
    "df_ecommerce['at_risk'] = (df_ecommerce['satisfaction'] < 3).astype(int)\n",
    "\n",
    "# Combination flags - Multiple conditions together\n",
    "df_ecommerce['high_value_new'] = (\n",
    "    (df_ecommerce['total_spent'] > 1000) &     # High spender AND\n",
    "    (df_ecommerce['account_age_days'] < 90)    # New customer\n",
    ").astype(int)\n",
    "\n",
    "# Missing data indicators - Sometimes missing data is informative!\n",
    "df_ecommerce['email_missing'] = df_ecommerce['email'].isna().astype(int)\n",
    "df_ecommerce['phone_missing'] = df_ecommerce['phone'].isna().astype(int)\n",
    "\n",
    "print(\"Binary flags created:\")\n",
    "print(df_ecommerce[['is_weekend', 'is_active', 'at_risk', 'high_value_new']].head(10))\n",
    "print(\"\\nFlag distributions (proportion = 1):\")\n",
    "print(df_ecommerce[['is_weekend', 'is_active', 'at_risk', 'has_discount']].mean())"
   ]
  },
  {
   "cell_type": "markdown",
   "metadata": {},
   "source": [
    "**Key Insight**: These flags make it easy for models to identify important segments. A customer with `at_risk=1` might trigger a retention campaign, while `high_value_new=1` might get VIP treatment."
   ]
  },
  {
   "cell_type": "markdown",
   "metadata": {},
   "source": [
    "## 4. Binning and Discretization\n",
    "\n",
    "### When to Convert Continuous to Categorical\n",
    "\n",
    "Sometimes converting continuous variables (like age or income) into categories (like age groups or income brackets) can:\n",
    "- **Capture non-linear relationships** (the effect of age on purchases might jump at retirement)\n",
    "- **Make features more interpretable** ('senior' is clearer than 'age=67')\n",
    "- **Handle outliers naturally** (extremely high incomes just go in the 'high' bucket)\n",
    "\n",
    "Let's create some data to demonstrate different binning strategies:"
   ]
  },
  {
   "cell_type": "code",
   "execution_count": 10,
   "metadata": {},
   "outputs": [
    {
     "name": "stdout",
     "output_type": "stream",
     "text": [
      "Data for binning:\n",
      "               age        income        price\n",
      "count  1000.000000  1.000000e+03  1000.000000\n",
      "mean     51.436247  7.088592e+04    51.997425\n",
      "std      28.828286  1.684566e+05    49.549763\n",
      "min       0.252176  3.518551e+02     0.025506\n",
      "25%      27.872929  8.813456e+03    15.848595\n",
      "50%      50.832073  2.395058e+04    37.210408\n",
      "75%      77.286278  6.240631e+04    72.052239\n",
      "max      99.734455  2.292247e+06   325.958695\n"
     ]
    }
   ],
   "source": [
    "# Create age and income data for binning examples\n",
    "df_binning = pd.DataFrame({\n",
    "    'age': np.random.uniform(0, 100, 1000),\n",
    "    'income': np.random.lognormal(10, 1.5, 1000),\n",
    "    'price': np.random.exponential(50, 1000)\n",
    "})\n",
    "\n",
    "print(\"Data for binning:\")\n",
    "print(df_binning.describe())"
   ]
  },
  {
   "cell_type": "markdown",
   "metadata": {},
   "source": [
    "### Three Binning Strategies\n",
    "\n",
    "Each binning method has its use case:\n",
    "1. **Fixed-width bins**: When you have domain-specific thresholds (legal age groups)\n",
    "2. **Quantile bins**: When you want equal-sized groups (for A/B testing)\n",
    "3. **Equal-width bins**: When you want consistent ranges"
   ]
  },
  {
   "cell_type": "code",
   "execution_count": 11,
   "metadata": {},
   "outputs": [
    {
     "name": "stdout",
     "output_type": "stream",
     "text": [
      "Binning results:\n",
      "         age age_group         income income_quantile\n",
      "0  42.581715    middle   29155.258757          medium\n",
      "1  78.976549   elderly  150688.119122       very_high\n",
      "2  23.664355     young   19308.244745          medium\n",
      "3  94.880083   elderly  498189.122365       very_high\n",
      "4  57.457825    senior    3775.482732        very_low\n",
      "5  75.932357   elderly   17573.101313          medium\n",
      "6   8.951570     child    9808.754817             low\n",
      "7  49.266423    middle   89747.900120       very_high\n",
      "8  90.103850   elderly     765.334164        very_low\n",
      "9  87.703863   elderly    2528.362316        very_low\n",
      "\n",
      "Age group distribution:\n",
      "age_group\n",
      "child      157\n",
      "young      183\n",
      "middle     146\n",
      "senior     153\n",
      "elderly    361\n",
      "Name: count, dtype: int64\n",
      "\n",
      "Income quantile distribution (should be equal):\n",
      "income_quantile\n",
      "very_low     200\n",
      "low          200\n",
      "medium       200\n",
      "high         200\n",
      "very_high    200\n",
      "Name: count, dtype: int64\n"
     ]
    }
   ],
   "source": [
    "# Different binning strategies\n",
    "\n",
    "# 1. Fixed-width bins with custom labels (domain knowledge)\n",
    "df_binning['age_group'] = pd.cut(\n",
    "    df_binning['age'], \n",
    "    bins=[0, 18, 35, 50, 65, 100],  # Age boundaries\n",
    "    labels=['child', 'young', 'middle', 'senior', 'elderly']\n",
    ")\n",
    "\n",
    "# 2. Quantile-based bins (equal frequency - each group has ~same number of people)\n",
    "df_binning['income_quantile'] = pd.qcut(\n",
    "    df_binning['income'], \n",
    "    q=5,  # Create 5 groups\n",
    "    labels=['very_low', 'low', 'medium', 'high', 'very_high']\n",
    ")\n",
    "\n",
    "# 3. Equal-width bins (each bin covers same value range)\n",
    "df_binning['price_range'] = pd.cut(\n",
    "    df_binning['price'],\n",
    "    bins=5,  # Create 5 equal-width bins\n",
    "    labels=['very_cheap', 'cheap', 'moderate', 'expensive', 'very_expensive']\n",
    ")\n",
    "\n",
    "print(\"Binning results:\")\n",
    "print(df_binning[['age', 'age_group', 'income', 'income_quantile']].head(10))\n",
    "print(\"\\nAge group distribution:\")\n",
    "print(df_binning['age_group'].value_counts().sort_index())\n",
    "print(\"\\nIncome quantile distribution (should be equal):\")\n",
    "print(df_binning['income_quantile'].value_counts().sort_index())"
   ]
  },
  {
   "cell_type": "markdown",
   "metadata": {},
   "source": [
    "**Key Insight**: Notice how quantile binning creates equal-sized groups regardless of the data distribution, while cut() creates equal-width bins that might have very different numbers of observations."
   ]
  },
  {
   "cell_type": "markdown",
   "metadata": {},
   "source": [
    "## 5. Temporal Feature Engineering\n",
    "\n",
    "### Time is Information-Rich\n",
    "\n",
    "Datetime columns contain a wealth of information that needs to be extracted. A single timestamp can tell us:\n",
    "- Time of day (morning person vs night owl)\n",
    "- Day of week (weekend vs weekday behavior)\n",
    "- Season (summer vs winter patterns)\n",
    "- Business periods (end of quarter rush)\n",
    "\n",
    "Let's create some temporal data to work with:"
   ]
  },
  {
   "cell_type": "code",
   "execution_count": 12,
   "metadata": {},
   "outputs": [
    {
     "name": "stdout",
     "output_type": "stream",
     "text": [
      "Temporal data created:\n",
      "            timestamp       sales\n",
      "0 2023-01-01 18:00:00   26.957186\n",
      "1 2023-01-02 23:00:00  182.034052\n",
      "2 2023-01-03 05:00:00  159.957093\n",
      "3 2023-01-03 15:00:00    1.026526\n",
      "4 2023-01-04 09:00:00    3.579356\n"
     ]
    },
    {
     "name": "stderr",
     "output_type": "stream",
     "text": [
      "/var/folders/0v/80zxmry158l85b2sy7ywwj5w0000gn/T/ipykernel_87968/636466427.py:2: FutureWarning: 'H' is deprecated and will be removed in a future version, please use 'h' instead.\n",
      "  dates = pd.date_range(start='2023-01-01', end='2024-12-31', freq='H')  # Hourly data\n"
     ]
    }
   ],
   "source": [
    "# Create temporal data\n",
    "dates = pd.date_range(start='2023-01-01', end='2024-12-31', freq='H')  # Hourly data\n",
    "df_temporal = pd.DataFrame({\n",
    "    'timestamp': np.random.choice(dates, 1000),\n",
    "    'sales': np.random.exponential(100, 1000)\n",
    "})\n",
    "df_temporal = df_temporal.sort_values('timestamp').reset_index(drop=True)\n",
    "\n",
    "print(\"Temporal data created:\")\n",
    "print(df_temporal.head())"
   ]
  },
  {
   "cell_type": "markdown",
   "metadata": {},
   "source": [
    "### Extracting Time Components\n",
    "\n",
    "First, let's extract basic components from our timestamp. Each of these might have predictive power:"
   ]
  },
  {
   "cell_type": "code",
   "execution_count": 13,
   "metadata": {},
   "outputs": [
    {
     "name": "stdout",
     "output_type": "stream",
     "text": [
      "Basic temporal features extracted:\n",
      "            timestamp  hour  dayofweek  month  quarter\n",
      "0 2023-01-01 18:00:00    18          6      1        1\n",
      "1 2023-01-02 23:00:00    23          0      1        1\n",
      "2 2023-01-03 05:00:00     5          1      1        1\n",
      "3 2023-01-03 15:00:00    15          1      1        1\n",
      "4 2023-01-04 09:00:00     9          2      1        1\n"
     ]
    }
   ],
   "source": [
    "# Extract datetime components\n",
    "df_temporal['year'] = df_temporal['timestamp'].dt.year\n",
    "df_temporal['month'] = df_temporal['timestamp'].dt.month\n",
    "df_temporal['day'] = df_temporal['timestamp'].dt.day\n",
    "df_temporal['hour'] = df_temporal['timestamp'].dt.hour\n",
    "df_temporal['dayofweek'] = df_temporal['timestamp'].dt.dayofweek  # 0=Monday, 6=Sunday\n",
    "df_temporal['quarter'] = df_temporal['timestamp'].dt.quarter      # Q1, Q2, Q3, Q4\n",
    "df_temporal['dayofyear'] = df_temporal['timestamp'].dt.dayofyear  # 1-365\n",
    "df_temporal['weekofyear'] = df_temporal['timestamp'].dt.isocalendar().week\n",
    "\n",
    "print(\"Basic temporal features extracted:\")\n",
    "print(df_temporal[['timestamp', 'hour', 'dayofweek', 'month', 'quarter']].head())"
   ]
  },
  {
   "cell_type": "markdown",
   "metadata": {},
   "source": [
    "### Cyclical Encoding - A Special Technique\n",
    "\n",
    "Here's a problem: Hour 23 (11 PM) and Hour 0 (midnight) are actually adjacent, but numerically they're far apart (23 vs 0). Cyclical encoding solves this by representing cyclical features as coordinates on a circle:"
   ]
  },
  {
   "cell_type": "code",
   "execution_count": 14,
   "metadata": {},
   "outputs": [
    {
     "name": "stdout",
     "output_type": "stream",
     "text": [
      "Cyclical encoding applied:\n",
      "   hour  hour_sin      hour_cos\n",
      "0    18 -1.000000 -1.836970e-16\n",
      "1    23 -0.258819  9.659258e-01\n",
      "2     5  0.965926  2.588190e-01\n",
      "3    15 -0.707107 -7.071068e-01\n",
      "4     9  0.707107 -7.071068e-01\n"
     ]
    }
   ],
   "source": [
    "# Cyclical encoding for periodic features\n",
    "# This ensures that hour 23 and hour 0 are close in feature space\n",
    "df_temporal['hour_sin'] = np.sin(2 * np.pi * df_temporal['hour'] / 24)\n",
    "df_temporal['hour_cos'] = np.cos(2 * np.pi * df_temporal['hour'] / 24)\n",
    "df_temporal['month_sin'] = np.sin(2 * np.pi * df_temporal['month'] / 12)\n",
    "df_temporal['month_cos'] = np.cos(2 * np.pi * df_temporal['month'] / 12)\n",
    "df_temporal['day_sin'] = np.sin(2 * np.pi * df_temporal['day'] / 31)\n",
    "df_temporal['day_cos'] = np.cos(2 * np.pi * df_temporal['day'] / 31)\n",
    "\n",
    "print(\"Cyclical encoding applied:\")\n",
    "print(df_temporal[['hour', 'hour_sin', 'hour_cos']].head())"
   ]
  },
  {
   "cell_type": "markdown",
   "metadata": {},
   "source": [
    "### Business-Relevant Time Features\n",
    "\n",
    "Now let's create features that directly relate to business patterns:"
   ]
  },
  {
   "cell_type": "code",
   "execution_count": 15,
   "metadata": {},
   "outputs": [
    {
     "name": "stdout",
     "output_type": "stream",
     "text": [
      "Business temporal features:\n",
      "            timestamp  is_weekend  is_month_start  is_quarter_end\n",
      "0 2023-01-01 18:00:00           1               1           False\n",
      "1 2023-01-02 23:00:00           0               1           False\n",
      "2 2023-01-03 05:00:00           0               1           False\n",
      "3 2023-01-03 15:00:00           0               1           False\n",
      "4 2023-01-04 09:00:00           0               0           False\n",
      "5 2023-01-04 13:00:00           0               0           False\n",
      "6 2023-01-04 16:00:00           0               0           False\n",
      "7 2023-01-04 17:00:00           0               0           False\n",
      "8 2023-01-04 20:00:00           0               0           False\n",
      "9 2023-01-05 08:00:00           0               0           False\n"
     ]
    }
   ],
   "source": [
    "# Business-related temporal features\n",
    "df_temporal['is_weekend'] = df_temporal['dayofweek'].isin([5, 6]).astype(int)\n",
    "df_temporal['is_month_start'] = df_temporal['day'].isin([1, 2, 3]).astype(int)\n",
    "df_temporal['is_month_end'] = df_temporal['day'] >= 28  # Approximate\n",
    "df_temporal['is_quarter_end'] = (\n",
    "    df_temporal['month'].isin([3, 6, 9, 12]) & \n",
    "    df_temporal['is_month_end']\n",
    ")\n",
    "\n",
    "print(\"Business temporal features:\")\n",
    "print(df_temporal[['timestamp', 'is_weekend', 'is_month_start', 'is_quarter_end']].head(10))"
   ]
  },
  {
   "cell_type": "markdown",
   "metadata": {},
   "source": [
    "### Visualizing Cyclical Encoding\n",
    "\n",
    "Let's visualize how cyclical encoding works to better understand it:"
   ]
  },
  {
   "cell_type": "code",
   "execution_count": 16,
   "metadata": {},
   "outputs": [
    {
     "data": {
      "image/png": "[encoded data removed]",
      "text/plain": [
       "<Figure size 1200x400 with 2 Axes>"
      ]
     },
     "metadata": {},
     "output_type": "display_data"
    }
   ],
   "source": [
    "# Visualize cyclical encoding\n",
    "fig, axes = plt.subplots(1, 2, figsize=(12, 4))\n",
    "\n",
    "# Hour encoding\n",
    "hours = np.arange(24)\n",
    "hour_sin = np.sin(2 * np.pi * hours / 24)\n",
    "hour_cos = np.cos(2 * np.pi * hours / 24)\n",
    "\n",
    "# Plot sine and cosine\n",
    "axes[0].plot(hours, hour_sin, label='sin(hour)', marker='o')\n",
    "axes[0].plot(hours, hour_cos, label='cos(hour)', marker='s')\n",
    "axes[0].set_xlabel('Hour of Day')\n",
    "axes[0].set_ylabel('Encoded Value')\n",
    "axes[0].set_title('Cyclical Encoding of Hour')\n",
    "axes[0].legend()\n",
    "axes[0].grid(True, alpha=0.3)\n",
    "\n",
    "# Show hours in 2D space (as points on a circle)\n",
    "axes[1].scatter(hour_sin, hour_cos, c=hours, cmap='twilight', s=100)\n",
    "axes[1].set_xlabel('sin(hour)')\n",
    "axes[1].set_ylabel('cos(hour)')\n",
    "axes[1].set_title('Hours in Cyclical Space (23:00 and 00:00 are neighbors)')\n",
    "axes[1].grid(True, alpha=0.3)\n",
    "\n",
    "# Highlight midnight and 11 PM\n",
    "axes[1].annotate('00:00 (midnight)', xy=(hour_sin[0], hour_cos[0]), xytext=(0.2, 1.1))\n",
    "axes[1].annotate('23:00 (11 PM)', xy=(hour_sin[23], hour_cos[23]), xytext=(0.2, 0.9))\n",
    "\n",
    "plt.tight_layout()\n",
    "plt.show()"
   ]
  },
  {
   "cell_type": "markdown",
   "metadata": {},
   "source": [
    "**Key Insight**: In the circular representation, hour 23 and hour 0 are right next to each other, which matches reality! This helps models understand that 11 PM and midnight are similar times."
   ]
  },
  {
   "cell_type": "markdown",
   "metadata": {},
   "source": [
    "## 6. Interaction Features\n",
    "\n",
    "### Capturing Relationships Between Features\n",
    "\n",
    "Sometimes the combination of two features is more informative than either feature alone. For example:\n",
    "- **Age × Income**: Young high-earners behave differently than older high-earners\n",
    "- **Weekend × Evening**: Weekend evenings are special (date night!)\n",
    "- **Size × Weight**: Together they might indicate density\n",
    "\n",
    "Let's create some interaction features:"
   ]
  },
  {
   "cell_type": "code",
   "execution_count": 17,
   "metadata": {},
   "outputs": [
    {
     "name": "stdout",
     "output_type": "stream",
     "text": [
      "Manual interaction features:\n",
      "   feature1  feature2  feature1_feature2  age_income_interaction\n",
      "0 -0.811611  1.600904          -1.299310            5.145915e+05\n",
      "1 -1.111804  0.936354          -1.041042            5.505686e+05\n",
      "2  0.722057 -0.538773          -0.389025            1.151432e+06\n",
      "3  1.296470 -0.885257          -1.147709            1.554654e+06\n",
      "4 -0.872696 -0.725004           0.632709            1.013679e+06\n"
     ]
    }
   ],
   "source": [
    "# Create sample data for interactions\n",
    "df_interact = pd.DataFrame({\n",
    "    'feature1': np.random.randn(100),\n",
    "    'feature2': np.random.randn(100),\n",
    "    'feature3': np.random.randn(100),\n",
    "    'age': np.random.uniform(18, 80, 100),\n",
    "    'income': np.random.lognormal(10, 1, 100)\n",
    "})\n",
    "\n",
    "# Manual interaction features - when you know what relationships matter\n",
    "df_interact['age_income_interaction'] = df_interact['age'] * df_interact['income']\n",
    "df_interact['feature1_feature2'] = df_interact['feature1'] * df_interact['feature2']\n",
    "df_interact['feature_sum'] = df_interact['feature1'] + df_interact['feature2'] + df_interact['feature3']\n",
    "df_interact['feature_product'] = df_interact['feature1'] * df_interact['feature2'] * df_interact['feature3']\n",
    "\n",
    "print(\"Manual interaction features:\")\n",
    "print(df_interact[['feature1', 'feature2', 'feature1_feature2', 'age_income_interaction']].head())"
   ]
  },
  {
   "cell_type": "markdown",
   "metadata": {},
   "source": [
    "### Systematic Interaction Creation with PolynomialFeatures\n",
    "\n",
    "When you want to create ALL possible interactions systematically, scikit-learn's PolynomialFeatures is your friend:"
   ]
  },
  {
   "cell_type": "code",
   "execution_count": 18,
   "metadata": {},
   "outputs": [
    {
     "name": "stdout",
     "output_type": "stream",
     "text": [
      "Original features: 3\n",
      "Polynomial features: 9\n",
      "\n",
      "Polynomial feature names:\n",
      "['feature1' 'feature2' 'feature3' 'feature1^2' 'feature1 feature2'\n",
      " 'feature1 feature3' 'feature2^2' 'feature2 feature3' 'feature3^2']\n",
      "\n",
      "First few rows of polynomial features:\n",
      "   feature1  feature2  feature3  feature1^2  feature1 feature2  \\\n",
      "0 -0.811611  1.600904 -1.807891    0.658712          -1.299310   \n",
      "1 -1.111804  0.936354  0.621783    1.236108          -1.041042   \n",
      "2  0.722057 -0.538773 -1.610172    0.521367          -0.389025   \n",
      "3  1.296470 -0.885257  1.295029    1.680834          -1.147709   \n",
      "4 -0.872696 -0.725004  0.589294    0.761598           0.632709   \n",
      "\n",
      "   feature1 feature3  feature2^2  feature2 feature3  feature3^2  \n",
      "0           1.467304    2.562893          -2.894260    3.268471  \n",
      "1          -0.691300    0.876759           0.582209    0.386614  \n",
      "2          -1.162636    0.290277           0.867517    2.592653  \n",
      "3           1.678966    0.783680          -1.146434    1.677100  \n",
      "4          -0.514274    0.525631          -0.427241    0.347267  \n"
     ]
    }
   ],
   "source": [
    "# Using PolynomialFeatures for systematic interaction creation\n",
    "from sklearn.preprocessing import PolynomialFeatures\n",
    "\n",
    "# Select features for polynomial expansion\n",
    "features_for_poly = df_interact[['feature1', 'feature2', 'feature3']].values\n",
    "\n",
    "# Create polynomial features (degree=2 includes all pairs)\n",
    "poly = PolynomialFeatures(\n",
    "    degree=2,           # Include up to 2-way interactions\n",
    "    include_bias=False  # Don't include a constant term\n",
    ")\n",
    "poly_features = poly.fit_transform(features_for_poly)\n",
    "\n",
    "# Get feature names\n",
    "poly_names = poly.get_feature_names_out(['feature1', 'feature2', 'feature3'])\n",
    "\n",
    "# Create DataFrame with polynomial features\n",
    "df_poly = pd.DataFrame(poly_features, columns=poly_names)\n",
    "\n",
    "print(f\"Original features: {features_for_poly.shape[1]}\")\n",
    "print(f\"Polynomial features: {poly_features.shape[1]}\")\n",
    "print(\"\\nPolynomial feature names:\")\n",
    "print(poly_names)\n",
    "print(\"\\nFirst few rows of polynomial features:\")\n",
    "print(df_poly.head())"
   ]
  },
  {
   "cell_type": "markdown",
   "metadata": {},
   "source": [
    "**Key Insight**: With just 3 original features, we created 9 polynomial features (3 original + 3 squared + 3 interactions). Be careful - this grows quickly with more features!"
   ]
  },
  {
   "cell_type": "markdown",
   "metadata": {},
   "source": [
    "## 7. Text Feature Engineering\n",
    "\n",
    "### Extracting Numbers from Words\n",
    "\n",
    "Text data seems incompatible with machine learning (which needs numbers), but we can extract many numerical features from text:\n",
    "- **Basic statistics**: length, word count, etc.\n",
    "- **Pattern detection**: emails, URLs, phone numbers\n",
    "- **Sentiment**: positive/negative emotion\n",
    "- **Topics**: what the text is about\n",
    "\n",
    "Let's create some sample text data:"
   ]
  },
  {
   "cell_type": "code",
   "execution_count": 19,
   "metadata": {},
   "outputs": [
    {
     "name": "stdout",
     "output_type": "stream",
     "text": [
      "Sample text data:\n",
      "0: This product is amazing! I love it so much!!!!\n",
      "1: Terrible experience. Would not recommend.\n",
      "2: Good quality for the price. Fast shipping.\n"
     ]
    }
   ],
   "source": [
    "# Create sample text data (customer reviews)\n",
    "sample_texts = [\n",
    "    \"This product is amazing! I love it so much!!!!\",\n",
    "    \"Terrible experience. Would not recommend.\",\n",
    "    \"Good quality for the price. Fast shipping.\",\n",
    "    \"The customer service was helpful. My issue was resolved quickly.\",\n",
    "    \"Not what I expected based on the description. Disappointed.\",\n",
    "    \"Excellent! Exceeded my expectations. Will buy again.\",\n",
    "    \"Average product. Nothing special but does the job.\",\n",
    "    \"URGENT: Please contact support at support@example.com or call 555-123-4567\",\n",
    "    \"Visit our website at https://www.example.com for more deals!\",\n",
    "    \"5 stars! Best purchase ever! Highly recommend to everyone!\"\n",
    "]\n",
    "\n",
    "df_text = pd.DataFrame({'text': sample_texts})\n",
    "print(\"Sample text data:\")\n",
    "for i, text in enumerate(df_text['text'][:3]):\n",
    "    print(f\"{i}: {text}\")"
   ]
  },
  {
   "cell_type": "markdown",
   "metadata": {},
   "source": [
    "### Basic Text Statistics\n",
    "\n",
    "Let's start with simple counts and statistics:"
   ]
  },
  {
   "cell_type": "code",
   "execution_count": 20,
   "metadata": {},
   "outputs": [
    {
     "name": "stdout",
     "output_type": "stream",
     "text": [
      "Basic text features:\n",
      "                                                text  word_count  \\\n",
      "0     This product is amazing! I love it so much!!!!           9   \n",
      "1          Terrible experience. Would not recommend.           5   \n",
      "2         Good quality for the price. Fast shipping.           7   \n",
      "3  The customer service was helpful. My issue was...          10   \n",
      "4  Not what I expected based on the description. ...           9   \n",
      "\n",
      "   avg_word_length  uppercase_ratio  \n",
      "0         5.111111         0.043478  \n",
      "1         8.200000         0.048780  \n",
      "2         6.000000         0.047619  \n",
      "3         6.400000         0.031250  \n",
      "4         6.555556         0.050847  \n"
     ]
    }
   ],
   "source": [
    "# Basic text statistics\n",
    "df_text['char_count'] = df_text['text'].str.len()\n",
    "df_text['word_count'] = df_text['text'].str.split().str.len()\n",
    "df_text['sentence_count'] = df_text['text'].str.count('[.!?]') + 1\n",
    "df_text['avg_word_length'] = df_text['char_count'] / df_text['word_count']\n",
    "\n",
    "# Capital letters might indicate SHOUTING or emphasis\n",
    "df_text['uppercase_ratio'] = df_text['text'].str.findall(r'[A-Z]').str.len() / df_text['char_count']\n",
    "\n",
    "print(\"Basic text features:\")\n",
    "print(df_text[['text', 'word_count', 'avg_word_length', 'uppercase_ratio']].head())"
   ]
  },
  {
   "cell_type": "markdown",
   "metadata": {},
   "source": [
    "### Pattern Detection with Regular Expressions\n",
    "\n",
    "Regular expressions (regex) help us find specific patterns in text:"
   ]
  },
  {
   "cell_type": "code",
   "execution_count": 21,
   "metadata": {},
   "outputs": [
    {
     "name": "stdout",
     "output_type": "stream",
     "text": [
      "Pattern detection features:\n",
      "                                                text  has_email  has_url  \\\n",
      "0     This product is amazing! I love it so much!!!!          0        0   \n",
      "1          Terrible experience. Would not recommend.          0        0   \n",
      "2         Good quality for the price. Fast shipping.          0        0   \n",
      "3  The customer service was helpful. My issue was...          0        0   \n",
      "4  Not what I expected based on the description. ...          0        0   \n",
      "\n",
      "   exclamation_count  \n",
      "0                  5  \n",
      "1                  0  \n",
      "2                  0  \n",
      "3                  0  \n",
      "4                  0  \n"
     ]
    },
    {
     "name": "stderr",
     "output_type": "stream",
     "text": [
      "<>:8: SyntaxWarning: invalid escape sequence '\\?'\n",
      "<>:8: SyntaxWarning: invalid escape sequence '\\?'\n",
      "/var/folders/0v/80zxmry158l85b2sy7ywwj5w0000gn/T/ipykernel_87968/2579993006.py:8: SyntaxWarning: invalid escape sequence '\\?'\n",
      "  df_text['question_count'] = df_text['text'].str.count('\\?')\n"
     ]
    }
   ],
   "source": [
    "# Pattern detection using regex\n",
    "df_text['has_phone'] = df_text['text'].str.contains(r'\\d{3}[-.]?\\d{3}[-.]?\\d{4}', regex=True).astype(int)\n",
    "df_text['has_email'] = df_text['text'].str.contains(r'\\S+@\\S+', regex=True).astype(int)\n",
    "df_text['has_url'] = df_text['text'].str.contains(r'http[s]?://', regex=True).astype(int)\n",
    "\n",
    "# Emotional indicators\n",
    "df_text['exclamation_count'] = df_text['text'].str.count('!')\n",
    "df_text['question_count'] = df_text['text'].str.count('\\?')\n",
    "\n",
    "print(\"Pattern detection features:\")\n",
    "print(df_text[['text', 'has_email', 'has_url', 'exclamation_count']].head())"
   ]
  },
  {
   "cell_type": "markdown",
   "metadata": {},
   "source": [
    "### Sentiment Analysis\n",
    "\n",
    "Sentiment analysis determines if text is positive, negative, or neutral:"
   ]
  },
  {
   "cell_type": "code",
   "execution_count": 22,
   "metadata": {},
   "outputs": [
    {
     "name": "stdout",
     "output_type": "stream",
     "text": [
      "Sentiment features:\n",
      "                                                text  sentiment  \\\n",
      "0     This product is amazing! I love it so much!!!!   0.579427   \n",
      "1          Terrible experience. Would not recommend.  -1.000000   \n",
      "2         Good quality for the price. Fast shipping.   0.450000   \n",
      "3  The customer service was helpful. My issue was...   0.333333   \n",
      "4  Not what I expected based on the description. ...  -0.425000   \n",
      "\n",
      "  sentiment_category  \n",
      "0           positive  \n",
      "1                NaN  \n",
      "2           positive  \n",
      "3           positive  \n",
      "4           negative  \n"
     ]
    }
   ],
   "source": [
    "# Sentiment analysis using TextBlob\n",
    "try:\n",
    "    from textblob import TextBlob\n",
    "    \n",
    "    # Calculate sentiment (-1 = very negative, +1 = very positive)\n",
    "    df_text['sentiment'] = df_text['text'].apply(lambda x: TextBlob(x).sentiment.polarity)\n",
    "    \n",
    "    # Subjectivity (0 = objective fact, 1 = subjective opinion)\n",
    "    df_text['subjectivity'] = df_text['text'].apply(lambda x: TextBlob(x).sentiment.subjectivity)\n",
    "    \n",
    "    # Categorize sentiment\n",
    "    df_text['sentiment_category'] = pd.cut(\n",
    "        df_text['sentiment'], \n",
    "        bins=[-1, -0.1, 0.1, 1], \n",
    "        labels=['negative', 'neutral', 'positive']\n",
    "    )\n",
    "    \n",
    "    print(\"Sentiment features:\")\n",
    "    print(df_text[['text', 'sentiment', 'sentiment_category']].head())\n",
    "except ImportError:\n",
    "    print(\"TextBlob not installed. Install with: pip install textblob\")"
   ]
  },
  {
   "cell_type": "markdown",
   "metadata": {},
   "source": [
    "### Advanced: TF-IDF for Text Classification\n",
    "\n",
    "TF-IDF (Term Frequency-Inverse Document Frequency) converts text into numerical features based on word importance:"
   ]
  },
  {
   "cell_type": "code",
   "execution_count": 23,
   "metadata": {},
   "outputs": [
    {
     "name": "stdout",
     "output_type": "stream",
     "text": [
      "TF-IDF features shape: (10, 20)\n",
      "\n",
      "Top TF-IDF features (important words/phrases):\n",
      "['com' 'example' 'example com' 'highly recommend' 'https' 'https www'\n",
      " 'issue' 'issue resolved' 'job' 'price']\n"
     ]
    }
   ],
   "source": [
    "# TF-IDF features for text classification\n",
    "from sklearn.feature_extraction.text import TfidfVectorizer\n",
    "\n",
    "# Create TF-IDF features\n",
    "tfidf = TfidfVectorizer(\n",
    "    max_features=20,        # Keep only top 20 features\n",
    "    stop_words='english',   # Remove common words like 'the', 'is'\n",
    "    ngram_range=(1, 2)      # Include single words and word pairs\n",
    ")\n",
    "\n",
    "tfidf_features = tfidf.fit_transform(df_text['text'])\n",
    "tfidf_feature_names = tfidf.get_feature_names_out()\n",
    "\n",
    "# Convert to DataFrame for visualization\n",
    "tfidf_df = pd.DataFrame(\n",
    "    tfidf_features.toarray(),\n",
    "    columns=[f'tfidf_{name}' for name in tfidf_feature_names]\n",
    ")\n",
    "\n",
    "print(\"TF-IDF features shape:\", tfidf_df.shape)\n",
    "print(\"\\nTop TF-IDF features (important words/phrases):\")\n",
    "print(tfidf_feature_names[:10])"
   ]
  },
  {
   "cell_type": "markdown",
   "metadata": {},
   "source": [
    "**Key Insight**: TF-IDF automatically identifies the most important and distinctive words in your text, creating features that can be used for classification or clustering."
   ]
  },
  {
   "cell_type": "markdown",
   "metadata": {},
   "source": [
    "## Practice Exercises\n",
    "\n",
    "Now it's your turn! Try these exercises to reinforce your learning:\n",
    "\n",
    "### Exercise 1: Create Your Own Features\n",
    "Using any of the dataframes created above, engineer 5 new features that might be predictive for a business problem of your choice."
   ]
  },
  {
   "cell_type": "code",
   "execution_count": 24,
   "metadata": {},
   "outputs": [],
   "source": [
    "# Your code here:\n",
    "# Example: Predict customer churn\n",
    "# Create features like:\n",
    "# - days_since_last_purchase\n",
    "# - purchase_frequency_trend\n",
    "# - complaint_ratio\n",
    "# etc.\n"
   ]
  },
  {
   "cell_type": "markdown",
   "metadata": {},
   "source": [
    "### Exercise 2: Build a Feature Engineering Function\n",
    "Create a reusable function that takes a datetime column and automatically generates useful temporal features."
   ]
  },
  {
   "cell_type": "code",
   "execution_count": 25,
   "metadata": {},
   "outputs": [],
   "source": [
    "def extract_temporal_features(df, date_column):\n",
    "    \"\"\"\n",
    "    Extract comprehensive temporal features from a datetime column.\n",
    "    \n",
    "    Parameters:\n",
    "    df: DataFrame\n",
    "    date_column: name of the datetime column\n",
    "    \n",
    "    Returns:\n",
    "    DataFrame with new temporal features\n",
    "    \"\"\"\n",
    "    # Your code here:\n",
    "    # Extract: year, month, day, hour, dayofweek\n",
    "    # Create: is_weekend, is_holiday, is_month_end\n",
    "    # Add: cyclical encoding for hour and month\n",
    "    pass\n"
   ]
  },
  {
   "cell_type": "markdown",
   "metadata": {},
   "source": [
    "### Exercise 3: Text Feature Pipeline\n",
    "Create a function that takes a text column and extracts at least 10 different features."
   ]
  },
  {
   "cell_type": "code",
   "execution_count": 26,
   "metadata": {},
   "outputs": [],
   "source": [
    "def extract_text_features(text_series):\n",
    "    \"\"\"\n",
    "    Extract multiple features from text data.\n",
    "    \n",
    "    Parameters:\n",
    "    text_series: Pandas Series containing text\n",
    "    \n",
    "    Returns:\n",
    "    DataFrame with text features\n",
    "    \"\"\"\n",
    "    # Your code here:\n",
    "    # Calculate: length, word count, sentiment\n",
    "    # Detect: URLs, emails, questions\n",
    "    # Extract: TF-IDF features\n",
    "    pass\n"
   ]
  },
  {
   "cell_type": "markdown",
   "metadata": {},
   "source": [
    "## Key Takeaways\n",
    "\n",
    "### Remember These Critical Points:\n",
    "\n",
    "1. **Feature engineering often matters more than model selection** - A simple model with great features beats a complex model with poor features\n",
    "\n",
    "2. **Start simple, then iterate** - Basic ratios and transformations often provide the most value\n",
    "\n",
    "3. **Domain knowledge is gold** - Understanding your business/field helps you create meaningful features\n",
    "\n",
    "4. **Always handle edge cases** - Add 1 to denominators, use log1p instead of log, check for missing values\n",
    "\n",
    "5. **Validate your features** - Not every engineered feature will be useful; test them!\n",
    "\n",
    "6. **Consider production constraints** - Some features are expensive to compute in real-time\n",
    "\n",
    "7. **Document your logic** - Your future self (and teammates) need to understand why you created each feature\n",
    "\n",
    "8. **Watch for data leakage** - Never use information from the future or information that won't be available at prediction time\n",
    "\n",
    "### Next Steps:\n",
    "- Practice with your own datasets\n",
    "- Experiment with different transformations\n",
    "- Learn more about domain-specific feature engineering\n",
    "- Study feature selection techniques to identify which features actually help\n",
    "\n",
    "Remember: Feature engineering is both an art and a science. The more you practice, the better your intuition becomes!"
   ]
  }
 ],
 "metadata": {
  "kernelspec": {
   "display_name": "Python (venv)",
   "language": "python",
   "name": "venv"
  },
  "language_info": {
   "codemirror_mode": {
    "name": "ipython",
    "version": 3
   },
   "file_extension": ".py",
   "mimetype": "text/x-python",
   "name": "python",
   "nbconvert_exporter": "python",
   "pygments_lexer": "ipython3",
   "version": "3.12.7"
  }
 },
 "nbformat": 4,
 "nbformat_minor": 4
}
