{
 "cells": [
  {
   "cell_type": "markdown",
   "metadata": {},
   "source": [
    "# Module 4 - Lesson 3: Categorical Encoding\n",
    "\n",
    "## From Categories to Numbers: Essential Techniques for Machine Learning\n",
    "\n",
    "Welcome to Lesson 3! This notebook will teach you how to convert categorical variables (text/labels) into numbers that machine learning algorithms can understand. This is a critical skill - get it wrong and your model will either fail or learn incorrect patterns.\n",
    "\n",
    "### What You'll Learn:\n",
    "- Why encoding categorical variables is challenging\n",
    "- One-hot encoding for nominal categories\n",
    "- Label encoding and when it's appropriate\n",
    "- Target encoding for high-cardinality features\n",
    "- Handling unknown categories in production\n",
    "- Common pitfalls and how to avoid them\n",
    "\n",
    "### Why This Matters:\n",
    "Machine learning models need numbers, not text. But converting 'red', 'blue', 'green' to 1, 2, 3 implies that green > blue > red, which is wrong! We need smarter encoding strategies that preserve the meaning of our categorical data."
   ]
  },
  {
   "cell_type": "markdown",
   "metadata": {},
   "source": [
    "## Setup: Import Required Libraries\n",
    "\n",
    "Let's start by importing all the libraries we'll need for this lesson:"
   ]
  },
  {
   "cell_type": "code",
   "execution_count": 1,
   "metadata": {},
   "outputs": [
    {
     "name": "stdout",
     "output_type": "stream",
     "text": [
      "Libraries imported successfully!\n"
     ]
    }
   ],
   "source": [
    "import numpy as np\n",
    "import pandas as pd\n",
    "import matplotlib.pyplot as plt\n",
    "import seaborn as sns\n",
    "from sklearn.preprocessing import LabelEncoder, OneHotEncoder, OrdinalEncoder\n",
    "from sklearn.model_selection import train_test_split, cross_val_score\n",
    "from sklearn.ensemble import RandomForestClassifier\n",
    "from sklearn.linear_model import LogisticRegression\n",
    "from sklearn.tree import DecisionTreeClassifier\n",
    "import warnings\n",
    "warnings.filterwarnings('ignore')\n",
    "\n",
    "# Set display options\n",
    "pd.set_option('display.max_columns', None)\n",
    "pd.set_option('display.max_rows', 100)\n",
    "\n",
    "print(\"Libraries imported successfully!\")"
   ]
  },
  {
   "cell_type": "markdown",
   "metadata": {},
   "source": [
    "## 1. Understanding the Encoding Challenge\n",
    "\n",
    "### The Fundamental Problem\n",
    "\n",
    "Machine learning algorithms work with numbers, but much of our data is categorical (text labels). Simply converting categories to numbers can create problems because numbers have properties that categories don't:\n",
    "- **Order**: 3 > 2 > 1\n",
    "- **Distance**: 3 - 1 = 2\n",
    "- **Mathematical operations**: (1 + 3) / 2 = 2\n",
    "\n",
    "Let's see why naive encoding doesn't work:"
   ]
  },
  {
   "cell_type": "code",
   "execution_count": 2,
   "metadata": {},
   "outputs": [
    {
     "name": "stdout",
     "output_type": "stream",
     "text": [
      "Original categorical data:\n",
      "   color    size    quality  price\n",
      "0    red   small       good    100\n",
      "1   blue  medium  excellent    150\n",
      "2  green   large       poor    200\n",
      "3    red  medium       good    120\n",
      "4   blue   small  excellent    140\n",
      "5  green   large       good    180\n",
      "6    red  medium       poor     90\n",
      "\n",
      "Data types:\n",
      "color      object\n",
      "size       object\n",
      "quality    object\n",
      "price       int64\n",
      "dtype: object\n"
     ]
    }
   ],
   "source": [
    "# Create sample categorical data\n",
    "df = pd.DataFrame({\n",
    "    'color': ['red', 'blue', 'green', 'red', 'blue', 'green', 'red'],\n",
    "    'size': ['small', 'medium', 'large', 'medium', 'small', 'large', 'medium'],\n",
    "    'quality': ['good', 'excellent', 'poor', 'good', 'excellent', 'good', 'poor'],\n",
    "    'price': [100, 150, 200, 120, 140, 180, 90]\n",
    "})\n",
    "\n",
    "print(\"Original categorical data:\")\n",
    "print(df)\n",
    "print(\"\\nData types:\")\n",
    "print(df.dtypes)"
   ]
  },
  {
   "cell_type": "markdown",
   "metadata": {},
   "source": [
    "### The Naive Approach - Why It's Wrong\n",
    "\n",
    "Let's see what happens if we simply assign numbers to categories:"
   ]
  },
  {
   "cell_type": "code",
   "execution_count": 3,
   "metadata": {},
   "outputs": [
    {
     "name": "stdout",
     "output_type": "stream",
     "text": [
      "Naive encoding of colors:\n",
      "   color  color_naive\n",
      "0    red            1\n",
      "1   blue            2\n",
      "2  green            3\n",
      "3    red            1\n",
      "4   blue            2\n",
      "5  green            3\n",
      "6    red            1\n",
      "\n",
      "⚠️ PROBLEMS with this approach:\n",
      "1. Implies green (3) > blue (2) > red (1)\n",
      "2. Suggests green is 3x more than red\n",
      "3. Distance between green-red = 2, blue-red = 1\n",
      "4. Model might learn that (red + green) / 2 = blue!\n"
     ]
    }
   ],
   "source": [
    "# Naive encoding - DON'T DO THIS for nominal categories!\n",
    "naive_encoding = {\n",
    "    'red': 1,\n",
    "    'blue': 2,\n",
    "    'green': 3\n",
    "}\n",
    "\n",
    "df['color_naive'] = df['color'].map(naive_encoding)\n",
    "\n",
    "print(\"Naive encoding of colors:\")\n",
    "print(df[['color', 'color_naive']])\n",
    "print(\"\\n⚠️ PROBLEMS with this approach:\")\n",
    "print(\"1. Implies green (3) > blue (2) > red (1)\")\n",
    "print(\"2. Suggests green is 3x more than red\")\n",
    "print(\"3. Distance between green-red = 2, blue-red = 1\")\n",
    "print(\"4. Model might learn that (red + green) / 2 = blue!\")\n",
    "\n",
    "# Clean up\n",
    "df = df.drop('color_naive', axis=1)"
   ]
  },
  {
   "cell_type": "markdown",
   "metadata": {},
   "source": [
    "### Types of Categorical Variables\n",
    "\n",
    "Before encoding, we need to understand what type of categorical variable we have:\n",
    "\n",
    "1. **Nominal**: No inherent order (colors, countries, product types)\n",
    "2. **Ordinal**: Natural ordering (small/medium/large, poor/good/excellent)\n",
    "3. **Binary**: Two categories (yes/no, true/false)\n",
    "4. **High Cardinality**: Many unique values (zip codes, product IDs)"
   ]
  },
  {
   "cell_type": "code",
   "execution_count": 4,
   "metadata": {},
   "outputs": [
    {
     "name": "stdout",
     "output_type": "stream",
     "text": [
      "Analyzing our categorical variables:\n",
      "==================================================\n",
      "\n",
      "color:\n",
      "  Unique values: ['red' 'blue' 'green']\n",
      "  Count: 3\n",
      "  Type: NOMINAL (no natural order)\n",
      "  Recommended encoding: One-Hot\n",
      "\n",
      "size:\n",
      "  Unique values: ['small' 'medium' 'large']\n",
      "  Count: 3\n",
      "  Type: ORDINAL (small < medium < large)\n",
      "  Recommended encoding: Ordinal/Label\n",
      "\n",
      "quality:\n",
      "  Unique values: ['good' 'excellent' 'poor']\n",
      "  Count: 3\n",
      "  Type: ORDINAL (poor < good < excellent)\n",
      "  Recommended encoding: Ordinal with custom mapping\n"
     ]
    }
   ],
   "source": [
    "# Identify different types of categorical variables\n",
    "print(\"Analyzing our categorical variables:\")\n",
    "print(\"=\" * 50)\n",
    "\n",
    "for col in ['color', 'size', 'quality']:\n",
    "    unique_values = df[col].unique()\n",
    "    n_unique = len(unique_values)\n",
    "    \n",
    "    print(f\"\\n{col}:\")\n",
    "    print(f\"  Unique values: {unique_values}\")\n",
    "    print(f\"  Count: {n_unique}\")\n",
    "    \n",
    "    if col == 'color':\n",
    "        print(\"  Type: NOMINAL (no natural order)\")\n",
    "        print(\"  Recommended encoding: One-Hot\")\n",
    "    elif col == 'size':\n",
    "        print(\"  Type: ORDINAL (small < medium < large)\")\n",
    "        print(\"  Recommended encoding: Ordinal/Label\")\n",
    "    elif col == 'quality':\n",
    "        print(\"  Type: ORDINAL (poor < good < excellent)\")\n",
    "        print(\"  Recommended encoding: Ordinal with custom mapping\")"
   ]
  },
  {
   "cell_type": "markdown",
   "metadata": {},
   "source": [
    "## 2. One-Hot Encoding\n",
    "\n",
    "### How One-Hot Encoding Works\n",
    "\n",
    "One-hot encoding creates a new binary column for each category. Only one column has a 1 (hot) while others have 0 (cold).\n",
    "\n",
    "This is perfect for **nominal categories** where there's no inherent order.\n",
    "\n",
    "Example: `color = red` becomes `color_red = 1, color_blue = 0, color_green = 0`"
   ]
  },
  {
   "cell_type": "code",
   "execution_count": 5,
   "metadata": {},
   "outputs": [
    {
     "name": "stdout",
     "output_type": "stream",
     "text": [
      "One-hot encoding using pandas get_dummies:\n",
      "     size    quality  price  color_blue  color_green  color_red\n",
      "0   small       good    100       False        False       True\n",
      "1  medium  excellent    150        True        False      False\n",
      "2   large       poor    200       False         True      False\n",
      "3  medium       good    120       False        False       True\n",
      "4   small  excellent    140        True        False      False\n",
      "\n",
      "✅ Notice: Each color is now a separate binary column\n",
      "✅ No false ordering is implied\n",
      "✅ Each row has exactly one 1 across the color columns\n"
     ]
    }
   ],
   "source": [
    "# Method 1: Using pandas get_dummies (easiest for exploration)\n",
    "df_with_dummies = pd.get_dummies(df, columns=['color'], prefix='color')\n",
    "\n",
    "print(\"One-hot encoding using pandas get_dummies:\")\n",
    "print(df_with_dummies.head())\n",
    "print(\"\\n✅ Notice: Each color is now a separate binary column\")\n",
    "print(\"✅ No false ordering is implied\")\n",
    "print(\"✅ Each row has exactly one 1 across the color columns\")"
   ]
  },
  {
   "cell_type": "markdown",
   "metadata": {},
   "source": [
    "### Using Scikit-learn's OneHotEncoder\n",
    "\n",
    "For production and pipelines, scikit-learn's OneHotEncoder is more robust:"
   ]
  },
  {
   "cell_type": "code",
   "execution_count": 6,
   "metadata": {},
   "outputs": [
    {
     "name": "stdout",
     "output_type": "stream",
     "text": [
      "One-hot encoding using scikit-learn:\n",
      "   color_blue  color_green  color_red\n",
      "0         0.0          0.0        1.0\n",
      "1         1.0          0.0        0.0\n",
      "2         0.0          1.0        0.0\n",
      "3         0.0          0.0        1.0\n",
      "4         1.0          0.0        0.0\n",
      "\n",
      "Encoder categories: ['blue' 'green' 'red']\n",
      "\n",
      "💡 Advantage: handle_unknown='ignore' prevents errors with new categories in production\n"
     ]
    }
   ],
   "source": [
    "from sklearn.preprocessing import OneHotEncoder\n",
    "\n",
    "# Create and fit the encoder\n",
    "ohe = OneHotEncoder(sparse_output=False, handle_unknown='ignore')\n",
    "color_encoded = ohe.fit_transform(df[['color']])\n",
    "\n",
    "# Get feature names\n",
    "feature_names = ohe.get_feature_names_out(['color'])\n",
    "\n",
    "# Create DataFrame with encoded features\n",
    "color_encoded_df = pd.DataFrame(color_encoded, columns=feature_names)\n",
    "\n",
    "print(\"One-hot encoding using scikit-learn:\")\n",
    "print(color_encoded_df.head())\n",
    "print(\"\\nEncoder categories:\", ohe.categories_[0])\n",
    "print(\"\\n💡 Advantage: handle_unknown='ignore' prevents errors with new categories in production\")"
   ]
  },
  {
   "cell_type": "markdown",
   "metadata": {},
   "source": [
    "### The Dummy Variable Trap\n",
    "\n",
    "When using one-hot encoding with linear models, you might encounter the **dummy variable trap** - perfect multicollinearity. We can avoid this by dropping one column:"
   ]
  },
  {
   "cell_type": "code",
   "execution_count": 7,
   "metadata": {},
   "outputs": [
    {
     "name": "stdout",
     "output_type": "stream",
     "text": [
      "Full one-hot encoding (can cause issues with linear models):\n",
      "   color_blue  color_green  color_red\n",
      "0         0.0          0.0        1.0\n",
      "1         1.0          0.0        0.0\n",
      "2         0.0          1.0        0.0\n",
      "3         0.0          0.0        1.0\n",
      "4         1.0          0.0        0.0\n",
      "Shape: (7, 3)\n",
      "\n",
      "Sum of each row (always 1):\n",
      "[1.]\n",
      "\n",
      "With drop='first' (n-1 encoding):\n",
      "   color_green  color_red\n",
      "0          0.0        1.0\n",
      "1          0.0        0.0\n",
      "2          1.0        0.0\n",
      "3          0.0        1.0\n",
      "4          0.0        0.0\n",
      "Shape: (7, 2)\n",
      "\n",
      "📝 Note: 'blue' is dropped. When all other columns are 0, it means 'blue'\n",
      "This prevents multicollinearity in linear models while preserving all information\n"
     ]
    }
   ],
   "source": [
    "# Demonstrate dummy variable trap\n",
    "print(\"Full one-hot encoding (can cause issues with linear models):\")\n",
    "print(color_encoded_df.head())\n",
    "print(f\"Shape: {color_encoded_df.shape}\")\n",
    "print(\"\\nSum of each row (always 1):\")\n",
    "print(color_encoded_df.sum(axis=1).unique())\n",
    "\n",
    "# Drop first column to avoid dummy variable trap\n",
    "ohe_drop = OneHotEncoder(sparse_output=False, drop='first')\n",
    "color_encoded_drop = ohe_drop.fit_transform(df[['color']])\n",
    "color_encoded_drop_df = pd.DataFrame(\n",
    "    color_encoded_drop, \n",
    "    columns=ohe_drop.get_feature_names_out(['color'])\n",
    ")\n",
    "\n",
    "print(\"\\nWith drop='first' (n-1 encoding):\")\n",
    "print(color_encoded_drop_df.head())\n",
    "print(f\"Shape: {color_encoded_drop_df.shape}\")\n",
    "print(\"\\n📝 Note: 'blue' is dropped. When all other columns are 0, it means 'blue'\")\n",
    "print(\"This prevents multicollinearity in linear models while preserving all information\")"
   ]
  },
  {
   "cell_type": "markdown",
   "metadata": {},
   "source": [
    "### When to Use One-Hot Encoding\n",
    "\n",
    "**Use One-Hot when:**\n",
    "- Nominal categories (no natural order)\n",
    "- Low to medium cardinality (< 10-20 categories)\n",
    "- Linear models, neural networks, SVM\n",
    "\n",
    "**Don't use when:**\n",
    "- High cardinality (100s of categories) - causes dimensionality explosion\n",
    "- Tree-based models with many categories (they can handle label encoding)\n",
    "- Memory is a constraint"
   ]
  },
  {
   "cell_type": "markdown",
   "metadata": {},
   "source": [
    "## 3. Label Encoding and Ordinal Encoding\n",
    "\n",
    "### Label Encoding for Ordinal Variables\n",
    "\n",
    "When categories have a natural order, we can use label encoding. But we need to be careful to preserve the correct order!"
   ]
  },
  {
   "cell_type": "code",
   "execution_count": 8,
   "metadata": {},
   "outputs": [
    {
     "name": "stdout",
     "output_type": "stream",
     "text": [
      "Ordinal encoding with correct order:\n",
      "     size  size_encoded    quality  quality_encoded\n",
      "0   small             0       good                1\n",
      "1  medium             1  excellent                2\n",
      "2   large             2       poor                0\n",
      "3  medium             1       good                1\n",
      "4   small             0  excellent                2\n",
      "5   large             2       good                1\n",
      "6  medium             1       poor                0\n",
      "\n",
      "✅ Notice: small=0 < medium=1 < large=2\n",
      "✅ Notice: poor=0 < good=1 < excellent=2\n",
      "The ordering now makes sense!\n"
     ]
    }
   ],
   "source": [
    "# For ordinal data, we need to specify the order\n",
    "size_order = ['small', 'medium', 'large']\n",
    "quality_order = ['poor', 'good', 'excellent']\n",
    "\n",
    "# Method 1: Using pandas Categorical\n",
    "df['size_encoded'] = pd.Categorical(\n",
    "    df['size'], \n",
    "    categories=size_order, \n",
    "    ordered=True\n",
    ").codes\n",
    "\n",
    "df['quality_encoded'] = pd.Categorical(\n",
    "    df['quality'], \n",
    "    categories=quality_order, \n",
    "    ordered=True\n",
    ").codes\n",
    "\n",
    "print(\"Ordinal encoding with correct order:\")\n",
    "print(df[['size', 'size_encoded', 'quality', 'quality_encoded']])\n",
    "print(\"\\n✅ Notice: small=0 < medium=1 < large=2\")\n",
    "print(\"✅ Notice: poor=0 < good=1 < excellent=2\")\n",
    "print(\"The ordering now makes sense!\")"
   ]
  },
  {
   "cell_type": "markdown",
   "metadata": {},
   "source": [
    "### Using Scikit-learn's OrdinalEncoder\n",
    "\n",
    "For production pipelines, OrdinalEncoder is more robust:"
   ]
  },
  {
   "cell_type": "code",
   "execution_count": 9,
   "metadata": {},
   "outputs": [
    {
     "name": "stdout",
     "output_type": "stream",
     "text": [
      "Ordinal encoding with scikit-learn:\n",
      "     size  size_ordinal\n",
      "0   small           0.0\n",
      "1  medium           1.0\n",
      "2   large           2.0\n",
      "3  medium           1.0\n",
      "4   small           0.0\n",
      "5   large           2.0\n",
      "6  medium           1.0\n",
      "\n",
      "Handling unknown categories:\n",
      "Original: ['small' 'extra-large' 'medium']\n",
      "Encoded: [ 0. -1.  1.]\n",
      "\n",
      "📝 'extra-large' is unknown, encoded as -1\n"
     ]
    }
   ],
   "source": [
    "from sklearn.preprocessing import OrdinalEncoder\n",
    "\n",
    "# Create encoder with specified order\n",
    "ordinal_encoder = OrdinalEncoder(\n",
    "    categories=[size_order],\n",
    "    handle_unknown='use_encoded_value',\n",
    "    unknown_value=-1  # Unknown categories will be encoded as -1\n",
    ")\n",
    "\n",
    "# Fit and transform\n",
    "df['size_ordinal'] = ordinal_encoder.fit_transform(df[['size']])\n",
    "\n",
    "print(\"Ordinal encoding with scikit-learn:\")\n",
    "print(df[['size', 'size_ordinal']])\n",
    "\n",
    "# Test with unknown category\n",
    "new_data = pd.DataFrame({'size': ['small', 'extra-large', 'medium']})\n",
    "new_encoded = ordinal_encoder.transform(new_data[['size']])\n",
    "\n",
    "print(\"\\nHandling unknown categories:\")\n",
    "print(\"Original:\", new_data['size'].values)\n",
    "print(\"Encoded:\", new_encoded.ravel())\n",
    "print(\"\\n📝 'extra-large' is unknown, encoded as -1\")"
   ]
  },
  {
   "cell_type": "markdown",
   "metadata": {},
   "source": [
    "### Custom Mapping for More Control\n",
    "\n",
    "Sometimes you want specific numeric values for your ordinal categories:"
   ]
  },
  {
   "cell_type": "code",
   "execution_count": 10,
   "metadata": {},
   "outputs": [
    {
     "name": "stdout",
     "output_type": "stream",
     "text": [
      "Custom mapping for quality:\n",
      "     quality  quality_encoded  quality_custom\n",
      "0       good                1               5\n",
      "1  excellent                2              10\n",
      "2       poor                0               1\n",
      "3       good                1               5\n",
      "4  excellent                2              10\n",
      "5       good                1               5\n",
      "6       poor                0               1\n",
      "\n",
      "📝 Custom mapping allows non-uniform spacing\n",
      "This can reflect domain knowledge (excellent is much better than good)\n"
     ]
    }
   ],
   "source": [
    "# Custom mapping with specific values\n",
    "quality_mapping = {\n",
    "    'poor': 1,\n",
    "    'good': 5,\n",
    "    'excellent': 10\n",
    "}\n",
    "\n",
    "df['quality_custom'] = df['quality'].map(quality_mapping)\n",
    "\n",
    "print(\"Custom mapping for quality:\")\n",
    "print(df[['quality', 'quality_encoded', 'quality_custom']])\n",
    "print(\"\\n📝 Custom mapping allows non-uniform spacing\")\n",
    "print(\"This can reflect domain knowledge (excellent is much better than good)\")"
   ]
  },
  {
   "cell_type": "markdown",
   "metadata": {},
   "source": [
    "### Binary Encoding (Special Case)\n",
    "\n",
    "For binary categories, simple 0/1 encoding is sufficient:"
   ]
  },
  {
   "cell_type": "code",
   "execution_count": 11,
   "metadata": {},
   "outputs": [
    {
     "name": "stdout",
     "output_type": "stream",
     "text": [
      "Binary encoding:\n",
      "  is_premium  is_premium_encoded  is_premium_label\n",
      "0        yes                   1                 1\n",
      "1         no                   0                 0\n",
      "2        yes                   1                 1\n",
      "3        yes                   1                 1\n",
      "4        yes                   1                 1\n",
      "\n",
      "✅ For binary categories, 0/1 encoding is perfect\n",
      "No information loss, no dimensionality increase\n"
     ]
    }
   ],
   "source": [
    "# Add binary column\n",
    "df['is_premium'] = np.random.choice(['yes', 'no'], size=len(df))\n",
    "\n",
    "# Simple binary encoding\n",
    "df['is_premium_encoded'] = (df['is_premium'] == 'yes').astype(int)\n",
    "\n",
    "# Alternative using LabelEncoder\n",
    "le = LabelEncoder()\n",
    "df['is_premium_label'] = le.fit_transform(df['is_premium'])\n",
    "\n",
    "print(\"Binary encoding:\")\n",
    "print(df[['is_premium', 'is_premium_encoded', 'is_premium_label']].head())\n",
    "print(\"\\n✅ For binary categories, 0/1 encoding is perfect\")\n",
    "print(\"No information loss, no dimensionality increase\")"
   ]
  },
  {
   "cell_type": "markdown",
   "metadata": {},
   "source": [
    "## 4. Target Encoding (Mean Encoding)\n",
    "\n",
    "### Handling High Cardinality Features\n",
    "\n",
    "When you have categorical features with many unique values (like zip codes, product IDs), one-hot encoding creates too many columns. Target encoding replaces each category with the mean of the target variable for that category.\n",
    "\n",
    "⚠️ **WARNING**: Target encoding can cause overfitting if not done carefully!"
   ]
  },
  {
   "cell_type": "code",
   "execution_count": 12,
   "metadata": {},
   "outputs": [
    {
     "name": "stdout",
     "output_type": "stream",
     "text": [
      "High cardinality data:\n",
      "Number of unique cities: 50\n",
      "Dataset size: 1000\n",
      "\n",
      "First few rows:\n",
      "      city  features  target\n",
      "0  City_38 -0.617090       1\n",
      "1  City_28 -1.258842       0\n",
      "2  City_14  1.188801       1\n",
      "3  City_42 -0.041308       1\n",
      "4   City_7  0.173966       1\n"
     ]
    }
   ],
   "source": [
    "# Create high cardinality example\n",
    "np.random.seed(42)\n",
    "n_samples = 1000\n",
    "\n",
    "# High cardinality feature (50 different cities)\n",
    "cities = [f'City_{i}' for i in range(50)]\n",
    "df_high_card = pd.DataFrame({\n",
    "    'city': np.random.choice(cities, n_samples),\n",
    "    'features': np.random.randn(n_samples),\n",
    "    'target': np.random.randint(0, 2, n_samples)\n",
    "})\n",
    "\n",
    "print(f\"High cardinality data:\")\n",
    "print(f\"Number of unique cities: {df_high_card['city'].nunique()}\")\n",
    "print(f\"Dataset size: {len(df_high_card)}\")\n",
    "print(\"\\nFirst few rows:\")\n",
    "print(df_high_card.head())"
   ]
  },
  {
   "cell_type": "markdown",
   "metadata": {},
   "source": [
    "### Implementing Target Encoding\n",
    "\n",
    "Let's implement target encoding properly with cross-validation to avoid data leakage:"
   ]
  },
  {
   "cell_type": "code",
   "execution_count": 13,
   "metadata": {},
   "outputs": [
    {
     "name": "stdout",
     "output_type": "stream",
     "text": [
      "Target encoding results:\n",
      "\n",
      "Training set (first 10 rows):\n",
      "        city  city_encoded\n",
      "29   City_48      0.413043\n",
      "535  City_42      0.633333\n",
      "695  City_12      0.605263\n",
      "557  City_28      0.477273\n",
      "836  City_46      0.446429\n",
      "596  City_40      0.575000\n",
      "165  City_12      0.605263\n",
      "918  City_26      0.472222\n",
      "495   City_4      0.410714\n",
      "824  City_25      0.650000\n",
      "\n",
      "Encoding statistics:\n",
      "Global mean: 0.500\n",
      "Number of encoded categories: 50\n",
      "Encoding range: [0.325, 0.679]\n"
     ]
    }
   ],
   "source": [
    "class TargetEncoder:\n",
    "    \"\"\"Target encoder with smoothing to prevent overfitting\"\"\"\n",
    "    \n",
    "    def __init__(self, smoothing=1.0):\n",
    "        self.smoothing = smoothing\n",
    "        self.encodings = {}\n",
    "        self.global_mean = None\n",
    "        \n",
    "    def fit(self, X, y):\n",
    "        \"\"\"Calculate target statistics for each category\"\"\"\n",
    "        # Global mean of target\n",
    "        self.global_mean = y.mean()\n",
    "        \n",
    "        # Calculate statistics for each category\n",
    "        for category in X.unique():\n",
    "            mask = X == category\n",
    "            category_target = y[mask]\n",
    "            \n",
    "            # Number of samples in this category\n",
    "            n = len(category_target)\n",
    "            \n",
    "            # Category mean\n",
    "            category_mean = category_target.mean()\n",
    "            \n",
    "            # Smoothed estimate (shrinkage towards global mean)\n",
    "            smoothed_mean = (\n",
    "                (category_mean * n + self.global_mean * self.smoothing) / \n",
    "                (n + self.smoothing)\n",
    "            )\n",
    "            \n",
    "            self.encodings[category] = smoothed_mean\n",
    "            \n",
    "        return self\n",
    "        \n",
    "    def transform(self, X):\n",
    "        \"\"\"Transform categories to target encodings\"\"\"\n",
    "        # Use global mean for unknown categories\n",
    "        return X.map(self.encodings).fillna(self.global_mean)\n",
    "    \n",
    "    def fit_transform(self, X, y):\n",
    "        \"\"\"Fit and transform in one step\"\"\"\n",
    "        return self.fit(X, y).transform(X)\n",
    "\n",
    "\n",
    "# Split data\n",
    "X_train, X_test, y_train, y_test = train_test_split(\n",
    "    df_high_card[['city', 'features']], \n",
    "    df_high_card['target'], \n",
    "    test_size=0.2, \n",
    "    random_state=42\n",
    ")\n",
    "\n",
    "# Apply target encoding\n",
    "encoder = TargetEncoder(smoothing=5.0)\n",
    "X_train_encoded = X_train.copy()\n",
    "X_train_encoded['city_encoded'] = encoder.fit_transform(X_train['city'], y_train)\n",
    "\n",
    "X_test_encoded = X_test.copy()\n",
    "X_test_encoded['city_encoded'] = encoder.transform(X_test['city'])\n",
    "\n",
    "print(\"Target encoding results:\")\n",
    "print(\"\\nTraining set (first 10 rows):\")\n",
    "print(X_train_encoded[['city', 'city_encoded']].head(10))\n",
    "\n",
    "print(\"\\nEncoding statistics:\")\n",
    "print(f\"Global mean: {encoder.global_mean:.3f}\")\n",
    "print(f\"Number of encoded categories: {len(encoder.encodings)}\")\n",
    "print(f\"Encoding range: [{min(encoder.encodings.values()):.3f}, {max(encoder.encodings.values()):.3f}]\")"
   ]
  },
  {
   "cell_type": "markdown",
   "metadata": {},
   "source": [
    "### Visualizing Target Encoding Effect\n",
    "\n",
    "Let's visualize how target encoding captures the relationship between categories and the target:"
   ]
  },
  {
   "cell_type": "code",
   "execution_count": 14,
   "metadata": {},
   "outputs": [
    {
     "data": {
      "image/png": "[encoded data removed]",
      "text/plain": [
       "<Figure size 1400x500 with 2 Axes>"
      ]
     },
     "metadata": {},
     "output_type": "display_data"
    },
    {
     "name": "stdout",
     "output_type": "stream",
     "text": [
      "📝 Key observations:\n",
      "- Cities have different target rates (encoding captures this)\n",
      "- Small sample sizes lead to extreme values (smoothing helps)\n",
      "- Target encoding converts 50 categories to 1 meaningful number\n"
     ]
    }
   ],
   "source": [
    "# Calculate actual target rates for each city\n",
    "city_stats = df_high_card.groupby('city')['target'].agg(['mean', 'count']).reset_index()\n",
    "city_stats = city_stats.sort_values('mean')\n",
    "\n",
    "# Plot\n",
    "fig, axes = plt.subplots(1, 2, figsize=(14, 5))\n",
    "\n",
    "# Target rate by city\n",
    "axes[0].bar(range(len(city_stats)), city_stats['mean'], color='skyblue', edgecolor='navy', alpha=0.7)\n",
    "axes[0].axhline(y=df_high_card['target'].mean(), color='red', linestyle='--', label='Global mean')\n",
    "axes[0].set_xlabel('City (sorted by target rate)')\n",
    "axes[0].set_ylabel('Target Rate')\n",
    "axes[0].set_title('Actual Target Rate by City')\n",
    "axes[0].legend()\n",
    "\n",
    "# Sample size effect\n",
    "axes[1].scatter(city_stats['count'], city_stats['mean'], alpha=0.6, s=50)\n",
    "axes[1].axhline(y=df_high_card['target'].mean(), color='red', linestyle='--', label='Global mean')\n",
    "axes[1].set_xlabel('Number of Samples')\n",
    "axes[1].set_ylabel('Target Rate')\n",
    "axes[1].set_title('Target Rate vs Sample Size')\n",
    "axes[1].legend()\n",
    "\n",
    "plt.tight_layout()\n",
    "plt.show()\n",
    "\n",
    "print(\"📝 Key observations:\")\n",
    "print(\"- Cities have different target rates (encoding captures this)\")\n",
    "print(\"- Small sample sizes lead to extreme values (smoothing helps)\")\n",
    "print(\"- Target encoding converts 50 categories to 1 meaningful number\")"
   ]
  },
  {
   "cell_type": "markdown",
   "metadata": {},
   "source": [
    "### Preventing Overfitting with K-Fold Target Encoding\n",
    "\n",
    "For even better results, use K-fold cross-validation during encoding:"
   ]
  },
  {
   "cell_type": "code",
   "execution_count": 15,
   "metadata": {},
   "outputs": [
    {
     "name": "stdout",
     "output_type": "stream",
     "text": [
      "K-fold target encoding (prevents overfitting):\n",
      "        city  city_kfold_encoded\n",
      "29   City_48            0.356399\n",
      "535  City_42            0.592330\n",
      "695  City_12            0.608817\n",
      "557  City_28            0.471354\n",
      "836  City_46            0.500744\n",
      "596  City_40            0.524740\n",
      "165  City_12            0.560662\n",
      "918  City_26            0.543620\n",
      "495   City_4            0.377812\n",
      "824  City_25            0.642113\n",
      "\n",
      "✅ Each sample is encoded using out-of-fold statistics\n",
      "✅ This prevents data leakage and reduces overfitting\n"
     ]
    }
   ],
   "source": [
    "from sklearn.model_selection import KFold\n",
    "\n",
    "def kfold_target_encoding(X, y, n_splits=5, smoothing=1.0):\n",
    "    \"\"\"K-fold target encoding to prevent overfitting\"\"\"\n",
    "    \n",
    "    # Initialize encoded array\n",
    "    X_encoded = np.zeros(len(X))\n",
    "    \n",
    "    # Global mean for smoothing\n",
    "    global_mean = y.mean()\n",
    "    \n",
    "    # K-fold cross-validation\n",
    "    kf = KFold(n_splits=n_splits, shuffle=True, random_state=42)\n",
    "    \n",
    "    for train_idx, val_idx in kf.split(X):\n",
    "        # Split data\n",
    "        X_train_fold = X.iloc[train_idx]\n",
    "        y_train_fold = y.iloc[train_idx]\n",
    "        X_val_fold = X.iloc[val_idx]\n",
    "        \n",
    "        # Fit encoder on training fold\n",
    "        encoder = TargetEncoder(smoothing=smoothing)\n",
    "        encoder.fit(X_train_fold, y_train_fold)\n",
    "        \n",
    "        # Transform validation fold\n",
    "        X_encoded[val_idx] = encoder.transform(X_val_fold)\n",
    "    \n",
    "    return X_encoded\n",
    "\n",
    "# Apply K-fold target encoding\n",
    "X_train_kfold = X_train.copy()\n",
    "X_train_kfold['city_kfold_encoded'] = kfold_target_encoding(\n",
    "    X_train['city'], \n",
    "    y_train, \n",
    "    n_splits=5, \n",
    "    smoothing=5.0\n",
    ")\n",
    "\n",
    "print(\"K-fold target encoding (prevents overfitting):\")\n",
    "print(X_train_kfold[['city', 'city_kfold_encoded']].head(10))\n",
    "print(\"\\n✅ Each sample is encoded using out-of-fold statistics\")\n",
    "print(\"✅ This prevents data leakage and reduces overfitting\")"
   ]
  },
  {
   "cell_type": "markdown",
   "metadata": {},
   "source": [
    "## 5. Comparing Encoding Methods\n",
    "\n",
    "### Impact on Different Algorithms\n",
    "\n",
    "Let's compare how different encoding methods affect various machine learning algorithms:"
   ]
  },
  {
   "cell_type": "code",
   "execution_count": 16,
   "metadata": {},
   "outputs": [
    {
     "name": "stdout",
     "output_type": "stream",
     "text": [
      "Dataset for comparison:\n",
      "  nominal ordinal high_card   numeric  target\n",
      "0       C    high    Cat_13 -0.167122       0\n",
      "1       A    high     Cat_3  0.282580       1\n",
      "2       C    high    Cat_12 -0.248691       0\n",
      "3       C    high     Cat_7  1.607346       0\n",
      "4       A     low    Cat_28  0.490975       0\n",
      "\n",
      "Shape: (1000, 5)\n",
      "Nominal categories: 3\n",
      "Ordinal categories: 3\n",
      "High cardinality categories: 30\n"
     ]
    }
   ],
   "source": [
    "# Create a dataset with mixed categorical types\n",
    "np.random.seed(42)\n",
    "n = 1000\n",
    "\n",
    "df_comparison = pd.DataFrame({\n",
    "    'nominal': np.random.choice(['A', 'B', 'C'], n),\n",
    "    'ordinal': np.random.choice(['low', 'medium', 'high'], n),\n",
    "    'high_card': np.random.choice([f'Cat_{i}' for i in range(30)], n),\n",
    "    'numeric': np.random.randn(n),\n",
    "    'target': np.random.randint(0, 2, n)\n",
    "})\n",
    "\n",
    "# Split data\n",
    "X = df_comparison.drop('target', axis=1)\n",
    "y = df_comparison['target']\n",
    "X_train, X_test, y_train, y_test = train_test_split(X, y, test_size=0.2, random_state=42)\n",
    "\n",
    "print(\"Dataset for comparison:\")\n",
    "print(df_comparison.head())\n",
    "print(f\"\\nShape: {df_comparison.shape}\")\n",
    "print(f\"Nominal categories: {df_comparison['nominal'].nunique()}\")\n",
    "print(f\"Ordinal categories: {df_comparison['ordinal'].nunique()}\")\n",
    "print(f\"High cardinality categories: {df_comparison['high_card'].nunique()}\")"
   ]
  },
  {
   "cell_type": "markdown",
   "metadata": {},
   "source": [
    "### Encoding Pipeline Comparison"
   ]
  },
  {
   "cell_type": "code",
   "execution_count": 17,
   "metadata": {},
   "outputs": [
    {
     "name": "stdout",
     "output_type": "stream",
     "text": [
      "Three encoding strategies created:\n",
      "1. One-hot for all (high dimensionality)\n",
      "2. Mixed: One-hot + Ordinal + Target encoding\n",
      "3. Label encoding for all (for tree models)\n"
     ]
    }
   ],
   "source": [
    "from sklearn.compose import ColumnTransformer\n",
    "from sklearn.pipeline import Pipeline\n",
    "\n",
    "# Method 1: One-hot for all categoricals\n",
    "def create_onehot_pipeline():\n",
    "    preprocessor = ColumnTransformer(\n",
    "        transformers=[\n",
    "            ('num', 'passthrough', ['numeric']),\n",
    "            ('cat', OneHotEncoder(handle_unknown='ignore'), ['nominal', 'ordinal', 'high_card'])\n",
    "        ])\n",
    "    return preprocessor\n",
    "\n",
    "# Method 2: Mixed encoding\n",
    "def create_mixed_pipeline():\n",
    "    # Create ordinal encoder for ordinal variable\n",
    "    ordinal_encoder = OrdinalEncoder(\n",
    "        categories=[['low', 'medium', 'high']],\n",
    "        handle_unknown='use_encoded_value',\n",
    "        unknown_value=-1\n",
    "    )\n",
    "    \n",
    "    preprocessor = ColumnTransformer(\n",
    "        transformers=[\n",
    "            ('num', 'passthrough', ['numeric']),\n",
    "            ('nominal', OneHotEncoder(handle_unknown='ignore'), ['nominal']),\n",
    "            ('ordinal', ordinal_encoder, ['ordinal']),\n",
    "            ('high_card', 'passthrough', ['high_card'])  # Will use target encoding\n",
    "        ])\n",
    "    return preprocessor\n",
    "\n",
    "# Method 3: Label encoding for trees\n",
    "def create_label_pipeline():\n",
    "    preprocessor = ColumnTransformer(\n",
    "        transformers=[\n",
    "            ('num', 'passthrough', ['numeric']),\n",
    "            ('cat', OrdinalEncoder(handle_unknown='use_encoded_value', unknown_value=-1), \n",
    "             ['nominal', 'ordinal', 'high_card'])\n",
    "        ])\n",
    "    return preprocessor\n",
    "\n",
    "print(\"Three encoding strategies created:\")\n",
    "print(\"1. One-hot for all (high dimensionality)\")\n",
    "print(\"2. Mixed: One-hot + Ordinal + Target encoding\")\n",
    "print(\"3. Label encoding for all (for tree models)\")"
   ]
  },
  {
   "cell_type": "markdown",
   "metadata": {},
   "source": [
    "### Performance Comparison"
   ]
  },
  {
   "cell_type": "code",
   "execution_count": 18,
   "metadata": {},
   "outputs": [
    {
     "name": "stdout",
     "output_type": "stream",
     "text": [
      "Performance Comparison:\n",
      "Encoding             Label  One-Hot\n",
      "Model                              \n",
      "Decision Tree        0.465    0.440\n",
      "Logistic Regression  0.465    0.515\n",
      "Random Forest        0.490    0.500\n",
      "\n",
      "📊 Feature counts:\n",
      "  Encoding  Features\n",
      "0  One-Hot        37\n",
      "3    Label         4\n",
      "\n",
      "📝 Key insights:\n",
      "- Tree-based models work well with label encoding\n",
      "- Linear models prefer one-hot encoding\n",
      "- One-hot creates many more features\n"
     ]
    }
   ],
   "source": [
    "# Test different combinations\n",
    "models = {\n",
    "    'Logistic Regression': LogisticRegression(max_iter=1000, random_state=42),\n",
    "    'Random Forest': RandomForestClassifier(n_estimators=100, random_state=42),\n",
    "    'Decision Tree': DecisionTreeClassifier(random_state=42)\n",
    "}\n",
    "\n",
    "encodings = {\n",
    "    'One-Hot': create_onehot_pipeline(),\n",
    "    'Label': create_label_pipeline()\n",
    "}\n",
    "\n",
    "results = []\n",
    "\n",
    "for encoding_name, preprocessor in encodings.items():\n",
    "    # Transform data\n",
    "    X_train_encoded = preprocessor.fit_transform(X_train)\n",
    "    X_test_encoded = preprocessor.transform(X_test)\n",
    "    \n",
    "    for model_name, model in models.items():\n",
    "        # Train and evaluate\n",
    "        model.fit(X_train_encoded, y_train)\n",
    "        score = model.score(X_test_encoded, y_test)\n",
    "        \n",
    "        results.append({\n",
    "            'Encoding': encoding_name,\n",
    "            'Model': model_name,\n",
    "            'Accuracy': score,\n",
    "            'Features': X_train_encoded.shape[1]\n",
    "        })\n",
    "\n",
    "results_df = pd.DataFrame(results)\n",
    "pivot_results = results_df.pivot(index='Model', columns='Encoding', values='Accuracy')\n",
    "\n",
    "print(\"Performance Comparison:\")\n",
    "print(pivot_results.round(3))\n",
    "print(\"\\n📊 Feature counts:\")\n",
    "print(results_df.drop_duplicates('Encoding')[['Encoding', 'Features']])\n",
    "print(\"\\n📝 Key insights:\")\n",
    "print(\"- Tree-based models work well with label encoding\")\n",
    "print(\"- Linear models prefer one-hot encoding\")\n",
    "print(\"- One-hot creates many more features\")"
   ]
  },
  {
   "cell_type": "markdown",
   "metadata": {},
   "source": [
    "## 6. Production Considerations\n",
    "\n",
    "### Handling Unknown Categories\n",
    "\n",
    "In production, you'll encounter categories that weren't in your training data. Here's how to handle them:"
   ]
  },
  {
   "cell_type": "code",
   "execution_count": 19,
   "metadata": {},
   "outputs": [
    {
     "name": "stdout",
     "output_type": "stream",
     "text": [
      "Training categories:\n",
      "Colors: ['red' 'blue' 'green']\n",
      "Sizes: ['S' 'M' 'L']\n",
      "\n",
      "Production data with NEW categories:\n",
      "    color size\n",
      "0     red    S\n",
      "1  yellow   XL\n",
      "2    blue    M\n",
      "3  purple  XXL\n",
      "\n",
      "✅ Strategy 1 - Ignore unknown (all zeros):\n",
      "   color_blue  color_green  color_red  size_L  size_M  size_S\n",
      "0         0.0          0.0        1.0     0.0     0.0     1.0\n",
      "1         0.0          0.0        0.0     0.0     0.0     0.0\n",
      "2         1.0          0.0        0.0     0.0     1.0     0.0\n",
      "3         0.0          0.0        0.0     0.0     0.0     0.0\n",
      "Unknown categories → all zeros\n",
      "\n",
      "✅ Strategy 2 - Encode unknown as -1:\n",
      "   color_encoded  size_encoded\n",
      "0            2.0           2.0\n",
      "1           -1.0          -1.0\n",
      "2            0.0           1.0\n",
      "3           -1.0          -1.0\n",
      "Unknown categories → -1\n"
     ]
    }
   ],
   "source": [
    "# Training data with known categories\n",
    "train_data = pd.DataFrame({\n",
    "    'color': ['red', 'blue', 'green'] * 30,\n",
    "    'size': ['S', 'M', 'L'] * 30\n",
    "})\n",
    "\n",
    "# Production data with unknown categories\n",
    "prod_data = pd.DataFrame({\n",
    "    'color': ['red', 'yellow', 'blue', 'purple'],  # yellow and purple are new!\n",
    "    'size': ['S', 'XL', 'M', 'XXL']  # XL and XXL are new!\n",
    "})\n",
    "\n",
    "print(\"Training categories:\")\n",
    "print(f\"Colors: {train_data['color'].unique()}\")\n",
    "print(f\"Sizes: {train_data['size'].unique()}\")\n",
    "\n",
    "print(\"\\nProduction data with NEW categories:\")\n",
    "print(prod_data)\n",
    "\n",
    "# Strategy 1: OneHotEncoder with handle_unknown='ignore'\n",
    "ohe_safe = OneHotEncoder(handle_unknown='ignore', sparse_output=False)\n",
    "ohe_safe.fit(train_data)\n",
    "prod_encoded_safe = ohe_safe.transform(prod_data)\n",
    "\n",
    "print(\"\\n✅ Strategy 1 - Ignore unknown (all zeros):\")\n",
    "print(pd.DataFrame(prod_encoded_safe, columns=ohe_safe.get_feature_names_out()))\n",
    "print(\"Unknown categories → all zeros\")\n",
    "\n",
    "# Strategy 2: OrdinalEncoder with unknown_value\n",
    "oe_safe = OrdinalEncoder(\n",
    "    handle_unknown='use_encoded_value',\n",
    "    unknown_value=-1\n",
    ")\n",
    "oe_safe.fit(train_data)\n",
    "prod_encoded_ordinal = oe_safe.transform(prod_data)\n",
    "\n",
    "print(\"\\n✅ Strategy 2 - Encode unknown as -1:\")\n",
    "print(pd.DataFrame(prod_encoded_ordinal, columns=['color_encoded', 'size_encoded']))\n",
    "print(\"Unknown categories → -1\")"
   ]
  },
  {
   "cell_type": "markdown",
   "metadata": {},
   "source": [
    "### Creating a Robust Encoding Pipeline"
   ]
  },
  {
   "cell_type": "code",
   "execution_count": 20,
   "metadata": {},
   "outputs": [
    {
     "name": "stdout",
     "output_type": "stream",
     "text": [
      "Robust encoding results:\n",
      "Original shape: (800, 3)\n",
      "Encoded shape: (800, 7)\n",
      "\n",
      "Encoding types chosen:\n",
      "  nominal: onehot\n",
      "  ordinal: onehot\n",
      "  high_card: target\n",
      "\n",
      "First few rows of encoded data:\n",
      "     nominal_A  nominal_B  nominal_C  ordinal_high  ordinal_low  \\\n",
      "29         0.0        0.0        1.0           0.0          1.0   \n",
      "535        0.0        1.0        0.0           0.0          0.0   \n",
      "695        0.0        1.0        0.0           0.0          1.0   \n",
      "557        1.0        0.0        0.0           0.0          1.0   \n",
      "836        0.0        0.0        1.0           1.0          0.0   \n",
      "\n",
      "     ordinal_medium  high_card_target  \n",
      "29              0.0          0.517067  \n",
      "535             1.0          0.469821  \n",
      "695             0.0          0.469821  \n",
      "557             0.0          0.395994  \n",
      "836             0.0          0.469821  \n"
     ]
    }
   ],
   "source": [
    "class RobustCategoricalEncoder:\n",
    "    \"\"\"Production-ready categorical encoder with multiple strategies\"\"\"\n",
    "    \n",
    "    def __init__(self, strategy='auto', max_cardinality=10):\n",
    "        self.strategy = strategy\n",
    "        self.max_cardinality = max_cardinality\n",
    "        self.encoders = {}\n",
    "        self.encoding_type = {}\n",
    "        \n",
    "    def fit(self, X, y=None):\n",
    "        \"\"\"Fit appropriate encoder for each column\"\"\"\n",
    "        \n",
    "        for col in X.columns:\n",
    "            n_unique = X[col].nunique()\n",
    "            \n",
    "            if n_unique == 2:\n",
    "                # Binary encoding\n",
    "                self.encoding_type[col] = 'binary'\n",
    "                self.encoders[col] = LabelEncoder()\n",
    "                self.encoders[col].fit(X[col])\n",
    "                \n",
    "            elif n_unique <= self.max_cardinality:\n",
    "                # One-hot encoding for low cardinality\n",
    "                self.encoding_type[col] = 'onehot'\n",
    "                self.encoders[col] = OneHotEncoder(\n",
    "                    handle_unknown='ignore',\n",
    "                    sparse_output=False\n",
    "                )\n",
    "                self.encoders[col].fit(X[[col]])\n",
    "                \n",
    "            else:\n",
    "                # Target encoding for high cardinality\n",
    "                self.encoding_type[col] = 'target'\n",
    "                if y is not None:\n",
    "                    self.encoders[col] = TargetEncoder(smoothing=5.0)\n",
    "                    self.encoders[col].fit(X[col], y)\n",
    "                else:\n",
    "                    # Fall back to label encoding if no target\n",
    "                    self.encoding_type[col] = 'label'\n",
    "                    self.encoders[col] = OrdinalEncoder(\n",
    "                        handle_unknown='use_encoded_value',\n",
    "                        unknown_value=-1\n",
    "                    )\n",
    "                    self.encoders[col].fit(X[[col]])\n",
    "                    \n",
    "        return self\n",
    "    \n",
    "    def transform(self, X):\n",
    "        \"\"\"Transform using appropriate encoder for each column\"\"\"\n",
    "        \n",
    "        X_encoded = pd.DataFrame(index=X.index)\n",
    "        \n",
    "        for col in X.columns:\n",
    "            if col not in self.encoders:\n",
    "                # Skip unknown columns\n",
    "                continue\n",
    "                \n",
    "            if self.encoding_type[col] == 'binary':\n",
    "                # Binary encoding\n",
    "                X_encoded[f'{col}_encoded'] = self.encoders[col].transform(X[col])\n",
    "                \n",
    "            elif self.encoding_type[col] == 'onehot':\n",
    "                # One-hot encoding\n",
    "                encoded = self.encoders[col].transform(X[[col]])\n",
    "                feature_names = self.encoders[col].get_feature_names_out([col])\n",
    "                for i, name in enumerate(feature_names):\n",
    "                    X_encoded[name] = encoded[:, i]\n",
    "                    \n",
    "            elif self.encoding_type[col] == 'target':\n",
    "                # Target encoding\n",
    "                X_encoded[f'{col}_target'] = self.encoders[col].transform(X[col])\n",
    "                \n",
    "            else:\n",
    "                # Label encoding\n",
    "                X_encoded[f'{col}_label'] = self.encoders[col].transform(X[[col]])\n",
    "                \n",
    "        return X_encoded\n",
    "\n",
    "# Test the robust encoder\n",
    "X_train_cat = X_train[['nominal', 'ordinal', 'high_card']]\n",
    "X_test_cat = X_test[['nominal', 'ordinal', 'high_card']]\n",
    "\n",
    "robust_encoder = RobustCategoricalEncoder(max_cardinality=5)\n",
    "robust_encoder.fit(X_train_cat, y_train)\n",
    "\n",
    "X_train_robust = robust_encoder.transform(X_train_cat)\n",
    "X_test_robust = robust_encoder.transform(X_test_cat)\n",
    "\n",
    "print(\"Robust encoding results:\")\n",
    "print(f\"Original shape: {X_train_cat.shape}\")\n",
    "print(f\"Encoded shape: {X_train_robust.shape}\")\n",
    "print(\"\\nEncoding types chosen:\")\n",
    "for col, enc_type in robust_encoder.encoding_type.items():\n",
    "    print(f\"  {col}: {enc_type}\")\n",
    "print(\"\\nFirst few rows of encoded data:\")\n",
    "print(X_train_robust.head())"
   ]
  },
  {
   "cell_type": "markdown",
   "metadata": {},
   "source": [
    "## 7. Best Practices Summary\n",
    "\n",
    "### Quick Reference Guide"
   ]
  },
  {
   "cell_type": "code",
   "execution_count": 21,
   "metadata": {},
   "outputs": [
    {
     "name": "stdout",
     "output_type": "stream",
     "text": [
      "CATEGORICAL ENCODING QUICK REFERENCE GUIDE\n",
      "================================================================================\n",
      "\n",
      "Binary (2 categories):\n",
      "  → Use: Binary (0/1)\n",
      "  → Note: Simple and efficient\n",
      "\n",
      "Nominal (no order, low cardinality):\n",
      "  → Use: One-Hot\n",
      "  → Note: No false ordering\n",
      "\n",
      "Nominal (no order, high cardinality):\n",
      "  → Use: Target Encoding\n",
      "  → Note: Avoid dimension explosion\n",
      "\n",
      "Ordinal (has order):\n",
      "  → Use: Ordinal/Label\n",
      "  → Note: Preserve order\n",
      "\n",
      "Mixed types:\n",
      "  → Use: Column-specific\n",
      "  → Note: Use ColumnTransformer\n",
      "\n",
      "Tree-based models:\n",
      "  → Use: Label/Ordinal OK\n",
      "  → Note: Can handle any encoding\n",
      "\n",
      "Linear models:\n",
      "  → Use: One-Hot preferred\n",
      "  → Note: Need numeric relationships\n",
      "\n",
      "Neural networks:\n",
      "  → Use: One-Hot or Embeddings\n",
      "  → Note: Often use embeddings for text\n"
     ]
    }
   ],
   "source": [
    "# Create encoding strategy guide\n",
    "guide = pd.DataFrame({\n",
    "    'Scenario': [\n",
    "        'Binary (2 categories)',\n",
    "        'Nominal (no order, low cardinality)',\n",
    "        'Nominal (no order, high cardinality)',\n",
    "        'Ordinal (has order)',\n",
    "        'Mixed types',\n",
    "        'Tree-based models',\n",
    "        'Linear models',\n",
    "        'Neural networks'\n",
    "    ],\n",
    "    'Recommended Encoding': [\n",
    "        'Binary (0/1)',\n",
    "        'One-Hot',\n",
    "        'Target Encoding',\n",
    "        'Ordinal/Label',\n",
    "        'Column-specific',\n",
    "        'Label/Ordinal OK',\n",
    "        'One-Hot preferred',\n",
    "        'One-Hot or Embeddings'\n",
    "    ],\n",
    "    'Key Consideration': [\n",
    "        'Simple and efficient',\n",
    "        'No false ordering',\n",
    "        'Avoid dimension explosion',\n",
    "        'Preserve order',\n",
    "        'Use ColumnTransformer',\n",
    "        'Can handle any encoding',\n",
    "        'Need numeric relationships',\n",
    "        'Often use embeddings for text'\n",
    "    ]\n",
    "})\n",
    "\n",
    "print(\"CATEGORICAL ENCODING QUICK REFERENCE GUIDE\")\n",
    "print(\"=\" * 80)\n",
    "for _, row in guide.iterrows():\n",
    "    print(f\"\\n{row['Scenario']}:\")\n",
    "    print(f\"  → Use: {row['Recommended Encoding']}\")\n",
    "    print(f\"  → Note: {row['Key Consideration']}\")"
   ]
  },
  {
   "cell_type": "markdown",
   "metadata": {},
   "source": [
    "## Practice Exercises\n",
    "\n",
    "### Exercise 1: Choose the Right Encoding\n",
    "\n",
    "Given this dataset, choose and implement appropriate encoding for each column:"
   ]
  },
  {
   "cell_type": "code",
   "execution_count": 22,
   "metadata": {},
   "outputs": [
    {
     "name": "stdout",
     "output_type": "stream",
     "text": [
      "Exercise: Encode each categorical column appropriately\n",
      "     education department performance  country has_certification employee_id  \\\n",
      "0  High School      Sales        Poor      USA               Yes        E001   \n",
      "1     Bachelor         IT        Good       UK                No        E002   \n",
      "2       Master         HR   Excellent   Canada               Yes        E003   \n",
      "3          PhD      Sales        Good      USA               Yes        E004   \n",
      "4     Bachelor         IT   Excellent  Germany                No        E005   \n",
      "\n",
      "   salary  \n",
      "0   50000  \n",
      "1   75000  \n",
      "2   90000  \n",
      "3   65000  \n",
      "4   80000  \n",
      "\n",
      "Your task:\n",
      "1. Identify the type of each categorical variable\n",
      "2. Choose appropriate encoding\n",
      "3. Implement the encoding\n",
      "4. Explain your choices\n"
     ]
    }
   ],
   "source": [
    "# Exercise dataset\n",
    "exercise_data = pd.DataFrame({\n",
    "    'education': ['High School', 'Bachelor', 'Master', 'PhD', 'Bachelor'],\n",
    "    'department': ['Sales', 'IT', 'HR', 'Sales', 'IT'],\n",
    "    'performance': ['Poor', 'Good', 'Excellent', 'Good', 'Excellent'],\n",
    "    'country': ['USA', 'UK', 'Canada', 'USA', 'Germany'],\n",
    "    'has_certification': ['Yes', 'No', 'Yes', 'Yes', 'No'],\n",
    "    'employee_id': ['E001', 'E002', 'E003', 'E004', 'E005'],\n",
    "    'salary': [50000, 75000, 90000, 65000, 80000]\n",
    "})\n",
    "\n",
    "print(\"Exercise: Encode each categorical column appropriately\")\n",
    "print(exercise_data)\n",
    "print(\"\\nYour task:\")\n",
    "print(\"1. Identify the type of each categorical variable\")\n",
    "print(\"2. Choose appropriate encoding\")\n",
    "print(\"3. Implement the encoding\")\n",
    "print(\"4. Explain your choices\")\n",
    "\n",
    "# Your code here:\n"
   ]
  },
  {
   "cell_type": "markdown",
   "metadata": {},
   "source": [
    "### Exercise 2: Handle Production Scenarios\n",
    "\n",
    "Create a robust encoding pipeline that can handle new categories in production:"
   ]
  },
  {
   "cell_type": "code",
   "execution_count": 23,
   "metadata": {},
   "outputs": [],
   "source": [
    "def create_production_encoder(X_train, y_train=None):\n",
    "    \"\"\"\n",
    "    Create a production-ready encoder that:\n",
    "    1. Chooses appropriate encoding for each column\n",
    "    2. Handles unknown categories gracefully\n",
    "    3. Can be saved and loaded\n",
    "    \n",
    "    Parameters:\n",
    "    X_train: Training data\n",
    "    y_train: Target variable (optional, for target encoding)\n",
    "    \n",
    "    Returns:\n",
    "    Fitted encoder pipeline\n",
    "    \"\"\"\n",
    "    # Your implementation here:\n",
    "    pass\n"
   ]
  },
  {
   "cell_type": "markdown",
   "metadata": {},
   "source": [
    "## Key Takeaways\n",
    "\n",
    "### Critical Points to Remember:\n",
    "\n",
    "1. **Understand your categorical type**\n",
    "   - Nominal → One-hot (no order)\n",
    "   - Ordinal → Label/Ordinal (has order)\n",
    "   - Binary → Simple 0/1\n",
    "   - High cardinality → Target encoding\n",
    "\n",
    "2. **Consider your algorithm**\n",
    "   - Tree-based → Can handle label encoding\n",
    "   - Linear models → Prefer one-hot\n",
    "   - Neural networks → One-hot or embeddings\n",
    "\n",
    "3. **Watch for pitfalls**\n",
    "   - Don't create false orderings\n",
    "   - Avoid dimension explosion\n",
    "   - Prevent target leakage\n",
    "   - Handle unknown categories\n",
    "\n",
    "4. **Production considerations**\n",
    "   - Always use `handle_unknown` parameter\n",
    "   - Save encoders with models\n",
    "   - Monitor for new categories\n",
    "   - Consider memory constraints\n",
    "\n",
    "5. **Target encoding tips**\n",
    "   - Always use smoothing\n",
    "   - Apply cross-validation\n",
    "   - Never fit on test data\n",
    "   - Monitor for overfitting\n",
    "\n",
    "### Quick Implementation Guide:\n",
    "\n",
    "```python\n",
    "# Standard workflow\n",
    "from sklearn.preprocessing import OneHotEncoder, OrdinalEncoder\n",
    "from sklearn.compose import ColumnTransformer\n",
    "\n",
    "# Identify column types\n",
    "nominal_cols = ['color', 'brand']\n",
    "ordinal_cols = ['size', 'quality']\n",
    "binary_cols = ['has_warranty']\n",
    "\n",
    "# Create preprocessor\n",
    "preprocessor = ColumnTransformer(\n",
    "    transformers=[\n",
    "        ('nominal', OneHotEncoder(handle_unknown='ignore'), nominal_cols),\n",
    "        ('ordinal', OrdinalEncoder(handle_unknown='use_encoded_value', \n",
    "                                  unknown_value=-1), ordinal_cols),\n",
    "        ('binary', OrdinalEncoder(), binary_cols)\n",
    "    ])\n",
    "\n",
    "# Fit and transform\n",
    "X_encoded = preprocessor.fit_transform(X_train)\n",
    "```\n",
    "\n",
    "### Next Steps:\n",
    "- Practice with real datasets\n",
    "- Experiment with different encodings\n",
    "- Measure impact on model performance\n",
    "- Build reusable encoding pipelines\n",
    "\n",
    "Remember: The right encoding can significantly improve your model's performance!"
   ]
  }
 ],
 "metadata": {
  "kernelspec": {
   "display_name": "Python (venv)",
   "language": "python",
   "name": "venv"
  },
  "language_info": {
   "codemirror_mode": {
    "name": "ipython",
    "version": 3
   },
   "file_extension": ".py",
   "mimetype": "text/x-python",
   "name": "python",
   "nbconvert_exporter": "python",
   "pygments_lexer": "ipython3",
   "version": "3.12.7"
  }
 },
 "nbformat": 4,
 "nbformat_minor": 4
}
