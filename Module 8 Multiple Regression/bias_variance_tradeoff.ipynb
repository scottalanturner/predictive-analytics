{
  "cells": [
    {
      "cell_type": "markdown",
      "metadata": {},
      "source": [
        "# Model Selection Strategy & Bias-Variance Trade-off\n",
        "\n",
        "**Business Question**: How do we choose the right model complexity for penguin body mass prediction?\n",
        "\n",
        "This notebook demonstrates the classic bias-variance trade-off by building models of increasing complexity and showing how test error first decreases then increases due to overfitting.\n"
      ]
    }
  ],
  "metadata": {
    "language_info": {
      "name": "python"
    }
  },
  "nbformat": 4,
  "nbformat_minor": 2
}
