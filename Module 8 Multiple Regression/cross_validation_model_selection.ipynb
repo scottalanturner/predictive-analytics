{
  "cells": [
    {
      "cell_type": "markdown",
      "metadata": {},
      "source": [
        "# Cross-Validation & Model Selection\n",
        "\n",
        "**Business Question**: How do we reliably estimate model performance for restaurant tip prediction?\n",
        "\n",
        "This notebook demonstrates k-fold cross-validation as a robust method for model selection, showing why it's better than single train-test splits and how to use it for choosing optimal model complexity.\n"
      ]
    },
    {
      "cell_type": "markdown",
      "metadata": {},
      "source": [
        "## Learning Objectives\n",
        "\n",
        "By the end of this notebook, you will be able to:\n",
        "- Understand why single train-test splits are unreliable\n",
        "- Implement k-fold cross-validation for robust model evaluation\n",
        "- Compare different models using cross-validation\n",
        "- Apply the one standard error rule for model selection\n",
        "- Choose optimal model complexity using CV\n"
      ]
    },
    {
      "cell_type": "code",
      "execution_count": 11,
      "metadata": {},
      "outputs": [],
      "source": [
        "# Import packages\n",
        "import pandas as pd\n",
        "import numpy as np\n",
        "import seaborn as sns\n",
        "import matplotlib.pyplot as plt\n",
        "from sklearn.linear_model import LinearRegression\n",
        "from sklearn.preprocessing import PolynomialFeatures\n",
        "from sklearn.model_selection import train_test_split, cross_val_score, KFold\n",
        "from sklearn.metrics import mean_squared_error\n",
        "from statsmodels.formula.api import ols\n",
        "import warnings\n",
        "warnings.filterwarnings('ignore')\n",
        "\n",
        "# Set style for better plots\n",
        "plt.style.use('default')\n",
        "sns.set_palette(\"husl\")\n"
      ]
    },
    {
      "cell_type": "code",
      "execution_count": 12,
      "metadata": {},
      "outputs": [
        {
          "name": "stdout",
          "output_type": "stream",
          "text": [
            "Dataset shape: (244, 7)\n",
            "\n",
            "First 5 rows:\n",
            "   total_bill   tip     sex smoker  day    time  size\n",
            "0       16.99  1.01  Female     No  Sun  Dinner     2\n",
            "1       10.34  1.66    Male     No  Sun  Dinner     3\n",
            "2       21.01  3.50    Male     No  Sun  Dinner     3\n",
            "3       23.68  3.31    Male     No  Sun  Dinner     2\n",
            "4       24.59  3.61  Female     No  Sun  Dinner     4\n",
            "\n",
            "Features: ['total_bill', 'size', 'sex_Female', 'smoker_No', 'day_Fri', 'day_Sat', 'day_Sun', 'time_Dinner']\n",
            "Target: tip\n",
            "Number of features: 8\n"
          ]
        }
      ],
      "source": [
        "# Load tips dataset\n",
        "tips = sns.load_dataset('tips')\n",
        "\n",
        "print(\"Dataset shape:\", tips.shape)\n",
        "print(\"\\nFirst 5 rows:\")\n",
        "print(tips.head())\n",
        "\n",
        "# Create dummy variables for categorical features\n",
        "tips_encoded = pd.get_dummies(tips, columns=['sex', 'smoker', 'day', 'time'], drop_first=True)\n",
        "\n",
        "# Prepare features and target\n",
        "X = tips_encoded.drop('tip', axis=1)\n",
        "y = tips_encoded['tip']\n",
        "\n",
        "print(f\"\\nFeatures: {X.columns.tolist()}\")\n",
        "print(f\"Target: {y.name}\")\n",
        "print(f\"Number of features: {X.shape[1]}\")\n"
      ]
    },
    {
      "cell_type": "markdown",
      "metadata": {},
      "source": [
        "## Problem with Single Train-Test Split\n"
      ]
    },
    {
      "cell_type": "code",
      "execution_count": 13,
      "metadata": {},
      "outputs": [
        {
          "name": "stdout",
          "output_type": "stream",
          "text": [
            "Single Split Results (10 different random seeds):\n",
            "==================================================\n",
            "Split 1: R² = 0.5545\n",
            "Split 2: R² = 0.4876\n",
            "Split 3: R² = 0.5621\n",
            "Split 4: R² = 0.5246\n",
            "Split 5: R² = 0.3338\n",
            "Split 6: R² = -0.0342\n",
            "Split 7: R² = 0.5027\n",
            "Split 8: R² = 0.4770\n",
            "Split 9: R² = 0.3558\n",
            "Split 10: R² = 0.5089\n",
            "\n",
            "Mean R²: 0.4273\n",
            "Std R²: 0.1700\n",
            "Range: 0.5963\n",
            "\n",
            "Problem: High variability in single splits!\n",
            "Solution: Use cross-validation for more robust estimates.\n"
          ]
        }
      ],
      "source": [
        "# Demonstrate the problem with single splits\n",
        "np.random.seed(42)\n",
        "single_split_scores = []\n",
        "\n",
        "# Try multiple random splits\n",
        "for i in range(10):\n",
        "    X_train, X_test, y_train, y_test = train_test_split(X, y, test_size=0.2, random_state=i)\n",
        "    \n",
        "    # Simple model\n",
        "    model = LinearRegression()\n",
        "    model.fit(X_train, y_train)\n",
        "    score = model.score(X_test, y_test)\n",
        "    single_split_scores.append(score)\n",
        "\n",
        "print(\"Single Split Results (10 different random seeds):\")\n",
        "print(\"=\"*50)\n",
        "for i, score in enumerate(single_split_scores):\n",
        "    print(f\"Split {i+1}: R² = {score:.4f}\")\n",
        "\n",
        "print(f\"\\nMean R²: {np.mean(single_split_scores):.4f}\")\n",
        "print(f\"Std R²: {np.std(single_split_scores):.4f}\")\n",
        "print(f\"Range: {np.max(single_split_scores) - np.min(single_split_scores):.4f}\")\n",
        "\n",
        "print(\"\\nProblem: High variability in single splits!\")\n",
        "print(\"Solution: Use cross-validation for more robust estimates.\")\n"
      ]
    },
    {
      "cell_type": "markdown",
      "metadata": {},
      "source": [
        "## K-Fold Cross-Validation Solution\n"
      ]
    },
    {
      "cell_type": "code",
      "execution_count": 14,
      "metadata": {},
      "outputs": [
        {
          "name": "stdout",
          "output_type": "stream",
          "text": [
            "Cross-Validation Results (5-fold):\n",
            "==================================================\n",
            "Simple         : R² = 0.4214 ± 0.1353\n",
            "Polynomial_2   : R² = 0.3091 ± 0.2024\n",
            "Polynomial_3   : R² = -4.7805 ± 4.7536\n",
            "Polynomial_4   : R² = -2522.6310 ± 3375.4717\n"
          ]
        },
        {
          "data": {
            "image/png": "[encoded data removed]",
            "text/plain": [
              "<Figure size 1200x600 with 1 Axes>"
            ]
          },
          "metadata": {},
          "output_type": "display_data"
        },
        {
          "name": "stdout",
          "output_type": "stream",
          "text": [
            "\n",
            "Best model: Simple\n",
            "Best CV R²: 0.4214\n"
          ]
        }
      ],
      "source": [
        "# Build models of increasing complexity\n",
        "models = {\n",
        "    'Simple': LinearRegression(),\n",
        "    'Polynomial_2': LinearRegression(),\n",
        "    'Polynomial_3': LinearRegression(),\n",
        "    'Polynomial_4': LinearRegression()\n",
        "}\n",
        "\n",
        "# Create polynomial features\n",
        "poly2 = PolynomialFeatures(degree=2, include_bias=False)\n",
        "poly3 = PolynomialFeatures(degree=3, include_bias=False)\n",
        "poly4 = PolynomialFeatures(degree=4, include_bias=False)\n",
        "\n",
        "X_poly2 = poly2.fit_transform(X)\n",
        "X_poly3 = poly3.fit_transform(X)\n",
        "X_poly4 = poly4.fit_transform(X)\n",
        "\n",
        "# Prepare data for each model\n",
        "model_data = {\n",
        "    'Simple': X,\n",
        "    'Polynomial_2': X_poly2,\n",
        "    'Polynomial_3': X_poly3,\n",
        "    'Polynomial_4': X_poly4\n",
        "}\n",
        "\n",
        "# Perform 5-fold cross-validation\n",
        "cv_scores = {}\n",
        "cv_std = {}\n",
        "\n",
        "for name, model in models.items():\n",
        "    X_data = model_data[name]\n",
        "    scores = cross_val_score(model, X_data, y, cv=5, scoring='r2')\n",
        "    cv_scores[name] = scores.mean()\n",
        "    cv_std[name] = scores.std()\n",
        "\n",
        "# Display results\n",
        "print(\"Cross-Validation Results (5-fold):\")\n",
        "print(\"=\"*50)\n",
        "for name in models.keys():\n",
        "    print(f\"{name:<15}: R² = {cv_scores[name]:.4f} ± {cv_std[name]:.4f}\")\n",
        "\n",
        "# Visualize results\n",
        "plt.figure(figsize=(12, 6))\n",
        "model_names = list(cv_scores.keys())\n",
        "means = list(cv_scores.values())\n",
        "stds = list(cv_std.values())\n",
        "\n",
        "plt.errorbar(range(len(model_names)), means, yerr=stds, \n",
        "             marker='o', capsize=5, capthick=2, linewidth=2)\n",
        "plt.xticks(range(len(model_names)), model_names)\n",
        "plt.ylabel('Cross-Validation R²')\n",
        "plt.title('Model Comparison with Cross-Validation')\n",
        "plt.grid(True, alpha=0.3)\n",
        "plt.show()\n",
        "\n",
        "print(f\"\\nBest model: {max(cv_scores, key=cv_scores.get)}\")\n",
        "print(f\"Best CV R²: {max(cv_scores.values()):.4f}\")\n"
      ]
    },
    {
      "cell_type": "markdown",
      "metadata": {},
      "source": [
        "## One Standard Error Rule\n"
      ]
    },
    {
      "cell_type": "code",
      "execution_count": 15,
      "metadata": {},
      "outputs": [
        {
          "name": "stdout",
          "output_type": "stream",
          "text": [
            "One Standard Error Rule:\n",
            "========================================\n",
            "Best model score: 0.4214\n",
            "Best model std: 0.1353\n",
            "One SE threshold: 0.2861\n",
            "\n",
            "Models within one standard error:\n",
            "----------------------------------------\n",
            "Simple         : R² = 0.4214 ± 0.1353 ✓\n",
            "Polynomial_2   : R² = 0.3091 ± 0.2024 ✓\n",
            "Polynomial_3   : R² = -4.7805 ± 4.7536 ✗\n",
            "Polynomial_4   : R² = -2522.6310 ± 3375.4717 ✗\n",
            "\n",
            "Recommended model: Simple\n",
            "Reason: Simplest model within one standard error of best model\n",
            "This prevents overfitting to the CV procedure itself.\n"
          ]
        }
      ],
      "source": [
        "# Apply one standard error rule\n",
        "best_score = max(cv_scores.values())\n",
        "best_std = cv_std[max(cv_scores, key=cv_scores.get)]\n",
        "one_se_threshold = best_score - best_std\n",
        "\n",
        "print(\"One Standard Error Rule:\")\n",
        "print(\"=\"*40)\n",
        "print(f\"Best model score: {best_score:.4f}\")\n",
        "print(f\"Best model std: {best_std:.4f}\")\n",
        "print(f\"One SE threshold: {one_se_threshold:.4f}\")\n",
        "\n",
        "print(\"\\nModels within one standard error:\")\n",
        "print(\"-\" * 40)\n",
        "for name, score in cv_scores.items():\n",
        "    if score >= one_se_threshold:\n",
        "        print(f\"{name:<15}: R² = {score:.4f} ± {cv_std[name]:.4f} ✓\")\n",
        "    else:\n",
        "        print(f\"{name:<15}: R² = {score:.4f} ± {cv_std[name]:.4f} ✗\")\n",
        "\n",
        "# Find simplest model within one SE\n",
        "valid_models = {name: score for name, score in cv_scores.items() if score >= one_se_threshold}\n",
        "\n",
        "# Define model complexity order (simplest to most complex)\n",
        "complexity_order = ['Simple', 'Polynomial_2', 'Polynomial_3', 'Polynomial_4']\n",
        "valid_models_ordered = {name: score for name, score in valid_models.items() if name in complexity_order}\n",
        "\n",
        "# Find the simplest valid model\n",
        "simplest_model = None\n",
        "for model_name in complexity_order:\n",
        "    if model_name in valid_models_ordered:\n",
        "        simplest_model = model_name\n",
        "        break\n",
        "\n",
        "print(f\"\\nRecommended model: {simplest_model}\")\n",
        "print(\"Reason: Simplest model within one standard error of best model\")\n",
        "print(\"This prevents overfitting to the CV procedure itself.\")\n"
      ]
    },
    {
      "cell_type": "markdown",
      "metadata": {},
      "source": [
        "## Key Takeaways\n",
        "\n",
        "### **Cross-Validation Benefits:**\n",
        "\n",
        "1. **Robust Estimates**: More reliable than single train-test splits\n",
        "2. **Model Comparison**: Fair comparison of different models\n",
        "3. **Overfitting Detection**: Identifies when models are too complex\n",
        "4. **One SE Rule**: Prevents overfitting to CV procedure\n",
        "\n",
        "### **When to Use Cross-Validation:**\n",
        "\n",
        "- **Model selection** and comparison\n",
        "- **Parameter tuning** and optimization\n",
        "- **Feature selection** decisions\n",
        "- **Any time** you need reliable performance estimates\n",
        "\n",
        "### **Best Practices:**\n",
        "\n",
        "- **Use k=5 or k=10** for most applications\n",
        "- **Apply one standard error rule** for model selection\n",
        "- **Always use CV** instead of single splits for model evaluation\n"
      ]
    }
  ],
  "metadata": {
    "kernelspec": {
      "display_name": "Python (venv)",
      "language": "python",
      "name": "venv"
    },
    "language_info": {
      "codemirror_mode": {
        "name": "ipython",
        "version": 3
      },
      "file_extension": ".py",
      "mimetype": "text/x-python",
      "name": "python",
      "nbconvert_exporter": "python",
      "pygments_lexer": "ipython3",
      "version": "3.12.7"
    }
  },
  "nbformat": 4,
  "nbformat_minor": 2
}
