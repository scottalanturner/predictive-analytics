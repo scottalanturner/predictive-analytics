{
 "cells": [
  {
   "cell_type": "markdown",
   "metadata": {},
   "source": [
    "# Module 2, Lesson 2: SQL Fundamentals and Data Extraction"
   ]
  },
  {
   "cell_type": "markdown",
   "metadata": {},
   "source": [
    "## Setup"
   ]
  },
  {
   "cell_type": "code",
   "execution_count": null,
   "metadata": {},
   "outputs": [],
   "source": [
    "import pandas as pd\n",
    "import numpy as np\n",
    "import sqlite3\n",
    "from datetime import datetime, timedelta\n",
    "\n",
    "# Display settings for better output\n",
    "pd.set_option('display.max_columns', None)\n",
    "pd.set_option('display.width', None)\n",
    "pd.set_option('display.max_colwidth', 50)\n",
    "\n",
    "print(\"Libraries loaded successfully!\")"
   ]
  },
  {
   "cell_type": "markdown",
   "metadata": {},
   "source": [
    "---\n",
    "\n",
    "## Part 1: Creating Sample Database\n",
    "**Setting Up Our SQL Environment**"
   ]
  },
  {
   "cell_type": "markdown",
   "metadata": {},
   "source": [
    "### Creating Tables for Our Examples\n",
    "We'll create a small retail database with customers, products, and orders. This simulates a real business database you might encounter."
   ]
  },
  {
   "cell_type": "code",
   "execution_count": null,
   "metadata": {},
   "outputs": [],
   "source": [
    "# Create an in-memory SQLite database\n",
    "conn = sqlite3.connect(':memory:')\n",
    "cursor = conn.cursor()\n",
    "\n",
    "# Create customers table\n",
    "cursor.execute('''\n",
    "CREATE TABLE customers (\n",
    "    customer_id INTEGER PRIMARY KEY,\n",
    "    name TEXT NOT NULL,\n",
    "    email TEXT,\n",
    "    city TEXT,\n",
    "    state TEXT,\n",
    "    join_date DATE\n",
    ")\n",
    "''')\n",
    "\n",
    "# Create products table\n",
    "cursor.execute('''\n",
    "CREATE TABLE products (\n",
    "    product_id INTEGER PRIMARY KEY,\n",
    "    product_name TEXT NOT NULL,\n",
    "    category TEXT,\n",
    "    price DECIMAL(10,2)\n",
    ")\n",
    "''')\n",
    "\n",
    "# Create orders table\n",
    "cursor.execute('''\n",
    "CREATE TABLE orders (\n",
    "    order_id INTEGER PRIMARY KEY,\n",
    "    customer_id INTEGER,\n",
    "    product_id INTEGER,\n",
    "    quantity INTEGER,\n",
    "    order_date DATE,\n",
    "    FOREIGN KEY (customer_id) REFERENCES customers(customer_id),\n",
    "    FOREIGN KEY (product_id) REFERENCES products(product_id)\n",
    ")\n",
    "''')\n",
    "\n",
    "print(\"Database tables created successfully!\")"
   ]
  },
  {
   "cell_type": "markdown",
   "metadata": {},
   "source": [
    "### Populating Tables with Sample Data\n",
    "Adding realistic data that we'll query throughout the lesson. This represents typical business data you'd analyze."
   ]
  },
  {
   "cell_type": "code",
   "execution_count": null,
   "metadata": {},
   "outputs": [],
   "source": [
    "# Insert customers\n",
    "customers_data = [\n",
    "    (1, 'Alice Johnson', 'alice@email.com', 'New York', 'NY', '2023-01-15'),\n",
    "    (2, 'Bob Smith', 'bob@email.com', 'Los Angeles', 'CA', '2023-02-20'),\n",
    "    (3, 'Charlie Brown', 'charlie@email.com', 'Chicago', 'IL', '2023-01-10'),\n",
    "    (4, 'Diana Prince', 'diana@email.com', 'Houston', 'TX', '2023-03-05'),\n",
    "    (5, 'Edward Norton', 'edward@email.com', 'Phoenix', 'AZ', '2023-04-12'),\n",
    "    (6, 'Fiona Green', 'fiona@email.com', 'New York', 'NY', '2023-02-28'),\n",
    "    (7, 'George Wilson', 'george@email.com', 'Los Angeles', 'CA', '2023-05-01'),\n",
    "    (8, 'Helen Troy', 'helen@email.com', 'Chicago', 'IL', '2023-03-15')\n",
    "]\n",
    "\n",
    "cursor.executemany('INSERT INTO customers VALUES (?,?,?,?,?,?)', customers_data)\n",
    "\n",
    "# Insert products\n",
    "products_data = [\n",
    "    (101, 'Laptop Pro', 'Electronics', 1299.99),\n",
    "    (102, 'Wireless Mouse', 'Electronics', 29.99),\n",
    "    (103, 'Office Chair', 'Furniture', 249.99),\n",
    "    (104, 'Desk Lamp', 'Furniture', 45.99),\n",
    "    (105, 'Notebook Set', 'Stationery', 15.99),\n",
    "    (106, 'Coffee Maker', 'Appliances', 89.99),\n",
    "    (107, 'Water Bottle', 'Accessories', 19.99),\n",
    "    (108, 'Phone Stand', 'Electronics', 12.99)\n",
    "]\n",
    "\n",
    "cursor.executemany('INSERT INTO products VALUES (?,?,?,?)', products_data)\n",
    "\n",
    "# Insert orders\n",
    "orders_data = [\n",
    "    (1001, 1, 101, 1, '2024-01-05'),\n",
    "    (1002, 2, 102, 2, '2024-01-06'),\n",
    "    (1003, 1, 105, 3, '2024-01-07'),\n",
    "    (1004, 3, 103, 1, '2024-01-08'),\n",
    "    (1005, 4, 106, 1, '2024-01-09'),\n",
    "    (1006, 2, 101, 1, '2024-01-10'),\n",
    "    (1007, 5, 107, 4, '2024-01-11'),\n",
    "    (1008, 6, 102, 1, '2024-01-12'),\n",
    "    (1009, 3, 108, 2, '2024-01-13'),\n",
    "    (1010, 7, 104, 2, '2024-01-14'),\n",
    "    (1011, 1, 106, 1, '2024-01-15'),\n",
    "    (1012, 4, 102, 3, '2024-01-16'),\n",
    "    (1013, 8, 105, 5, '2024-01-17'),\n",
    "    (1014, 5, 103, 1, '2024-01-18'),\n",
    "    (1015, 2, 107, 2, '2024-01-19')\n",
    "]\n",
    "\n",
    "cursor.executemany('INSERT INTO orders VALUES (?,?,?,?,?)', orders_data)\n",
    "conn.commit()\n",
    "\n",
    "print(\"Sample data inserted successfully!\")\n",
    "print(f\"- {len(customers_data)} customers\")\n",
    "print(f\"- {len(products_data)} products\")\n",
    "print(f\"- {len(orders_data)} orders\")"
   ]
  },
  {
   "cell_type": "markdown",
   "metadata": {},
   "source": [
    "---\n",
    "\n",
    "## Part 2: Basic SELECT Statements\n",
    "**The Foundation of SQL Queries**"
   ]
  },
  {
   "cell_type": "markdown",
   "metadata": {},
   "source": [
    "### Example 1: SELECT All Columns\n",
    "The asterisk (*) means \"all columns\". This is the simplest query - just show me everything in the table."
   ]
  },
  {
   "cell_type": "code",
   "execution_count": null,
   "metadata": {},
   "outputs": [],
   "source": [
    "# SQL: SELECT * FROM customers\n",
    "query = \"SELECT * FROM customers\"\n",
    "result = pd.read_sql_query(query, conn)\n",
    "\n",
    "print(\"SQL Query:\", query)\n",
    "print(\"\\nResult:\")\n",
    "print(result)"
   ]
  },
  {
   "cell_type": "markdown",
   "metadata": {},
   "source": [
    "### Example 2: SELECT Specific Columns\n",
    "Usually you don't need all columns. Selecting only what you need makes queries faster and results cleaner."
   ]
  },
  {
   "cell_type": "code",
   "execution_count": null,
   "metadata": {},
   "outputs": [],
   "source": [
    "# SQL: SELECT specific columns\n",
    "query = \"SELECT name, city, state FROM customers\"\n",
    "result = pd.read_sql_query(query, conn)\n",
    "\n",
    "print(\"SQL Query:\", query)\n",
    "print(\"\\nResult:\")\n",
    "print(result)"
   ]
  },
  {
   "cell_type": "markdown",
   "metadata": {},
   "source": [
    "### Example 3: Using Column Aliases\n",
    "Aliases let you rename columns in your output. This is helpful for making results more readable or preparing data for reports."
   ]
  },
  {
   "cell_type": "code",
   "execution_count": null,
   "metadata": {},
   "outputs": [],
   "source": [
    "# SQL: Using aliases to rename columns\n",
    "query = \"\"\"\n",
    "SELECT \n",
    "    product_name AS Product,\n",
    "    category AS Type,\n",
    "    price AS 'Price ($)'\n",
    "FROM products\n",
    "\"\"\"\n",
    "result = pd.read_sql_query(query, conn)\n",
    "\n",
    "print(\"SQL Query:\", query)\n",
    "print(\"\\nResult:\")\n",
    "print(result)"
   ]
  },
  {
   "cell_type": "markdown",
   "metadata": {},
   "source": [
    "---\n",
    "\n",
    "## Part 3: Filtering with WHERE\n",
    "**Finding Specific Records**"
   ]
  },
  {
   "cell_type": "markdown",
   "metadata": {},
   "source": [
    "### Example 4: Simple WHERE Clause\n",
    "WHERE filters rows based on conditions. This is like applying a filter in Excel - only show me rows that match my criteria."
   ]
  },
  {
   "cell_type": "code",
   "execution_count": null,
   "metadata": {},
   "outputs": [],
   "source": [
    "# SQL: Filter with WHERE\n",
    "query = \"SELECT * FROM products WHERE category = 'Electronics'\"\n",
    "result = pd.read_sql_query(query, conn)\n",
    "\n",
    "print(\"SQL Query:\", query)\n",
    "print(\"\\nElectronics products only:\")\n",
    "print(result)"
   ]
  },
  {
   "cell_type": "markdown",
   "metadata": {},
   "source": [
    "### Example 5: Numeric Comparisons\n",
    "WHERE works with numeric comparisons too. You can use >, <, >=, <=, and != for filtering numbers."
   ]
  },
  {
   "cell_type": "code",
   "execution_count": null,
   "metadata": {},
   "outputs": [],
   "source": [
    "# SQL: Numeric comparison\n",
    "query = \"SELECT product_name, price FROM products WHERE price < 50\"\n",
    "result = pd.read_sql_query(query, conn)\n",
    "\n",
    "print(\"SQL Query:\", query)\n",
    "print(\"\\nProducts under $50:\")\n",
    "print(result)"
   ]
  },
  {
   "cell_type": "markdown",
   "metadata": {},
   "source": [
    "### Example 6: Multiple Conditions with AND/OR\n",
    "Combine conditions with AND (both must be true) or OR (either can be true). Parentheses help control the logic."
   ]
  },
  {
   "cell_type": "code",
   "execution_count": null,
   "metadata": {},
   "outputs": [],
   "source": [
    "# SQL: Multiple conditions with AND\n",
    "query = \"\"\"\n",
    "SELECT * FROM products \n",
    "WHERE category = 'Electronics' \n",
    "  AND price < 100\n",
    "\"\"\"\n",
    "result = pd.read_sql_query(query, conn)\n",
    "\n",
    "print(\"SQL Query:\", query)\n",
    "print(\"Affordable electronics (under $100):\")\n",
    "print(result)\n",
    "\n",
    "print(\"\\n\" + \"=\"*50 + \"\\n\")\n",
    "\n",
    "# SQL: Multiple conditions with OR\n",
    "query = \"\"\"\n",
    "SELECT * FROM customers \n",
    "WHERE city = 'New York' \n",
    "   OR city = 'Los Angeles'\n",
    "\"\"\"\n",
    "result = pd.read_sql_query(query, conn)\n",
    "\n",
    "print(\"SQL Query:\", query)\n",
    "print(\"\\nCustomers from NY or LA:\")\n",
    "print(result)"
   ]
  },
  {
   "cell_type": "markdown",
   "metadata": {},
   "source": [
    "### Example 7: Pattern Matching with LIKE\n",
    "LIKE allows pattern matching in text. The % symbol means \"any characters\" and _ means \"one character\"."
   ]
  },
  {
   "cell_type": "code",
   "execution_count": null,
   "metadata": {},
   "outputs": [],
   "source": [
    "# SQL: Pattern matching with LIKE\n",
    "query = \"SELECT * FROM customers WHERE email LIKE '%@email.com'\"\n",
    "result = pd.read_sql_query(query, conn)\n",
    "\n",
    "print(\"SQL Query:\", query)\n",
    "print(\"\\nCustomers with @email.com addresses:\")\n",
    "print(result[['name', 'email']])\n",
    "\n",
    "print(\"\\n\" + \"=\"*50 + \"\\n\")\n",
    "\n",
    "# Another LIKE example\n",
    "query = \"SELECT * FROM products WHERE product_name LIKE '%Chair%' OR product_name LIKE '%Desk%'\"\n",
    "result = pd.read_sql_query(query, conn)\n",
    "\n",
    "print(\"SQL Query:\", query)\n",
    "print(\"\\nFurniture items containing 'Chair' or 'Desk':\")\n",
    "print(result)"
   ]
  },
  {
   "cell_type": "markdown",
   "metadata": {},
   "source": [
    "---\n",
    "\n",
    "## Part 4: Sorting and Limiting Results\n",
    "**Organizing Your Query Results**"
   ]
  },
  {
   "cell_type": "markdown",
   "metadata": {},
   "source": [
    "### Example 8: ORDER BY for Sorting\n",
    "ORDER BY sorts your results. Default is ascending (ASC), but you can specify descending (DESC) for reverse order."
   ]
  },
  {
   "cell_type": "code",
   "execution_count": null,
   "metadata": {},
   "outputs": [],
   "source": [
    "# SQL: Sort by price (ascending)\n",
    "query = \"SELECT product_name, price FROM products ORDER BY price\"\n",
    "result = pd.read_sql_query(query, conn)\n",
    "\n",
    "print(\"SQL Query:\", query)\n",
    "print(\"\\nProducts from cheapest to most expensive:\")\n",
    "print(result)\n",
    "\n",
    "print(\"\\n\" + \"=\"*50 + \"\\n\")\n",
    "\n",
    "# SQL: Sort by price (descending)\n",
    "query = \"SELECT product_name, price FROM products ORDER BY price DESC\"\n",
    "result = pd.read_sql_query(query, conn)\n",
    "\n",
    "print(\"SQL Query:\", query)\n",
    "print(\"\\nProducts from most expensive to cheapest:\")\n",
    "print(result)"
   ]
  },
  {
   "cell_type": "markdown",
   "metadata": {},
   "source": [
    "### Example 9: LIMIT to Control Result Size\n",
    "LIMIT restricts how many rows are returned. Perfect for getting top N results or sampling data."
   ]
  },
  {
   "cell_type": "code",
   "execution_count": null,
   "metadata": {},
   "outputs": [],
   "source": [
    "# SQL: Get top 3 most expensive products\n",
    "query = \"\"\"\n",
    "SELECT product_name, price \n",
    "FROM products \n",
    "ORDER BY price DESC \n",
    "LIMIT 3\n",
    "\"\"\"\n",
    "result = pd.read_sql_query(query, conn)\n",
    "\n",
    "print(\"SQL Query:\", query)\n",
    "print(\"\\nTop 3 most expensive products:\")\n",
    "print(result)"
   ]
  },
  {
   "cell_type": "markdown",
   "metadata": {},
   "source": [
    "---\n",
    "\n",
    "## Part 5: Aggregation with GROUP BY\n",
    "**Summarizing Data**"
   ]
  },
  {
   "cell_type": "markdown",
   "metadata": {},
   "source": [
    "### Example 10: Basic Aggregation Functions\n",
    "SQL has built-in functions for calculations: COUNT, SUM, AVG, MIN, MAX. These work on entire tables or groups of rows."
   ]
  },
  {
   "cell_type": "code",
   "execution_count": null,
   "metadata": {},
   "outputs": [],
   "source": [
    "# SQL: Count total customers\n",
    "query = \"SELECT COUNT(*) as total_customers FROM customers\"\n",
    "result = pd.read_sql_query(query, conn)\n",
    "print(\"SQL Query:\", query)\n",
    "print(\"Result:\", result.iloc[0,0], \"customers\")\n",
    "\n",
    "print(\"\\n\" + \"=\"*50 + \"\\n\")\n",
    "\n",
    "# SQL: Statistics on product prices\n",
    "query = \"\"\"\n",
    "SELECT \n",
    "    COUNT(*) as product_count,\n",
    "    MIN(price) as cheapest,\n",
    "    MAX(price) as most_expensive,\n",
    "    AVG(price) as average_price,\n",
    "    SUM(price) as total_value\n",
    "FROM products\n",
    "\"\"\"\n",
    "result = pd.read_sql_query(query, conn)\n",
    "\n",
    "print(\"SQL Query:\", query)\n",
    "print(\"\\nProduct Statistics:\")\n",
    "for col in result.columns:\n",
    "    print(f\"{col}: ${result[col][0]:.2f}\")"
   ]
  },
  {
   "cell_type": "markdown",
   "metadata": {},
   "source": [
    "### Example 11: GROUP BY for Categories\n",
    "GROUP BY creates groups of rows that share values. Then you can apply aggregate functions to each group separately."
   ]
  },
  {
   "cell_type": "code",
   "execution_count": null,
   "metadata": {},
   "outputs": [],
   "source": [
    "# SQL: Group by category\n",
    "query = \"\"\"\n",
    "SELECT \n",
    "    category,\n",
    "    COUNT(*) as product_count,\n",
    "    AVG(price) as avg_price\n",
    "FROM products\n",
    "GROUP BY category\n",
    "ORDER BY avg_price DESC\n",
    "\"\"\"\n",
    "result = pd.read_sql_query(query, conn)\n",
    "\n",
    "print(\"SQL Query:\", query)\n",
    "print(\"\\nProducts by category:\")\n",
    "print(result)"
   ]
  },
  {
   "cell_type": "markdown",
   "metadata": {},
   "source": [
    "### Example 12: GROUP BY with Multiple Columns\n",
    "You can group by multiple columns to create more detailed breakdowns. This creates a hierarchy of groups."
   ]
  },
  {
   "cell_type": "code",
   "execution_count": null,
   "metadata": {},
   "outputs": [],
   "source": [
    "# SQL: Group by city and state\n",
    "query = \"\"\"\n",
    "SELECT \n",
    "    state,\n",
    "    city,\n",
    "    COUNT(*) as customer_count\n",
    "FROM customers\n",
    "GROUP BY state, city\n",
    "ORDER BY customer_count DESC\n",
    "\"\"\"\n",
    "result = pd.read_sql_query(query, conn)\n",
    "\n",
    "print(\"SQL Query:\", query)\n",
    "print(\"\\nCustomers by location:\")\n",
    "print(result)"
   ]
  },
  {
   "cell_type": "markdown",
   "metadata": {},
   "source": [
    "### Example 13: HAVING to Filter Groups\n",
    "HAVING is like WHERE but for groups. Use it to filter results after grouping, not individual rows."
   ]
  },
  {
   "cell_type": "code",
   "execution_count": null,
   "metadata": {},
   "outputs": [],
   "source": [
    "# SQL: Find categories with average price > $50\n",
    "query = \"\"\"\n",
    "SELECT \n",
    "    category,\n",
    "    COUNT(*) as product_count,\n",
    "    AVG(price) as avg_price\n",
    "FROM products\n",
    "GROUP BY category\n",
    "HAVING AVG(price) > 50\n",
    "\"\"\"\n",
    "result = pd.read_sql_query(query, conn)\n",
    "\n",
    "print(\"SQL Query:\", query)\n",
    "print(\"\\nCategories with average price over $50:\")\n",
    "print(result)"
   ]
  },
  {
   "cell_type": "markdown",
   "metadata": {},
   "source": [
    "---\n",
    "\n",
    "## Part 6: Joining Tables\n",
    "**Combining Data from Multiple Tables**"
   ]
  },
  {
   "cell_type": "markdown",
   "metadata": {},
   "source": [
    "### Example 14: INNER JOIN\n",
    "INNER JOIN combines rows from two tables where the join condition matches. This is the most common type of join."
   ]
  },
  {
   "cell_type": "code",
   "execution_count": null,
   "metadata": {},
   "outputs": [],
   "source": [
    "# SQL: Join orders with customer names\n",
    "query = \"\"\"\n",
    "SELECT \n",
    "    o.order_id,\n",
    "    c.name as customer_name,\n",
    "    o.order_date,\n",
    "    o.quantity\n",
    "FROM orders o\n",
    "INNER JOIN customers c ON o.customer_id = c.customer_id\n",
    "ORDER BY o.order_date\n",
    "LIMIT 10\n",
    "\"\"\"\n",
    "result = pd.read_sql_query(query, conn)\n",
    "\n",
    "print(\"SQL Query:\", query)\n",
    "print(\"\\nOrders with customer names:\")\n",
    "print(result)"
   ]
  },
  {
   "cell_type": "markdown",
   "metadata": {},
   "source": [
    "### Example 15: Multiple JOINs\n",
    "You can join multiple tables together to build complete pictures of your data. This combines customers, orders, and products."
   ]
  },
  {
   "cell_type": "code",
   "execution_count": null,
   "metadata": {},
   "outputs": [],
   "source": [
    "# SQL: Join all three tables\n",
    "query = \"\"\"\n",
    "SELECT \n",
    "    o.order_id,\n",
    "    c.name as customer,\n",
    "    p.product_name as product,\n",
    "    o.quantity,\n",
    "    p.price,\n",
    "    (o.quantity * p.price) as total_amount\n",
    "FROM orders o\n",
    "INNER JOIN customers c ON o.customer_id = c.customer_id\n",
    "INNER JOIN products p ON o.product_id = p.product_id\n",
    "ORDER BY total_amount DESC\n",
    "LIMIT 10\n",
    "\"\"\"\n",
    "result = pd.read_sql_query(query, conn)\n",
    "\n",
    "print(\"SQL Query:\", query)\n",
    "print(\"\\nComplete order details with calculated totals:\")\n",
    "print(result)"
   ]
  },
  {
   "cell_type": "markdown",
   "metadata": {},
   "source": [
    "### Example 16: LEFT JOIN\n",
    "LEFT JOIN keeps all rows from the left table, even if there's no match in the right table. Useful for finding missing relationships."
   ]
  },
  {
   "cell_type": "code",
   "execution_count": null,
   "metadata": {},
   "outputs": [],
   "source": [
    "# First, let's add a customer with no orders\n",
    "cursor.execute(\"INSERT INTO customers VALUES (9, 'Zara Young', 'zara@email.com', 'Boston', 'MA', '2024-01-01')\")\n",
    "conn.commit()\n",
    "\n",
    "# SQL: Find customers and their order counts (including those with no orders)\n",
    "query = \"\"\"\n",
    "SELECT \n",
    "    c.name,\n",
    "    COUNT(o.order_id) as order_count\n",
    "FROM customers c\n",
    "LEFT JOIN orders o ON c.customer_id = o.customer_id\n",
    "GROUP BY c.customer_id, c.name\n",
    "ORDER BY order_count DESC\n",
    "\"\"\"\n",
    "result = pd.read_sql_query(query, conn)\n",
    "\n",
    "print(\"SQL Query:\", query)\n",
    "print(\"\\nAll customers with their order counts:\")\n",
    "print(result)\n",
    "print(\"\\nNotice: Zara Young has 0 orders (LEFT JOIN kept her in results)\")"
   ]
  },
  {
   "cell_type": "markdown",
   "metadata": {},
   "source": [
    "---\n",
    "\n",
    "## Part 7: Complex Queries\n",
    "**Putting It All Together**"
   ]
  },
  {
   "cell_type": "markdown",
   "metadata": {},
   "source": [
    "### Example 17: Business Intelligence Query\n",
    "Real-world queries combine multiple concepts. This query finds our best customers by total spending."
   ]
  },
  {
   "cell_type": "code",
   "execution_count": null,
   "metadata": {},
   "outputs": [],
   "source": [
    "# SQL: Find top customers by total spending\n",
    "query = \"\"\"\n",
    "SELECT \n",
    "    c.name as customer_name,\n",
    "    c.city,\n",
    "    c.state,\n",
    "    COUNT(DISTINCT o.order_id) as total_orders,\n",
    "    SUM(o.quantity) as total_items,\n",
    "    SUM(o.quantity * p.price) as total_spent\n",
    "FROM customers c\n",
    "INNER JOIN orders o ON c.customer_id = o.customer_id\n",
    "INNER JOIN products p ON o.product_id = p.product_id\n",
    "GROUP BY c.customer_id, c.name, c.city, c.state\n",
    "HAVING total_spent > 100\n",
    "ORDER BY total_spent DESC\n",
    "\"\"\"\n",
    "result = pd.read_sql_query(query, conn)\n",
    "\n",
    "print(\"SQL Query:\", query)\n",
    "print(\"\\nTop customers by spending:\")\n",
    "print(result)"
   ]
  },
  {
   "cell_type": "markdown",
   "metadata": {},
   "source": [
    "### Example 18: Category Performance Analysis\n",
    "This query analyzes which product categories are performing best, combining multiple tables and calculations."
   ]
  },
  {
   "cell_type": "code",
   "execution_count": null,
   "metadata": {},
   "outputs": [],
   "source": [
    "# SQL: Category performance analysis\n",
    "query = \"\"\"\n",
    "SELECT \n",
    "    p.category,\n",
    "    COUNT(DISTINCT o.order_id) as number_of_orders,\n",
    "    SUM(o.quantity) as units_sold,\n",
    "    SUM(o.quantity * p.price) as revenue,\n",
    "    AVG(o.quantity * p.price) as avg_order_value\n",
    "FROM products p\n",
    "INNER JOIN orders o ON p.product_id = o.product_id\n",
    "GROUP BY p.category\n",
    "ORDER BY revenue DESC\n",
    "\"\"\"\n",
    "result = pd.read_sql_query(query, conn)\n",
    "\n",
    "print(\"SQL Query:\", query)\n",
    "print(\"\\nCategory Performance Report:\")\n",
    "print(result)"
   ]
  },
  {
   "cell_type": "markdown",
   "metadata": {},
   "source": [
    "### Example 19: SQL vs Pandas Comparison\n",
    "Let's see how the same analysis looks in both SQL and pandas. This helps you understand both approaches."
   ]
  },
  {
   "cell_type": "code",
   "execution_count": null,
   "metadata": {},
   "outputs": [],
   "source": [
    "# First, load all data into pandas DataFrames\n",
    "customers_df = pd.read_sql_query(\"SELECT * FROM customers\", conn)\n",
    "products_df = pd.read_sql_query(\"SELECT * FROM products\", conn)\n",
    "orders_df = pd.read_sql_query(\"SELECT * FROM orders\", conn)\n",
    "\n",
    "print(\"=\" * 60)\n",
    "print(\"SAME ANALYSIS: SQL vs PANDAS\")\n",
    "print(\"=\" * 60)\n",
    "\n",
    "# SQL approach\n",
    "print(\"\\nSQL APPROACH:\")\n",
    "sql_query = \"\"\"\n",
    "SELECT category, AVG(price) as avg_price \n",
    "FROM products \n",
    "GROUP BY category\n",
    "\"\"\"\n",
    "sql_result = pd.read_sql_query(sql_query, conn)\n",
    "print(sql_result)\n",
    "\n",
    "# Pandas approach\n",
    "print(\"\\nPANDAS APPROACH:\")\n",
    "pandas_result = products_df.groupby('category')['price'].mean().reset_index()\n",
    "pandas_result.columns = ['category', 'avg_price']\n",
    "print(pandas_result)\n",
    "\n",
    "print(\"\\nBoth give the same result!\")"
   ]
  },
  {
   "cell_type": "markdown",
   "metadata": {},
   "source": [
    "### Cleanup\n",
    "Close the database connection when done."
   ]
  },
  {
   "cell_type": "code",
   "execution_count": null,
   "metadata": {},
   "outputs": [],
   "source": [
    "# Close the connection\n",
    "conn.close()\n",
    "print(\"Database connection closed.\")"
   ]
  }
 ],
 "metadata": {
  "kernelspec": {
   "display_name": "Python 3",
   "language": "python",
   "name": "python3"
  },
  "language_info": {
   "codemirror_mode": {
    "name": "ipython",
    "version": 3
   },
   "file_extension": ".py",
   "mimetype": "text/x-python",
   "name": "python",
   "nbconvert_exporter": "python",
   "pygments_lexer": "ipython3",
   "version": "3.8.0"
  }
 },
 "nbformat": 4,
 "nbformat_minor": 4
}