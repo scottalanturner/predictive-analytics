{
 "cells": [
  {
   "cell_type": "markdown",
   "metadata": {},
   "source": [
    "# Module 2, Lesson 1: Understanding Data Types"
   ]
  },
  {
   "cell_type": "markdown",
   "metadata": {},
   "source": [
    "## Setup"
   ]
  },
  {
   "cell_type": "code",
   "execution_count": null,
   "metadata": {},
   "outputs": [],
   "source": [
    "import pandas as pd\n",
    "import numpy as np\n",
    "import sys\n",
    "\n",
    "print(\"Python version:\", sys.version[:5])\n",
    "print(\"Pandas version:\", pd.__version__)\n",
    "print(\"NumPy version:\", np.__version__)"
   ]
  },
  {
   "cell_type": "markdown",
   "metadata": {},
   "source": [
    "---\n",
    "\n",
    "## Part 1: Python's Basic Data Types\n",
    "**The Data Type Foundation**"
   ]
  },
  {
   "cell_type": "markdown",
   "metadata": {},
   "source": [
    "### Example 1: Same Value, Different Types\n",
    "This example shows how the same value behaves completely differently depending on its data type. We'll store the number 42 three different ways and see what happens when we try to use them."
   ]
  },
  {
   "cell_type": "code",
   "execution_count": null,
   "metadata": {},
   "outputs": [],
   "source": [
    "# The same number stored different ways behaves differently\n",
    "number_as_int = 42\n",
    "number_as_float = 42.0\n",
    "number_as_string = \"42\"\n",
    "\n",
    "print(\"Integer:\", number_as_int, \"→ Type:\", type(number_as_int))\n",
    "print(\"Float:  \", number_as_float, \"→ Type:\", type(number_as_float))\n",
    "print(\"String: \", number_as_string, \"→ Type:\", type(number_as_string))\n",
    "print()\n",
    "\n",
    "# Why does this matter? Let's try to do math:\n",
    "print(\"Integer + Integer:\", number_as_int + number_as_int)\n",
    "print(\"Float + Float:\", number_as_float + number_as_float)\n",
    "print(\"String + String:\", number_as_string + number_as_string)  # Surprise!"
   ]
  },
  {
   "cell_type": "markdown",
   "metadata": {},
   "source": [
    "### Example 2: Real-World Type Error\n",
    "This demonstrates a common mistake where sales data is accidentally stored as text instead of numbers. This happens often when importing data from spreadsheets or web forms."
   ]
  },
  {
   "cell_type": "code",
   "execution_count": null,
   "metadata": {},
   "outputs": [],
   "source": [
    "# The danger of wrong types - a real-world scenario\n",
    "sales_good = 100\n",
    "sales_bad = \"100\"\n",
    "\n",
    "# This works\n",
    "total_good = sales_good * 3\n",
    "print(f\"Correct: 100 * 3 = {total_good}\")\n",
    "\n",
    "# This doesn't do what you expect\n",
    "total_bad = sales_bad * 3\n",
    "print(f\"Wrong type: '100' * 3 = {total_bad}\")"
   ]
  },
  {
   "cell_type": "markdown",
   "metadata": {},
   "source": [
    "---\n",
    "\n",
    "## Part 2: Structured vs Unstructured Data\n",
    "**Two Fundamental Categories**"
   ]
  },
  {
   "cell_type": "markdown",
   "metadata": {},
   "source": [
    "### Example 3: Structured Data\n",
    "Structured data fits neatly into rows and columns. This example shows customer data in a DataFrame where we can instantly calculate statistics and find insights."
   ]
  },
  {
   "cell_type": "code",
   "execution_count": null,
   "metadata": {},
   "outputs": [],
   "source": [
    "# STRUCTURED DATA - Easy to analyze\n",
    "customers = pd.DataFrame({\n",
    "    'customer_id': [1001, 1002, 1003, 1004, 1005],\n",
    "    'name': ['Alice Brown', 'Bob Smith', 'Charlie Lee', 'Diana Ross', 'Eve Wilson'],\n",
    "    'age': [25, 32, 28, 45, 38],\n",
    "    'spending': [1200.50, 850.00, 2100.75, 950.25, 1850.00]\n",
    "})\n",
    "\n",
    "print(\"STRUCTURED DATA (DataFrame):\")\n",
    "print(customers)\n",
    "print()\n",
    "\n",
    "# Instant analysis possible:\n",
    "print(f\"Average age: {customers['age'].mean():.1f} years\")\n",
    "print(f\"Total revenue: ${customers['spending'].sum():,.2f}\")\n",
    "print(f\"Biggest spender: {customers.loc[customers['spending'].idxmax(), 'name']}\")"
   ]
  },
  {
   "cell_type": "markdown",
   "metadata": {},
   "source": [
    "### Example 4: Unstructured Data\n",
    "Unstructured data like customer reviews contains valuable information but can't be directly analyzed with standard mathematical operations. This shows why text mining and NLP are separate fields."
   ]
  },
  {
   "cell_type": "code",
   "execution_count": null,
   "metadata": {},
   "outputs": [],
   "source": [
    "# UNSTRUCTURED DATA - Requires processing\n",
    "customer_reviews = [\n",
    "    \"This product is amazing! Best purchase ever.\",\n",
    "    \"Terrible quality. Broke after 2 days.\",\n",
    "    \"Good value for money. Would recommend.\",\n",
    "]\n",
    "\n",
    "print(\"UNSTRUCTURED DATA (Text):\")\n",
    "for i, review in enumerate(customer_reviews, 1):\n",
    "    print(f\"Review {i}: {review}\")\n",
    "print()\n",
    "\n",
    "# Can't directly calculate average sentiment or extract insights\n",
    "# Would need text processing, sentiment analysis, etc.\n",
    "print(\"Notice: Can't easily calculate statistics from text!\")"
   ]
  },
  {
   "cell_type": "markdown",
   "metadata": {},
   "source": [
    "### Example 5: Semi-Structured Data\n",
    "JSON data from APIs is semi-structured - it has organization but isn't immediately ready for analysis. This example shows how we extract the parts we need into a structured format."
   ]
  },
  {
   "cell_type": "code",
   "execution_count": null,
   "metadata": {},
   "outputs": [],
   "source": [
    "# SEMI-STRUCTURED DATA - In between\n",
    "order_json = {\n",
    "    \"order_id\": 12345,\n",
    "    \"customer\": {\n",
    "        \"name\": \"John Doe\",\n",
    "        \"email\": \"john@example.com\"\n",
    "    },\n",
    "    \"items\": [\n",
    "        {\"product\": \"Laptop\", \"price\": 999.99},\n",
    "        {\"product\": \"Mouse\", \"price\": 29.99}\n",
    "    ]\n",
    "}\n",
    "\n",
    "print(\"SEMI-STRUCTURED DATA (JSON):\")\n",
    "print(order_json)\n",
    "print()\n",
    "\n",
    "# Can extract structured parts:\n",
    "items_df = pd.DataFrame(order_json['items'])\n",
    "print(\"Extracted items as structured data:\")\n",
    "print(items_df)\n",
    "print(f\"Order total: ${items_df['price'].sum():.2f}\")"
   ]
  },
  {
   "cell_type": "markdown",
   "metadata": {},
   "source": [
    "---\n",
    "\n",
    "## Part 3: Data Types in Pandas\n",
    "**How Pandas Represents Different Data**"
   ]
  },
  {
   "cell_type": "markdown",
   "metadata": {},
   "source": [
    "### Example 6: Pandas Data Types Overview\n",
    "This example creates a realistic employee dataset showing all the main pandas data types you'll work with: integers, floats, strings, dates, booleans, and categories."
   ]
  },
  {
   "cell_type": "code",
   "execution_count": null,
   "metadata": {},
   "outputs": [],
   "source": [
    "# Create a DataFrame with various data types\n",
    "df = pd.DataFrame({\n",
    "    'employee_id': [1001, 1002, 1003, 1004],\n",
    "    'name': ['Alice', 'Bob', 'Charlie', 'Diana'],\n",
    "    'salary': [75000.50, 82000.00, 68500.75, 91000.00],\n",
    "    'start_date': pd.to_datetime(['2022-01-15', '2021-06-01', '2023-03-20', '2020-11-10']),\n",
    "    'is_active': [True, True, False, True],\n",
    "    'department': pd.Categorical(['Sales', 'IT', 'Sales', 'HR'])\n",
    "})\n",
    "\n",
    "print(\"DataFrame with multiple data types:\")\n",
    "print(df)\n",
    "print(\"\\nData types for each column:\")\n",
    "print(df.dtypes)"
   ]
  },
  {
   "cell_type": "markdown",
   "metadata": {},
   "source": [
    "### Example 7: Memory Efficiency with Categories\n",
    "Categories are a special pandas type for text that repeats. This example shows how using categories instead of strings can save significant memory - important when working with large datasets."
   ]
  },
  {
   "cell_type": "code",
   "execution_count": null,
   "metadata": {},
   "outputs": [],
   "source": [
    "# Memory usage comparison\n",
    "print(\"Memory usage by data type:\")\n",
    "print(df.memory_usage(deep=True))\n",
    "print()\n",
    "\n",
    "# Convert department from category back to string to see difference\n",
    "df_inefficient = df.copy()\n",
    "df_inefficient['department'] = df_inefficient['department'].astype(str)\n",
    "\n",
    "print(f\"Category memory: {df['department'].memory_usage(deep=True)} bytes\")\n",
    "print(f\"String memory: {df_inefficient['department'].memory_usage(deep=True)} bytes\")\n",
    "print(f\"Savings: {df_inefficient['department'].memory_usage(deep=True) - df['department'].memory_usage(deep=True)} bytes\")"
   ]
  },
  {
   "cell_type": "markdown",
   "metadata": {},
   "source": [
    "---\n",
    "\n",
    "## Part 4: Common Data Type Problems\n",
    "**What Happens When Types Are Wrong**"
   ]
  },
  {
   "cell_type": "markdown",
   "metadata": {},
   "source": [
    "### Example 8: Numeric Data Stored as Strings\n",
    "This is one of the most common data problems - numbers that look right but are actually text. This example shows the error you'll get and how to fix it."
   ]
  },
  {
   "cell_type": "code",
   "execution_count": null,
   "metadata": {},
   "outputs": [],
   "source": [
    "# Problem 1: Numbers stored as strings\n",
    "bad_data = pd.DataFrame({\n",
    "    'product': ['Laptop', 'Phone', 'Tablet'],\n",
    "    'price': ['999.99', '699.99', '499.99'],  # Stored as strings!\n",
    "    'quantity': [5, 10, 7]\n",
    "})\n",
    "\n",
    "print(\"Data with price as string:\")\n",
    "print(bad_data)\n",
    "print(bad_data.dtypes)\n",
    "print()\n",
    "\n",
    "# Try to calculate revenue\n",
    "try:\n",
    "    revenue = bad_data['price'] * bad_data['quantity']\n",
    "except TypeError as e:\n",
    "    print(f\"ERROR: {e}\")\n",
    "    print(\"Can't multiply string by integer!\")"
   ]
  },
  {
   "cell_type": "markdown",
   "metadata": {},
   "source": [
    "### Example 9: Fixing Numeric Type Issues\n",
    "Here we fix the string-number problem using pd.to_numeric(). After conversion, all our calculations work correctly."
   ]
  },
  {
   "cell_type": "code",
   "execution_count": null,
   "metadata": {},
   "outputs": [],
   "source": [
    "# Fix the problem\n",
    "bad_data['price'] = pd.to_numeric(bad_data['price'])\n",
    "bad_data['revenue'] = bad_data['price'] * bad_data['quantity']\n",
    "\n",
    "print(\"\\nAfter fixing data type:\")\n",
    "print(bad_data)\n",
    "print(f\"\\nTotal revenue: ${bad_data['revenue'].sum():,.2f}\")"
   ]
  },
  {
   "cell_type": "markdown",
   "metadata": {},
   "source": [
    "### Example 10: Date Strings vs DateTime Objects\n",
    "Dates often come as strings, which prevents time-based calculations. This example shows why converting to datetime is essential for any time series analysis."
   ]
  },
  {
   "cell_type": "code",
   "execution_count": null,
   "metadata": {},
   "outputs": [],
   "source": [
    "# Problem 2: Dates stored as strings\n",
    "date_problems = pd.DataFrame({\n",
    "    'event': ['Launch', 'Update', 'Review'],\n",
    "    'date': ['2024-01-15', '2024-02-20', '2024-03-10']  # Just strings!\n",
    "})\n",
    "\n",
    "print(\"Dates as strings:\")\n",
    "print(date_problems)\n",
    "print(f\"Date column type: {date_problems['date'].dtype}\")\n",
    "print()\n",
    "\n",
    "# Can't do date math\n",
    "try:\n",
    "    days_since = pd.Timestamp.now() - date_problems['date']\n",
    "except TypeError:\n",
    "    print(\"ERROR: Can't subtract string from timestamp!\")"
   ]
  },
  {
   "cell_type": "markdown",
   "metadata": {},
   "source": [
    "### Example 11: Converting and Using DateTime\n",
    "After converting strings to datetime objects, we can perform date arithmetic, extract components like day of week, and do time-based filtering."
   ]
  },
  {
   "cell_type": "code",
   "execution_count": null,
   "metadata": {},
   "outputs": [],
   "source": [
    "# Fix by converting to datetime\n",
    "date_problems['date'] = pd.to_datetime(date_problems['date'])\n",
    "date_problems['days_ago'] = (pd.Timestamp.now() - date_problems['date']).dt.days\n",
    "\n",
    "print(\"\\nAfter converting to datetime:\")\n",
    "print(date_problems)\n",
    "print(f\"\\nNow we can do time calculations!\")"
   ]
  },
  {
   "cell_type": "markdown",
   "metadata": {},
   "source": [
    "---\n",
    "\n",
    "## Part 5: Data Type Detection and Inference\n",
    "**How Pandas Guesses Types and When It Gets It Wrong**"
   ]
  },
  {
   "cell_type": "markdown",
   "metadata": {},
   "source": [
    "### Example 12: Automatic Type Detection\n",
    "Pandas tries to be smart about detecting data types, but it's conservative. This example shows what pandas can figure out automatically and where it plays it safe."
   ]
  },
  {
   "cell_type": "code",
   "execution_count": null,
   "metadata": {},
   "outputs": [],
   "source": [
    "# Pandas tries to infer types when reading data\n",
    "data = {\n",
    "    'A': [1, 2, 3, 4],                    # Will be int64\n",
    "    'B': [1.0, 2.5, 3.7, 4.2],           # Will be float64\n",
    "    'C': ['x', 'y', 'z', 'w'],           # Will be object (string)\n",
    "    'D': [True, False, True, False],      # Will be bool\n",
    "    'E': ['1', '2', '3', '4'],           # Will be object (string) - not int!\n",
    "}\n",
    "\n",
    "df_inferred = pd.DataFrame(data)\n",
    "print(\"Pandas type inference:\")\n",
    "print(df_inferred)\n",
    "print(\"\\nInferred types:\")\n",
    "print(df_inferred.dtypes)\n",
    "print(\"\\nNotice column E is string, not integer!\")"
   ]
  },
  {
   "cell_type": "markdown",
   "metadata": {},
   "source": [
    "### Example 13: Mixed Type Columns\n",
    "When a column has mixed types, pandas defaults to 'object' type and many operations fail. This example shows how to identify and handle mixed-type columns."
   ]
  },
  {
   "cell_type": "code",
   "execution_count": null,
   "metadata": {},
   "outputs": [],
   "source": [
    "# Mixed types cause problems\n",
    "mixed_data = pd.DataFrame({\n",
    "    'values': [1, 2, '3', 4, 5.0, 'six', 7, 8, 9, 10]\n",
    "})\n",
    "\n",
    "print(\"Mixed type column:\")\n",
    "print(mixed_data)\n",
    "print(f\"Type: {mixed_data['values'].dtype}\")  # Object (generic)\n",
    "print()\n",
    "\n",
    "# Try to calculate mean - this will fail\n",
    "try:\n",
    "    mean_value = mixed_data['values'].mean()\n",
    "except TypeError:\n",
    "    print(\"ERROR: Can't calculate mean with mixed types!\")\n",
    "    \n",
    "# Check what's numeric\n",
    "mixed_data['is_numeric'] = pd.to_numeric(mixed_data['values'], errors='coerce').notna()\n",
    "print(\"\\nWhich values are numeric?\")\n",
    "print(mixed_data)"
   ]
  },
  {
   "cell_type": "markdown",
   "metadata": {},
   "source": [
    "### Example 14: Explicit Type Specification\n",
    "The safest approach is to explicitly specify data types when reading data. This example compares automatic detection with explicit type specification, showing how the latter prevents problems."
   ]
  },
  {
   "cell_type": "code",
   "execution_count": null,
   "metadata": {},
   "outputs": [],
   "source": [
    "# Best practice: Explicitly set types when reading data\n",
    "from io import StringIO\n",
    "\n",
    "csv_data = \"\"\"id,amount,date,category\n",
    "1001,29.99,2024-01-15,Electronics\n",
    "1002,45.50,2024-01-16,Clothing\n",
    "1003,15.00,2024-01-17,Food\"\"\"\n",
    "\n",
    "# Without specifying types\n",
    "df_auto = pd.read_csv(StringIO(csv_data))\n",
    "print(\"Automatic type detection:\")\n",
    "print(df_auto.dtypes)\n",
    "print()\n",
    "\n",
    "# With explicit types\n",
    "df_explicit = pd.read_csv(\n",
    "    StringIO(csv_data),\n",
    "    dtype={'id': 'int32', 'category': 'category'},\n",
    "    parse_dates=['date']\n",
    ")\n",
    "print(\"Explicit type specification:\")\n",
    "print(df_explicit.dtypes)\n",
    "print()\n",
    "print(\"Benefits: Less memory, faster operations, prevents errors!\")"
   ]
  }
 ],
 "metadata": {
  "kernelspec": {
   "display_name": "Python 3",
   "language": "python",
   "name": "python3"
  },
  "language_info": {
   "codemirror_mode": {
    "name": "ipython",
    "version": 3
   },
   "file_extension": ".py",
   "mimetype": "text/x-python",
   "name": "python",
   "nbconvert_exporter": "python",
   "pygments_lexer": "ipython3",
   "version": "3.8.0"
  }
 },
 "nbformat": 4,
 "nbformat_minor": 4
}